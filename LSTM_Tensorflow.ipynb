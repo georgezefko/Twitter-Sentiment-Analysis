{
  "nbformat": 4,
  "nbformat_minor": 0,
  "metadata": {
    "colab": {
      "name": "Text_Classification_LSTM_Tensorflow.ipynb",
      "provenance": [],
      "authorship_tag": "ABX9TyORGHOMTL1xe4dyHh2aEoTb",
      "include_colab_link": true
    },
    "kernelspec": {
      "name": "python3",
      "display_name": "Python 3"
    }
  },
  "cells": [
    {
      "cell_type": "markdown",
      "metadata": {
        "id": "view-in-github",
        "colab_type": "text"
      },
      "source": [
        "<a href=\"https://colab.research.google.com/github/georgezefko/Twitter-Sentiment-Analysis/blob/main/LSTM_Tensorflow.ipynb\" target=\"_parent\"><img src=\"https://colab.research.google.com/assets/colab-badge.svg\" alt=\"Open In Colab\"/></a>"
      ]
    },
    {
      "cell_type": "code",
      "metadata": {
        "colab": {
          "base_uri": "https://localhost:8080/"
        },
        "id": "c6UJCfelBi6Q",
        "outputId": "d71e5421-932c-402b-c906-d604d021a6cb"
      },
      "source": [
        "import pandas as pd\n",
        "import re\n",
        "import numpy as np\n",
        "import matplotlib.pyplot as plt\n",
        "from nltk.tokenize import word_tokenize\n",
        "from nltk.stem.porter import PorterStemmer\n",
        "from nltk.stem import WordNetLemmatizer\n",
        "import seaborn as sns\n",
        "from collections import Counter\n",
        "import nltk\n",
        "nltk.download('stopwords')\n",
        "from nltk.corpus import stopwords\n",
        "nltk.download('wordnet')\n",
        "nltk.download('punkt')\n",
        "nltk.download('averaged_perceptron_tagger') \n",
        "from nltk import sent_tokenize\n",
        "from sklearn.utils import resample\n",
        "import unicodedata\n",
        "import string\n",
        "np.random.seed(0)\n",
        "from keras.models import Model\n",
        "from keras.layers import Dense, Input, Dropout, LSTM, Activation,Bidirectional\n",
        "from keras.layers.embeddings import Embedding\n",
        "from keras.preprocessing import sequence\n",
        "from keras.initializers import glorot_uniform\n",
        "np.random.seed(1)"
      ],
      "execution_count": 1,
      "outputs": [
        {
          "output_type": "stream",
          "text": [
            "[nltk_data] Downloading package stopwords to /root/nltk_data...\n",
            "[nltk_data]   Unzipping corpora/stopwords.zip.\n",
            "[nltk_data] Downloading package wordnet to /root/nltk_data...\n",
            "[nltk_data]   Unzipping corpora/wordnet.zip.\n",
            "[nltk_data] Downloading package punkt to /root/nltk_data...\n",
            "[nltk_data]   Unzipping tokenizers/punkt.zip.\n",
            "[nltk_data] Downloading package averaged_perceptron_tagger to\n",
            "[nltk_data]     /root/nltk_data...\n",
            "[nltk_data]   Unzipping taggers/averaged_perceptron_tagger.zip.\n"
          ],
          "name": "stdout"
        }
      ]
    },
    {
      "cell_type": "code",
      "metadata": {
        "colab": {
          "base_uri": "https://localhost:8080/"
        },
        "id": "iabKw2PHB-DM",
        "outputId": "c42dac14-f8e8-4343-8e70-66c8c83be0e5"
      },
      "source": [
        "from google.colab import drive\n",
        "drive.mount('/content/drive', force_remount=True)"
      ],
      "execution_count": 2,
      "outputs": [
        {
          "output_type": "stream",
          "text": [
            "Mounted at /content/drive\n"
          ],
          "name": "stdout"
        }
      ]
    },
    {
      "cell_type": "code",
      "metadata": {
        "id": "sUUoXev7CIgE"
      },
      "source": [
        "train_data = '/content/drive/MyDrive/disaster_tweet/'\n",
        "train = pd.read_csv(train_data+'train.csv')\n",
        "test = pd.read_csv(train_data+'test.csv')"
      ],
      "execution_count": 11,
      "outputs": []
    },
    {
      "cell_type": "code",
      "metadata": {
        "id": "c-10FBFBCLky"
      },
      "source": [
        "#save only the text and target data drop the unnecessary columns\n",
        "train = train.drop(['id','keyword','location'], axis=1)\n",
        "test = test.drop(['id','keyword','location'], axis=1)"
      ],
      "execution_count": 12,
      "outputs": []
    },
    {
      "cell_type": "code",
      "metadata": {
        "id": "rOEoMQqGCPe1"
      },
      "source": [
        "STOPWORDS = nltk.corpus.stopwords.words('english')\n",
        "\n",
        "def clean_text(text):\n",
        "    \"\"\"\n",
        "    Applies some pre-processing on the given text.\n",
        "\n",
        "    Steps :\n",
        "    - Removing HTML tags\n",
        "    - Removing punctuation\n",
        "    - Lowering text\n",
        "    \"\"\"\n",
        "    emoji_pattern = re.compile(\"[\"\n",
        "                           u\"\\U0001F600-\\U0001F64F\"  # emoticons\n",
        "                           u\"\\U0001F300-\\U0001F5FF\"  # symbols & pictographs\n",
        "                           u\"\\U0001F680-\\U0001F6FF\"  # transport & map symbols\n",
        "                           u\"\\U0001F1E0-\\U0001F1FF\"  # flags (iOS)\n",
        "                           u\"\\U00002702-\\U000027B0\"\n",
        "                           u\"\\U000024C2-\\U0001F251\"\n",
        "                           \"]+\", flags=re.UNICODE)\n",
        "    \n",
        "    # remove HTML tags\n",
        "    text = re.sub(r'<.*?>', '', text)\n",
        "    \n",
        "    # remove the characters [\\], ['] and [\"]\n",
        "    text = re.sub(r\"\\\\\", \"\", text)    \n",
        "    text = re.sub(r\"\\'\", \"\", text)    \n",
        "    text = re.sub(r\"\\\"\", \"\", text)\n",
        "    text = re.sub(r\"http\\S+\", \"\", text)\n",
        "    text = re.sub('[0-9]+', '', text)\n",
        "    text = re.sub(r'\\b\\w\\b', ' ', text)\n",
        "    text = re.sub('@[^\\s]+','',text)\n",
        "    text = emoji_pattern.sub(r'', text)       \n",
        "    \n",
        "    # convert text to lowercase\n",
        "    text = text.strip().lower()\n",
        "    \n",
        "    # replace punctuation characters with spaces\n",
        "    filters='!\"\\'#$%&()*+,-./:;<=>?@[\\\\]^_`{|}~\\t\\n'\n",
        "    translate_dict = dict((c, \" \") for c in filters)\n",
        "    translate_map = str.maketrans(translate_dict)\n",
        "    text = text.translate(translate_map)\n",
        "    text = ' '.join(word for word in text.split() if word not in STOPWORDS if len(word)>=3) # remove stopwords from text\n",
        "\n",
        "    return text\n",
        "\n",
        "\n",
        "def tokenize(text):\n",
        "  tokens = nltk.word_tokenize(text)\n",
        "  return tokens\n",
        "\n",
        "lemmatizer = WordNetLemmatizer()\n",
        "def lemmatize(text):\n",
        "  lem_list = [lemmatizer.lemmatize(word) for word in text]\n",
        "  return lem_list\n",
        "\n",
        "def rejoin_words(text):\n",
        "  joined_words = (\" \".join(text))\n",
        "  return joined_words"
      ],
      "execution_count": 5,
      "outputs": []
    },
    {
      "cell_type": "code",
      "metadata": {
        "id": "5dPe9rk6CRFm"
      },
      "source": [
        "train['text']=train['text'].apply(clean_text)\n",
        "train['text']=train['text'].apply(tokenize)\n",
        "train['text']=train['text'].apply(lemmatize)\n",
        "train['text']=train['text'].apply(rejoin_words)"
      ],
      "execution_count": 13,
      "outputs": []
    },
    {
      "cell_type": "code",
      "metadata": {
        "id": "bVuQ2BhUCaTl"
      },
      "source": [
        "train_sentences = train['text'].values\n",
        "train_labels = train['target'].values"
      ],
      "execution_count": 14,
      "outputs": []
    },
    {
      "cell_type": "code",
      "metadata": {
        "id": "Ie15AfMpCZ9u"
      },
      "source": [
        "from sklearn.model_selection import train_test_split\n",
        "X_train, X_valid, y_train, y_valid = train_test_split(train_sentences, train_labels, test_size=0.2)"
      ],
      "execution_count": 15,
      "outputs": []
    },
    {
      "cell_type": "code",
      "metadata": {
        "id": "8ucJzEbsF2mO"
      },
      "source": [
        "maxLen = len(max(X_train, key=len).split())"
      ],
      "execution_count": 16,
      "outputs": []
    },
    {
      "cell_type": "code",
      "metadata": {
        "colab": {
          "base_uri": "https://localhost:8080/"
        },
        "id": "A2NvgockXWSr",
        "outputId": "b35522f3-c745-4f32-d986-7b4a443f0758"
      },
      "source": [
        "maxLen"
      ],
      "execution_count": 17,
      "outputs": [
        {
          "output_type": "execute_result",
          "data": {
            "text/plain": [
              "21"
            ]
          },
          "metadata": {
            "tags": []
          },
          "execution_count": 17
        }
      ]
    },
    {
      "cell_type": "code",
      "metadata": {
        "id": "YBCkT0zsClzA"
      },
      "source": [
        "def read_glove_vecs(glove_file):\n",
        "    with open(glove_file, 'r') as f:\n",
        "        words = set()\n",
        "        word_to_vec_map = {}\n",
        "        for line in f:\n",
        "            line = line.strip().split()\n",
        "            curr_word = line[0]\n",
        "            words.add(curr_word)\n",
        "            word_to_vec_map[curr_word] = np.array(line[1:], dtype=np.float64)\n",
        "        \n",
        "        i = 1\n",
        "        words_to_index = {}\n",
        "        index_to_words = {}\n",
        "        for w in sorted(words):\n",
        "            words_to_index[w] = i\n",
        "            index_to_words[i] = w\n",
        "            i = i + 1\n",
        "    return words_to_index, index_to_words, word_to_vec_map"
      ],
      "execution_count": 18,
      "outputs": []
    },
    {
      "cell_type": "code",
      "metadata": {
        "id": "0liQKKNJCm2W"
      },
      "source": [
        "word_to_index, index_to_word, word_to_vec_map = read_glove_vecs('/content/drive/MyDrive/disaster_tweet/glove.6B.50d.txt')"
      ],
      "execution_count": 19,
      "outputs": []
    },
    {
      "cell_type": "code",
      "metadata": {
        "id": "0Q35817SEdPA"
      },
      "source": [
        "def sentences_to_indices(X, word_to_index, max_len):\n",
        "    \"\"\"\n",
        "    Converts an array of sentences (strings) into an array of indices corresponding to words in the sentences.\n",
        "    The output shape should be such that it can be given to `Embedding()` (described in Figure 4). \n",
        "    \n",
        "    Arguments:\n",
        "    X -- array of sentences (strings), of shape (m, 1)\n",
        "    word_to_index -- a dictionary containing the each word mapped to its index\n",
        "    max_len -- maximum number of words in a sentence. You can assume every sentence in X is no longer than this. \n",
        "    \n",
        "    Returns:\n",
        "    X_indices -- array of indices corresponding to words in the sentences from X, of shape (m, max_len)\n",
        "    \"\"\"\n",
        "    \n",
        "    m = X.shape[0]                                   # number of training examples\n",
        "    \n",
        "    ### START CODE HERE ###\n",
        "    # Initialize X_indices as a numpy matrix of zeros and the correct shape (≈ 1 line)\n",
        "    X_indices = np.zeros((m, max_len))\n",
        "    \n",
        "    for i in range(m):                               # loop over training examples\n",
        "        \n",
        "        # Convert the ith training sentence in lower case and split is into words. You should get a list of words.\n",
        "        sentence_words =X[i].lower().split()\n",
        "        \n",
        "        # Initialize j to 0\n",
        "        j = 0\n",
        "        \n",
        "        # Loop over the words of sentence_words\n",
        "        for w in sentence_words:\n",
        "          if w not in word_to_index: #needs to be fixed\n",
        "              w = 'unk'\n",
        "            # Set the (i,j)th entry of X_indices to the index of the correct word.\n",
        "          X_indices[i, j] = word_to_index[w]\n",
        "            # Increment j to j + 1\n",
        "          j = j + 1\n",
        "            \n",
        "    ### END CODE HERE ###\n",
        "    \n",
        "    return X_indices"
      ],
      "execution_count": 20,
      "outputs": []
    },
    {
      "cell_type": "code",
      "metadata": {
        "colab": {
          "base_uri": "https://localhost:8080/"
        },
        "id": "pqIXMxF0F-z_",
        "outputId": "3c4630a2-3112-4d95-d4a3-5e1ca1653544"
      },
      "source": [
        "X1 = np.array([\"funny lol\", \"lets play baseball siouxlan\", \"food is ready for you\"])\n",
        "X1_indices = sentences_to_indices(X1,word_to_index, max_len = 5)\n",
        "print(\"X1 =\", X1)\n",
        "print(\"X1_indices =\\n\", X1_indices)"
      ],
      "execution_count": 21,
      "outputs": [
        {
          "output_type": "stream",
          "text": [
            "X1 = ['funny lol' 'lets play baseball siouxlan' 'food is ready for you']\n",
            "X1_indices =\n",
            " [[155345. 225122.      0.      0.      0.]\n",
            " [220930. 286375.  69714. 372306.      0.]\n",
            " [151204. 192973. 302254. 151349. 394475.]]\n"
          ],
          "name": "stdout"
        }
      ]
    },
    {
      "cell_type": "code",
      "metadata": {
        "colab": {
          "base_uri": "https://localhost:8080/"
        },
        "id": "EqnGLYPLGDRp",
        "outputId": "0f1ee161-4ab6-446a-e28b-e6e36b734497"
      },
      "source": [
        "X2 = X_train[2:4]\n",
        "X2_indices = sentences_to_indices(X2,word_to_index, maxLen )\n",
        "print(\"X1 =\", X2)\n",
        "print(\"X1_indices =\\n\", X2_indices)"
      ],
      "execution_count": 22,
      "outputs": [
        {
          "output_type": "stream",
          "text": [
            "X1 = ['every bts song jimin scream'\n",
            " 'new type adhd head injury child linked long term attention problem']\n",
            "X1_indices =\n",
            " [[141941.  85744. 337465. 197746. 322154.      0.      0.      0.      0.\n",
            "       0.      0.      0.      0.      0.      0.      0.      0.      0.\n",
            "       0.      0.      0.]\n",
            " [259972. 368669.  46435. 175207. 190227.  98970. 223138. 225289. 356157.\n",
            "   62719. 292794.      0.      0.      0.      0.      0.      0.      0.\n",
            "       0.      0.      0.]]\n"
          ],
          "name": "stdout"
        }
      ]
    },
    {
      "cell_type": "code",
      "metadata": {
        "id": "SG9nrsavHFvN"
      },
      "source": [
        "def pretrained_embedding_layer(word_to_vec_map, word_to_index):\n",
        "    \"\"\"\n",
        "    Creates a Keras Embedding() layer and loads in pre-trained GloVe 50-dimensional vectors.\n",
        "    \n",
        "    Arguments:\n",
        "    word_to_vec_map -- dictionary mapping words to their GloVe vector representation.\n",
        "    word_to_index -- dictionary mapping from words to their indices in the vocabulary (400,001 words)\n",
        "\n",
        "    Returns:\n",
        "    embedding_layer -- pretrained layer Keras instance\n",
        "    \"\"\"\n",
        "    \n",
        "    vocab_len = len(word_to_index) + 1                  # adding 1 to fit Keras embedding (requirement)\n",
        "    emb_dim = word_to_vec_map[\"cucumber\"].shape[0]      # define dimensionality of your GloVe word vectors (= 50)\n",
        "    \n",
        "    ### START CODE HERE ###\n",
        "    # Step 1\n",
        "    # Initialize the embedding matrix as a numpy array of zeros.\n",
        "    # See instructions above to choose the correct shape.\n",
        "    emb_matrix = np.zeros((vocab_len,emb_dim))\n",
        "    \n",
        "    # Step 2\n",
        "    # Set each row \"idx\" of the embedding matrix to be \n",
        "    # the word vector representation of the idx'th word of the vocabulary\n",
        "    for word, idx in word_to_index.items():\n",
        "        emb_matrix[idx, :] = word_to_vec_map[word]\n",
        "\n",
        "    # Step 3\n",
        "    # Define Keras embedding layer with the correct input and output sizes\n",
        "    # Make it non-trainable.\n",
        "    embedding_layer = Embedding(vocab_len, emb_dim, trainable=False)\n",
        "    ### END CODE HERE ###\n",
        "\n",
        "    # Step 4 (already done for you; please do not modify)\n",
        "    # Build the embedding layer, it is required before setting the weights of the embedding layer. \n",
        "    embedding_layer.build((None,)) # Do not modify the \"None\".  This line of code is complete as-is.\n",
        "    \n",
        "    # Set the weights of the embedding layer to the embedding matrix. Your layer is now pretrained.\n",
        "    embedding_layer.set_weights([emb_matrix])\n",
        "    \n",
        "    return embedding_layer"
      ],
      "execution_count": 23,
      "outputs": []
    },
    {
      "cell_type": "code",
      "metadata": {
        "colab": {
          "base_uri": "https://localhost:8080/"
        },
        "id": "ui_JA60bHIcP",
        "outputId": "cc3f452c-3f26-4b78-ac40-5468d51a795f"
      },
      "source": [
        "embedding_layer = pretrained_embedding_layer(word_to_vec_map, word_to_index)\n",
        "print(\"weights[0][1][3] =\", embedding_layer.get_weights()[0][1][3])"
      ],
      "execution_count": 24,
      "outputs": [
        {
          "output_type": "stream",
          "text": [
            "weights[0][1][3] = -0.3403\n"
          ],
          "name": "stdout"
        }
      ]
    },
    {
      "cell_type": "code",
      "metadata": {
        "id": "QBID3sUpJWeQ"
      },
      "source": [
        "def tweet_classifier(input_shape, word_to_vec_map, word_to_index):\n",
        "    \"\"\"\n",
        "    Function creating the Emojify-v2 model's graph.\n",
        "    \n",
        "    Arguments:\n",
        "    input_shape -- shape of the input, usually (max_len,)\n",
        "    word_to_vec_map -- dictionary mapping every word in a vocabulary into its 50-dimensional vector representation\n",
        "    word_to_index -- dictionary mapping from words to their indices in the vocabulary (400,001 words)\n",
        "\n",
        "    Returns:\n",
        "    model -- a model instance in Keras\n",
        "    \"\"\"\n",
        "    \n",
        "    ### START CODE HERE ###\n",
        "    # Define sentence_indices as the input of the graph.\n",
        "    # It should be of shape input_shape and dtype 'int32' (as it contains indices, which are integers).\n",
        "    sentence_indices = Input(input_shape, dtype='int32')\n",
        "    \n",
        "    # Create the embedding layer pretrained with GloVe Vectors (≈1 line)\n",
        "    embedding_layer = pretrained_embedding_layer(word_to_vec_map, word_to_index)\n",
        "    \n",
        "    # Propagate sentence_indices through your embedding layer, you get back the embeddings\n",
        "    embeddings = embedding_layer(sentence_indices)   \n",
        "    \n",
        "    # Propagate the embeddings through an LSTM layer with 128-dimensional hidden state\n",
        "    # Be careful, the returned output should be a batch of sequences.\n",
        "    X = Bidirectional(LSTM(128, return_sequences=True))(embeddings)\n",
        "    # Add dropout with a probability of 0.5\n",
        "    X = Dropout(0.5)(X)\n",
        "    # Propagate X trough another LSTM layer with 128-dimensional hidden state\n",
        "    # Be careful, the returned output should be a single hidden state, not a batch of sequences.\n",
        "    X = Bidirectional(LSTM(128, return_sequences=True))(X)\n",
        "    # Add dropout with a probability of 0.5\n",
        "    X = Dropout(0.5)(X)\n",
        "    # Propagate X trough another LSTM layer with 128-dimensional hidden state\n",
        "    # Be careful, the returned output should be a single hidden state, not a batch of sequences.\n",
        "    X = Bidirectional(LSTM(128, return_sequences=False))(X)\n",
        "    # Add dropout with a probability of 0.5\n",
        "    X = Dropout(0.5)(X)\n",
        "    # Propagate X through a Dense layer with softmax activation to get back a batch of 5-dimensional vectors.\n",
        "    X = Dense(1)(X)\n",
        "    # Add a softmax activation\n",
        "    X = Activation('sigmoid')(X)\n",
        "    \n",
        "    # Create Model instance which converts sentence_indices into X.\n",
        "    model = Model(sentence_indices, X)\n",
        "    \n",
        "    ### END CODE HERE ###\n",
        "    \n",
        "    return model"
      ],
      "execution_count": 25,
      "outputs": []
    },
    {
      "cell_type": "code",
      "metadata": {
        "colab": {
          "base_uri": "https://localhost:8080/"
        },
        "id": "DZa1EO1PJz5D",
        "outputId": "1d091f51-5d0e-42a7-f20b-bb493bef1399"
      },
      "source": [
        "model = tweet_classifier((maxLen,), word_to_vec_map, word_to_index)\n",
        "model.summary()"
      ],
      "execution_count": 26,
      "outputs": [
        {
          "output_type": "stream",
          "text": [
            "Model: \"model\"\n",
            "_________________________________________________________________\n",
            "Layer (type)                 Output Shape              Param #   \n",
            "=================================================================\n",
            "input_1 (InputLayer)         [(None, 21)]              0         \n",
            "_________________________________________________________________\n",
            "embedding_1 (Embedding)      (None, 21, 50)            20000050  \n",
            "_________________________________________________________________\n",
            "bidirectional (Bidirectional (None, 21, 256)           183296    \n",
            "_________________________________________________________________\n",
            "dropout (Dropout)            (None, 21, 256)           0         \n",
            "_________________________________________________________________\n",
            "bidirectional_1 (Bidirection (None, 21, 256)           394240    \n",
            "_________________________________________________________________\n",
            "dropout_1 (Dropout)          (None, 21, 256)           0         \n",
            "_________________________________________________________________\n",
            "bidirectional_2 (Bidirection (None, 256)               394240    \n",
            "_________________________________________________________________\n",
            "dropout_2 (Dropout)          (None, 256)               0         \n",
            "_________________________________________________________________\n",
            "dense (Dense)                (None, 1)                 257       \n",
            "_________________________________________________________________\n",
            "activation (Activation)      (None, 1)                 0         \n",
            "=================================================================\n",
            "Total params: 20,972,083\n",
            "Trainable params: 972,033\n",
            "Non-trainable params: 20,000,050\n",
            "_________________________________________________________________\n"
          ],
          "name": "stdout"
        }
      ]
    },
    {
      "cell_type": "code",
      "metadata": {
        "colab": {
          "base_uri": "https://localhost:8080/",
          "height": 953
        },
        "id": "s0oeF5_9RTEE",
        "outputId": "39046fd7-db73-4d0e-d1ea-9dfd0d67cbe4"
      },
      "source": [
        "from tensorflow.keras.utils import plot_model\n",
        "plot_model(model)"
      ],
      "execution_count": 27,
      "outputs": [
        {
          "output_type": "execute_result",
          "data": {
            "image/png": "[encoded data removed]",
            "text/plain": [
              "<IPython.core.display.Image object>"
            ]
          },
          "metadata": {
            "tags": []
          },
          "execution_count": 27
        }
      ]
    },
    {
      "cell_type": "code",
      "metadata": {
        "id": "N4PABi4SJ0wK"
      },
      "source": [
        "model.compile(loss='binary_crossentropy', optimizer='adam', metrics=['accuracy'])"
      ],
      "execution_count": 28,
      "outputs": []
    },
    {
      "cell_type": "code",
      "metadata": {
        "id": "MHxBWAv3J-Y1"
      },
      "source": [
        "X_train_indices = sentences_to_indices(X_train, word_to_index, maxLen )\n",
        "X_valid_indices = sentences_to_indices(X_valid, word_to_index, maxLen )\n"
      ],
      "execution_count": 34,
      "outputs": []
    },
    {
      "cell_type": "code",
      "metadata": {
        "colab": {
          "base_uri": "https://localhost:8080/"
        },
        "id": "WBSnayX8KBul",
        "outputId": "e63f233f-c4cd-4e8c-bd46-0d8442768ca8"
      },
      "source": [
        "history = model.fit(X_train_indices, y_train, epochs = 50, batch_size = 32,shuffle=True, validation_data=(X_valid_indices, y_valid))"
      ],
      "execution_count": 35,
      "outputs": [
        {
          "output_type": "stream",
          "text": [
            "Epoch 1/50\n",
            "191/191 [==============================] - 48s 250ms/step - loss: 0.3934 - accuracy: 0.8315 - val_loss: 0.4443 - val_accuracy: 0.8162\n",
            "Epoch 2/50\n",
            "191/191 [==============================] - 45s 236ms/step - loss: 0.3726 - accuracy: 0.8427 - val_loss: 0.4691 - val_accuracy: 0.7984\n",
            "Epoch 3/50\n",
            "191/191 [==============================] - 43s 226ms/step - loss: 0.3574 - accuracy: 0.8452 - val_loss: 0.4598 - val_accuracy: 0.8102\n",
            "Epoch 4/50\n",
            "191/191 [==============================] - 45s 233ms/step - loss: 0.3372 - accuracy: 0.8631 - val_loss: 0.4595 - val_accuracy: 0.8109\n",
            "Epoch 5/50\n",
            "191/191 [==============================] - 45s 235ms/step - loss: 0.3168 - accuracy: 0.8727 - val_loss: 0.4729 - val_accuracy: 0.8063\n",
            "Epoch 6/50\n",
            "191/191 [==============================] - 45s 235ms/step - loss: 0.2892 - accuracy: 0.8852 - val_loss: 0.5054 - val_accuracy: 0.8063\n",
            "Epoch 7/50\n",
            "191/191 [==============================] - 45s 233ms/step - loss: 0.2754 - accuracy: 0.8916 - val_loss: 0.5350 - val_accuracy: 0.8017\n",
            "Epoch 8/50\n",
            "191/191 [==============================] - 44s 229ms/step - loss: 0.2512 - accuracy: 0.9023 - val_loss: 0.5788 - val_accuracy: 0.8056\n",
            "Epoch 9/50\n",
            "191/191 [==============================] - 45s 237ms/step - loss: 0.2265 - accuracy: 0.9138 - val_loss: 0.6624 - val_accuracy: 0.7965\n",
            "Epoch 10/50\n",
            "191/191 [==============================] - 45s 235ms/step - loss: 0.2021 - accuracy: 0.9222 - val_loss: 0.6340 - val_accuracy: 0.7866\n",
            "Epoch 11/50\n",
            "191/191 [==============================] - 45s 236ms/step - loss: 0.1938 - accuracy: 0.9253 - val_loss: 0.6169 - val_accuracy: 0.7971\n",
            "Epoch 12/50\n",
            "191/191 [==============================] - 44s 229ms/step - loss: 0.1611 - accuracy: 0.9371 - val_loss: 0.7248 - val_accuracy: 0.7912\n",
            "Epoch 13/50\n",
            "191/191 [==============================] - 45s 236ms/step - loss: 0.1499 - accuracy: 0.9442 - val_loss: 0.6996 - val_accuracy: 0.7892\n",
            "Epoch 14/50\n",
            "191/191 [==============================] - 45s 234ms/step - loss: 0.1365 - accuracy: 0.9496 - val_loss: 0.7869 - val_accuracy: 0.7866\n",
            "Epoch 15/50\n",
            "191/191 [==============================] - 43s 226ms/step - loss: 0.1255 - accuracy: 0.9545 - val_loss: 0.7918 - val_accuracy: 0.7735\n",
            "Epoch 16/50\n",
            "191/191 [==============================] - 45s 235ms/step - loss: 0.1194 - accuracy: 0.9530 - val_loss: 0.8444 - val_accuracy: 0.7525\n",
            "Epoch 17/50\n",
            "191/191 [==============================] - 45s 238ms/step - loss: 0.1036 - accuracy: 0.9608 - val_loss: 0.9090 - val_accuracy: 0.7846\n",
            "Epoch 18/50\n",
            "191/191 [==============================] - 45s 234ms/step - loss: 0.1033 - accuracy: 0.9604 - val_loss: 0.8447 - val_accuracy: 0.7479\n",
            "Epoch 19/50\n",
            "191/191 [==============================] - 45s 234ms/step - loss: 0.0964 - accuracy: 0.9631 - val_loss: 0.9114 - val_accuracy: 0.7774\n",
            "Epoch 20/50\n",
            "191/191 [==============================] - 44s 233ms/step - loss: 0.0951 - accuracy: 0.9621 - val_loss: 0.9414 - val_accuracy: 0.7840\n",
            "Epoch 21/50\n",
            "191/191 [==============================] - 43s 227ms/step - loss: 0.0695 - accuracy: 0.9731 - val_loss: 1.0944 - val_accuracy: 0.7945\n",
            "Epoch 22/50\n",
            "191/191 [==============================] - 45s 234ms/step - loss: 0.0915 - accuracy: 0.9645 - val_loss: 1.0190 - val_accuracy: 0.7787\n",
            "Epoch 23/50\n",
            "191/191 [==============================] - 44s 232ms/step - loss: 0.0767 - accuracy: 0.9678 - val_loss: 1.0283 - val_accuracy: 0.7873\n",
            "Epoch 24/50\n",
            "191/191 [==============================] - 43s 225ms/step - loss: 0.0820 - accuracy: 0.9681 - val_loss: 1.0269 - val_accuracy: 0.7833\n",
            "Epoch 25/50\n",
            "191/191 [==============================] - 44s 231ms/step - loss: 0.0589 - accuracy: 0.9745 - val_loss: 1.1771 - val_accuracy: 0.7800\n",
            "Epoch 26/50\n",
            "191/191 [==============================] - 43s 225ms/step - loss: 0.0546 - accuracy: 0.9760 - val_loss: 1.2928 - val_accuracy: 0.7649\n",
            "Epoch 27/50\n",
            "191/191 [==============================] - 45s 235ms/step - loss: 0.0806 - accuracy: 0.9681 - val_loss: 1.0633 - val_accuracy: 0.7682\n",
            "Epoch 28/50\n",
            "191/191 [==============================] - 45s 235ms/step - loss: 0.0658 - accuracy: 0.9737 - val_loss: 1.1204 - val_accuracy: 0.7695\n",
            "Epoch 29/50\n",
            "191/191 [==============================] - 45s 235ms/step - loss: 0.0619 - accuracy: 0.9749 - val_loss: 1.0967 - val_accuracy: 0.7669\n",
            "Epoch 30/50\n",
            "191/191 [==============================] - 45s 235ms/step - loss: 0.0519 - accuracy: 0.9778 - val_loss: 1.3591 - val_accuracy: 0.7754\n",
            "Epoch 31/50\n",
            "191/191 [==============================] - 44s 233ms/step - loss: 0.0690 - accuracy: 0.9734 - val_loss: 1.2595 - val_accuracy: 0.7794\n",
            "Epoch 32/50\n",
            "191/191 [==============================] - 44s 228ms/step - loss: 0.0605 - accuracy: 0.9744 - val_loss: 1.2074 - val_accuracy: 0.7735\n",
            "Epoch 33/50\n",
            "191/191 [==============================] - 44s 231ms/step - loss: 0.0754 - accuracy: 0.9675 - val_loss: 1.2340 - val_accuracy: 0.7617\n",
            "Epoch 34/50\n",
            "191/191 [==============================] - 44s 233ms/step - loss: 0.0535 - accuracy: 0.9757 - val_loss: 1.3860 - val_accuracy: 0.7695\n",
            "Epoch 35/50\n",
            "191/191 [==============================] - 44s 228ms/step - loss: 0.0543 - accuracy: 0.9772 - val_loss: 1.0735 - val_accuracy: 0.7800\n",
            "Epoch 36/50\n",
            "191/191 [==============================] - 44s 233ms/step - loss: 0.0565 - accuracy: 0.9760 - val_loss: 1.2120 - val_accuracy: 0.7846\n",
            "Epoch 37/50\n",
            "191/191 [==============================] - 45s 236ms/step - loss: 0.0585 - accuracy: 0.9755 - val_loss: 1.2207 - val_accuracy: 0.7649\n",
            "Epoch 38/50\n",
            "191/191 [==============================] - 45s 234ms/step - loss: 0.0567 - accuracy: 0.9764 - val_loss: 1.2401 - val_accuracy: 0.7787\n",
            "Epoch 39/50\n",
            "191/191 [==============================] - 45s 234ms/step - loss: 0.0484 - accuracy: 0.9793 - val_loss: 1.2532 - val_accuracy: 0.7840\n",
            "Epoch 40/50\n",
            "191/191 [==============================] - 43s 226ms/step - loss: 0.0498 - accuracy: 0.9787 - val_loss: 1.4592 - val_accuracy: 0.7853\n",
            "Epoch 41/50\n",
            "191/191 [==============================] - 45s 233ms/step - loss: 0.0599 - accuracy: 0.9749 - val_loss: 1.2468 - val_accuracy: 0.7597\n",
            "Epoch 42/50\n",
            "191/191 [==============================] - 45s 235ms/step - loss: 0.0505 - accuracy: 0.9775 - val_loss: 1.3246 - val_accuracy: 0.7859\n",
            "Epoch 43/50\n",
            "191/191 [==============================] - 45s 234ms/step - loss: 0.0481 - accuracy: 0.9780 - val_loss: 1.3953 - val_accuracy: 0.7814\n",
            "Epoch 44/50\n",
            "191/191 [==============================] - 44s 233ms/step - loss: 0.0492 - accuracy: 0.9770 - val_loss: 1.3457 - val_accuracy: 0.7919\n",
            "Epoch 45/50\n",
            "191/191 [==============================] - 44s 232ms/step - loss: 0.0506 - accuracy: 0.9772 - val_loss: 1.4569 - val_accuracy: 0.7866\n",
            "Epoch 46/50\n",
            "191/191 [==============================] - 44s 228ms/step - loss: 0.0505 - accuracy: 0.9782 - val_loss: 1.3649 - val_accuracy: 0.7814\n",
            "Epoch 47/50\n",
            "191/191 [==============================] - 45s 233ms/step - loss: 0.0449 - accuracy: 0.9791 - val_loss: 1.3753 - val_accuracy: 0.7800\n",
            "Epoch 48/50\n",
            "191/191 [==============================] - 45s 233ms/step - loss: 0.0424 - accuracy: 0.9777 - val_loss: 1.4293 - val_accuracy: 0.7905\n",
            "Epoch 49/50\n",
            "191/191 [==============================] - 45s 234ms/step - loss: 0.0420 - accuracy: 0.9793 - val_loss: 1.4202 - val_accuracy: 0.7892\n",
            "Epoch 50/50\n",
            "191/191 [==============================] - 45s 235ms/step - loss: 0.0513 - accuracy: 0.9767 - val_loss: 1.2614 - val_accuracy: 0.7827\n"
          ],
          "name": "stdout"
        }
      ]
    },
    {
      "cell_type": "code",
      "metadata": {
        "colab": {
          "base_uri": "https://localhost:8080/"
        },
        "id": "75ouXH28NSpX",
        "outputId": "1a5313de-de0c-40d6-f615-8a07e7128733"
      },
      "source": [
        "X_test_indices = sentences_to_indices(X_valid, word_to_index, max_len = 21 )\n",
        "\n",
        "loss, acc = model.evaluate(X_test_indices, y_valid)\n",
        "print()\n",
        "print(\"Test accuracy = \", acc)"
      ],
      "execution_count": 36,
      "outputs": [
        {
          "output_type": "stream",
          "text": [
            "48/48 [==============================] - 3s 58ms/step - loss: 1.2614 - accuracy: 0.7827\n",
            "\n",
            "Test accuracy =  0.7826657891273499\n"
          ],
          "name": "stdout"
        }
      ]
    },
    {
      "cell_type": "code",
      "metadata": {
        "id": "CeqDTAex3b5d"
      },
      "source": [
        "def plot_graphs(history, metric):\n",
        "  plt.plot(history.history[metric])\n",
        "  plt.plot(history.history['val_'+metric], '')\n",
        "  plt.xlabel(\"Epochs\")\n",
        "  plt.ylabel(metric)\n",
        "  plt.legend([metric, 'val_'+metric])"
      ],
      "execution_count": 37,
      "outputs": []
    },
    {
      "cell_type": "code",
      "metadata": {
        "colab": {
          "base_uri": "https://localhost:8080/",
          "height": 279
        },
        "id": "sCUcDUK_SHeW",
        "outputId": "941810c7-3ea1-44ec-81cb-17bfe7344a16"
      },
      "source": [
        "plot_graphs(history,'accuracy')"
      ],
      "execution_count": 38,
      "outputs": [
        {
          "output_type": "display_data",
          "data": {
            "image/png": "[encoded data removed]",
            "text/plain": [
              "<Figure size 432x288 with 1 Axes>"
            ]
          },
          "metadata": {
            "tags": [],
            "needs_background": "light"
          }
        }
      ]
    },
    {
      "cell_type": "code",
      "metadata": {
        "colab": {
          "base_uri": "https://localhost:8080/",
          "height": 265
        },
        "id": "Yuq5q4SASMuk",
        "outputId": "6398360e-f1bd-4785-9fa4-8a510c48f59e"
      },
      "source": [
        "plt.plot(history.history['loss'], label='loss')\n",
        "plt.plot(history.history['val_loss'], label='val_loss')\n",
        "plt.legend()\n",
        "plt.show()"
      ],
      "execution_count": 40,
      "outputs": [
        {
          "output_type": "display_data",
          "data": {
            "image/png": "[encoded data removed]",
            "text/plain": [
              "<Figure size 432x288 with 1 Axes>"
            ]
          },
          "metadata": {
            "tags": [],
            "needs_background": "light"
          }
        }
      ]
    },
    {
      "cell_type": "code",
      "metadata": {
        "id": "Z1XSlPT4Ognj"
      },
      "source": [
        "test['text']=test['text'].apply(clean_text)\n",
        "test['text']=test['text'].apply(tokenize)\n",
        "test['text']=test['text'].apply(lemmatize)\n",
        "test['text']=test['text'].apply(rejoin_words)\n",
        "test_sentences = test['text'].values"
      ],
      "execution_count": 41,
      "outputs": []
    },
    {
      "cell_type": "code",
      "metadata": {
        "id": "vaFzOHMU5YnD"
      },
      "source": [
        "maxLen = len(max(test_sentences, key=len).split())\n",
        "X_test_indices = sentences_to_indices(test_sentences, word_to_index, 21)\n",
        "y = model.predict(X_test_indices).round()\n",
        "y_final = y.astype(int)"
      ],
      "execution_count": 42,
      "outputs": []
    },
    {
      "cell_type": "code",
      "metadata": {
        "colab": {
          "base_uri": "https://localhost:8080/"
        },
        "id": "yxdQsU325flN",
        "outputId": "d9b6b7c4-1fff-49ec-9e27-f679280219c1"
      },
      "source": [
        "X_test_indices"
      ],
      "execution_count": 43,
      "outputs": [
        {
          "output_type": "execute_result",
          "data": {
            "text/plain": [
              "array([[173063., 356326.,  91624., ...,      0.,      0.,      0.],\n",
              "       [175426., 132523., 123767., ...,      0.,      0.,      0.],\n",
              "       [151580., 148728., 340109., ...,      0.,      0.,      0.],\n",
              "       ...,\n",
              "       [166484., 222946., 121383., ...,      0.,      0.,      0.],\n",
              "       [239818., 193637., 175016., ...,      0.,      0.,      0.],\n",
              "       [372306.,  45856., 252973., ...,      0.,      0.,      0.]])"
            ]
          },
          "metadata": {
            "tags": []
          },
          "execution_count": 43
        }
      ]
    },
    {
      "cell_type": "code",
      "metadata": {
        "colab": {
          "base_uri": "https://localhost:8080/"
        },
        "id": "7azcnATJdUg1",
        "outputId": "a983856d-0dbb-4596-bf67-e2a1a1ee5804"
      },
      "source": [
        "y_final"
      ],
      "execution_count": 44,
      "outputs": [
        {
          "output_type": "execute_result",
          "data": {
            "text/plain": [
              "array([[1],\n",
              "       [1],\n",
              "       [1],\n",
              "       ...,\n",
              "       [1],\n",
              "       [1],\n",
              "       [1]])"
            ]
          },
          "metadata": {
            "tags": []
          },
          "execution_count": 44
        }
      ]
    },
    {
      "cell_type": "code",
      "metadata": {
        "id": "w2SBtoDxOgi7"
      },
      "source": [
        "pred = pd.DataFrame(y_final,columns=['target'])"
      ],
      "execution_count": 45,
      "outputs": []
    },
    {
      "cell_type": "code",
      "metadata": {
        "colab": {
          "base_uri": "https://localhost:8080/"
        },
        "id": "tE3ra1VIVEFA",
        "outputId": "c828c596-ed72-4253-cc6e-ce3a2b1268a2"
      },
      "source": [
        "pred['target'].value_counts()"
      ],
      "execution_count": 46,
      "outputs": [
        {
          "output_type": "execute_result",
          "data": {
            "text/plain": [
              "0    1973\n",
              "1    1290\n",
              "Name: target, dtype: int64"
            ]
          },
          "metadata": {
            "tags": []
          },
          "execution_count": 46
        }
      ]
    },
    {
      "cell_type": "code",
      "metadata": {
        "id": "6TFMHp0D7BTz"
      },
      "source": [
        "sample_submission = pd.read_csv('/content/drive/MyDrive/disaster_tweet/sample_submission.csv')\n",
        "sample_submission['target'] = pred"
      ],
      "execution_count": 47,
      "outputs": []
    },
    {
      "cell_type": "code",
      "metadata": {
        "colab": {
          "base_uri": "https://localhost:8080/"
        },
        "id": "l2bWJNNXCQVd",
        "outputId": "d55d92ee-0c9c-4071-da91-f410d6fac51d"
      },
      "source": [
        "sample_submission['target'].head(20)"
      ],
      "execution_count": 48,
      "outputs": [
        {
          "output_type": "execute_result",
          "data": {
            "text/plain": [
              "0     1\n",
              "1     1\n",
              "2     1\n",
              "3     1\n",
              "4     1\n",
              "5     0\n",
              "6     0\n",
              "7     0\n",
              "8     0\n",
              "9     0\n",
              "10    1\n",
              "11    0\n",
              "12    0\n",
              "13    0\n",
              "14    0\n",
              "15    1\n",
              "16    0\n",
              "17    0\n",
              "18    0\n",
              "19    0\n",
              "Name: target, dtype: int64"
            ]
          },
          "metadata": {
            "tags": []
          },
          "execution_count": 48
        }
      ]
    },
    {
      "cell_type": "code",
      "metadata": {
        "id": "SrTiWtjx1Ud-"
      },
      "source": [
        "\n",
        "submission_4 = sample_submission.to_csv('submission_4.csv', index=False)\n"
      ],
      "execution_count": 49,
      "outputs": []
    },
    {
      "cell_type": "code",
      "metadata": {
        "id": "-SltsNiC_izq"
      },
      "source": [
        "sample_ = pd.read_csv('/content/submission_4.csv')\n"
      ],
      "execution_count": 50,
      "outputs": []
    },
    {
      "cell_type": "code",
      "metadata": {
        "colab": {
          "base_uri": "https://localhost:8080/",
          "height": 204
        },
        "id": "4ewjy3CG_uSj",
        "outputId": "ca4a2043-3999-43df-f11e-07a5bb64f5cd"
      },
      "source": [
        "sample_.head()"
      ],
      "execution_count": 51,
      "outputs": [
        {
          "output_type": "execute_result",
          "data": {
            "text/html": [
              "<div>\n",
              "<style scoped>\n",
              "    .dataframe tbody tr th:only-of-type {\n",
              "        vertical-align: middle;\n",
              "    }\n",
              "\n",
              "    .dataframe tbody tr th {\n",
              "        vertical-align: top;\n",
              "    }\n",
              "\n",
              "    .dataframe thead th {\n",
              "        text-align: right;\n",
              "    }\n",
              "</style>\n",
              "<table border=\"1\" class=\"dataframe\">\n",
              "  <thead>\n",
              "    <tr style=\"text-align: right;\">\n",
              "      <th></th>\n",
              "      <th>id</th>\n",
              "      <th>target</th>\n",
              "    </tr>\n",
              "  </thead>\n",
              "  <tbody>\n",
              "    <tr>\n",
              "      <th>0</th>\n",
              "      <td>0</td>\n",
              "      <td>1</td>\n",
              "    </tr>\n",
              "    <tr>\n",
              "      <th>1</th>\n",
              "      <td>2</td>\n",
              "      <td>1</td>\n",
              "    </tr>\n",
              "    <tr>\n",
              "      <th>2</th>\n",
              "      <td>3</td>\n",
              "      <td>1</td>\n",
              "    </tr>\n",
              "    <tr>\n",
              "      <th>3</th>\n",
              "      <td>9</td>\n",
              "      <td>1</td>\n",
              "    </tr>\n",
              "    <tr>\n",
              "      <th>4</th>\n",
              "      <td>11</td>\n",
              "      <td>1</td>\n",
              "    </tr>\n",
              "  </tbody>\n",
              "</table>\n",
              "</div>"
            ],
            "text/plain": [
              "   id  target\n",
              "0   0       1\n",
              "1   2       1\n",
              "2   3       1\n",
              "3   9       1\n",
              "4  11       1"
            ]
          },
          "metadata": {
            "tags": []
          },
          "execution_count": 51
        }
      ]
    },
    {
      "cell_type": "code",
      "metadata": {
        "id": "LKupWBO5_vZA"
      },
      "source": [
        ""
      ],
      "execution_count": null,
      "outputs": []
    }
  ]
}