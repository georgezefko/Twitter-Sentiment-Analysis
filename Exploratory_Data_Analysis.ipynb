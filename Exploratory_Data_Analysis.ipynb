{
  "nbformat": 4,
  "nbformat_minor": 0,
  "metadata": {
    "colab": {
      "name": "EDA_twitter.ipynb",
      "provenance": [],
      "authorship_tag": "ABX9TyMuBVueIcEfQoJJ1nwwv2Fl",
      "include_colab_link": true
    },
    "kernelspec": {
      "display_name": "Python 3",
      "name": "python3"
    },
    "language_info": {
      "name": "python"
    }
  },
  "cells": [
    {
      "cell_type": "markdown",
      "metadata": {
        "id": "view-in-github",
        "colab_type": "text"
      },
      "source": [
        "<a href=\"https://colab.research.google.com/github/georgezefko/Twitter-Sentiment-Analysis/blob/main/Exploratory_Data_Analysis.ipynb\" target=\"_parent\"><img src=\"https://colab.research.google.com/assets/colab-badge.svg\" alt=\"Open In Colab\"/></a>"
      ]
    },
    {
      "cell_type": "code",
      "metadata": {
        "colab": {
          "base_uri": "https://localhost:8080/"
        },
        "id": "Sos-O8PEQPeQ",
        "outputId": "9900712c-29f5-44ac-a575-5325e724da35"
      },
      "source": [
        "from google.colab import drive\n",
        "drive.mount('/content/drive', force_remount=True)"
      ],
      "execution_count": 1,
      "outputs": [
        {
          "output_type": "stream",
          "text": [
            "Mounted at /content/drive\n"
          ],
          "name": "stdout"
        }
      ]
    },
    {
      "cell_type": "code",
      "metadata": {
        "colab": {
          "base_uri": "https://localhost:8080/"
        },
        "id": "YMnWqQAHQ4eL",
        "outputId": "295e5108-e6c0-4c4b-fe54-acceb31ac5fc"
      },
      "source": [
        "import pandas as pd\n",
        "import re\n",
        "import numpy as np\n",
        "import matplotlib.pyplot as plt\n",
        "from nltk.tokenize import word_tokenize\n",
        "from nltk.stem.porter import PorterStemmer\n",
        "from nltk.stem import WordNetLemmatizer\n",
        "import seaborn as sns\n",
        "from collections import Counter\n",
        "import nltk\n",
        "nltk.download('stopwords')\n",
        "from nltk.corpus import stopwords\n",
        "nltk.download('wordnet')\n",
        "nltk.download('punkt')\n",
        "nltk.download('averaged_perceptron_tagger') \n",
        "from nltk import sent_tokenize\n",
        "from textblob import TextBlob\n",
        "from sklearn.feature_extraction.text import CountVectorizer\n",
        "from sklearn.feature_extraction.text import TfidfVectorizer\n",
        "import warnings \n",
        "warnings.filterwarnings('ignore')\n",
        "import matplotlib\n",
        "import matplotlib.pyplot as plt\n",
        "import seaborn as sns\n"
      ],
      "execution_count": 2,
      "outputs": [
        {
          "output_type": "stream",
          "text": [
            "[nltk_data] Downloading package stopwords to /root/nltk_data...\n",
            "[nltk_data]   Unzipping corpora/stopwords.zip.\n",
            "[nltk_data] Downloading package wordnet to /root/nltk_data...\n",
            "[nltk_data]   Unzipping corpora/wordnet.zip.\n",
            "[nltk_data] Downloading package punkt to /root/nltk_data...\n",
            "[nltk_data]   Unzipping tokenizers/punkt.zip.\n",
            "[nltk_data] Downloading package averaged_perceptron_tagger to\n",
            "[nltk_data]     /root/nltk_data...\n",
            "[nltk_data]   Unzipping taggers/averaged_perceptron_tagger.zip.\n"
          ],
          "name": "stdout"
        }
      ]
    },
    {
      "cell_type": "code",
      "metadata": {
        "id": "TyN8VfcLQ4by"
      },
      "source": [
        "train_data = '/content/drive/MyDrive/disaster_tweet/'\n",
        "train = pd.read_csv(train_data+'train.csv')\n",
        "test = pd.read_csv(train_data+'test.csv')"
      ],
      "execution_count": 3,
      "outputs": []
    },
    {
      "cell_type": "code",
      "metadata": {
        "colab": {
          "base_uri": "https://localhost:8080/",
          "height": 204
        },
        "id": "jo9ctAN_Q4Z1",
        "outputId": "28e3c219-3cad-4a8c-e499-22e22348fcd0"
      },
      "source": [
        "train.head() #print the top five rows"
      ],
      "execution_count": 4,
      "outputs": [
        {
          "output_type": "execute_result",
          "data": {
            "text/html": [
              "<div>\n",
              "<style scoped>\n",
              "    .dataframe tbody tr th:only-of-type {\n",
              "        vertical-align: middle;\n",
              "    }\n",
              "\n",
              "    .dataframe tbody tr th {\n",
              "        vertical-align: top;\n",
              "    }\n",
              "\n",
              "    .dataframe thead th {\n",
              "        text-align: right;\n",
              "    }\n",
              "</style>\n",
              "<table border=\"1\" class=\"dataframe\">\n",
              "  <thead>\n",
              "    <tr style=\"text-align: right;\">\n",
              "      <th></th>\n",
              "      <th>id</th>\n",
              "      <th>keyword</th>\n",
              "      <th>location</th>\n",
              "      <th>text</th>\n",
              "      <th>target</th>\n",
              "    </tr>\n",
              "  </thead>\n",
              "  <tbody>\n",
              "    <tr>\n",
              "      <th>0</th>\n",
              "      <td>1</td>\n",
              "      <td>NaN</td>\n",
              "      <td>NaN</td>\n",
              "      <td>Our Deeds are the Reason of this #earthquake M...</td>\n",
              "      <td>1</td>\n",
              "    </tr>\n",
              "    <tr>\n",
              "      <th>1</th>\n",
              "      <td>4</td>\n",
              "      <td>NaN</td>\n",
              "      <td>NaN</td>\n",
              "      <td>Forest fire near La Ronge Sask. Canada</td>\n",
              "      <td>1</td>\n",
              "    </tr>\n",
              "    <tr>\n",
              "      <th>2</th>\n",
              "      <td>5</td>\n",
              "      <td>NaN</td>\n",
              "      <td>NaN</td>\n",
              "      <td>All residents asked to 'shelter in place' are ...</td>\n",
              "      <td>1</td>\n",
              "    </tr>\n",
              "    <tr>\n",
              "      <th>3</th>\n",
              "      <td>6</td>\n",
              "      <td>NaN</td>\n",
              "      <td>NaN</td>\n",
              "      <td>13,000 people receive #wildfires evacuation or...</td>\n",
              "      <td>1</td>\n",
              "    </tr>\n",
              "    <tr>\n",
              "      <th>4</th>\n",
              "      <td>7</td>\n",
              "      <td>NaN</td>\n",
              "      <td>NaN</td>\n",
              "      <td>Just got sent this photo from Ruby #Alaska as ...</td>\n",
              "      <td>1</td>\n",
              "    </tr>\n",
              "  </tbody>\n",
              "</table>\n",
              "</div>"
            ],
            "text/plain": [
              "   id keyword  ...                                               text target\n",
              "0   1     NaN  ...  Our Deeds are the Reason of this #earthquake M...      1\n",
              "1   4     NaN  ...             Forest fire near La Ronge Sask. Canada      1\n",
              "2   5     NaN  ...  All residents asked to 'shelter in place' are ...      1\n",
              "3   6     NaN  ...  13,000 people receive #wildfires evacuation or...      1\n",
              "4   7     NaN  ...  Just got sent this photo from Ruby #Alaska as ...      1\n",
              "\n",
              "[5 rows x 5 columns]"
            ]
          },
          "metadata": {
            "tags": []
          },
          "execution_count": 4
        }
      ]
    },
    {
      "cell_type": "code",
      "metadata": {
        "colab": {
          "base_uri": "https://localhost:8080/",
          "height": 204
        },
        "id": "yMk0QgSx8UqM",
        "outputId": "32847e19-f977-4847-fd70-088f54f23e14"
      },
      "source": [
        "test.head()"
      ],
      "execution_count": 5,
      "outputs": [
        {
          "output_type": "execute_result",
          "data": {
            "text/html": [
              "<div>\n",
              "<style scoped>\n",
              "    .dataframe tbody tr th:only-of-type {\n",
              "        vertical-align: middle;\n",
              "    }\n",
              "\n",
              "    .dataframe tbody tr th {\n",
              "        vertical-align: top;\n",
              "    }\n",
              "\n",
              "    .dataframe thead th {\n",
              "        text-align: right;\n",
              "    }\n",
              "</style>\n",
              "<table border=\"1\" class=\"dataframe\">\n",
              "  <thead>\n",
              "    <tr style=\"text-align: right;\">\n",
              "      <th></th>\n",
              "      <th>id</th>\n",
              "      <th>keyword</th>\n",
              "      <th>location</th>\n",
              "      <th>text</th>\n",
              "    </tr>\n",
              "  </thead>\n",
              "  <tbody>\n",
              "    <tr>\n",
              "      <th>0</th>\n",
              "      <td>0</td>\n",
              "      <td>NaN</td>\n",
              "      <td>NaN</td>\n",
              "      <td>Just happened a terrible car crash</td>\n",
              "    </tr>\n",
              "    <tr>\n",
              "      <th>1</th>\n",
              "      <td>2</td>\n",
              "      <td>NaN</td>\n",
              "      <td>NaN</td>\n",
              "      <td>Heard about #earthquake is different cities, s...</td>\n",
              "    </tr>\n",
              "    <tr>\n",
              "      <th>2</th>\n",
              "      <td>3</td>\n",
              "      <td>NaN</td>\n",
              "      <td>NaN</td>\n",
              "      <td>there is a forest fire at spot pond, geese are...</td>\n",
              "    </tr>\n",
              "    <tr>\n",
              "      <th>3</th>\n",
              "      <td>9</td>\n",
              "      <td>NaN</td>\n",
              "      <td>NaN</td>\n",
              "      <td>Apocalypse lighting. #Spokane #wildfires</td>\n",
              "    </tr>\n",
              "    <tr>\n",
              "      <th>4</th>\n",
              "      <td>11</td>\n",
              "      <td>NaN</td>\n",
              "      <td>NaN</td>\n",
              "      <td>Typhoon Soudelor kills 28 in China and Taiwan</td>\n",
              "    </tr>\n",
              "  </tbody>\n",
              "</table>\n",
              "</div>"
            ],
            "text/plain": [
              "   id keyword location                                               text\n",
              "0   0     NaN      NaN                 Just happened a terrible car crash\n",
              "1   2     NaN      NaN  Heard about #earthquake is different cities, s...\n",
              "2   3     NaN      NaN  there is a forest fire at spot pond, geese are...\n",
              "3   9     NaN      NaN           Apocalypse lighting. #Spokane #wildfires\n",
              "4  11     NaN      NaN      Typhoon Soudelor kills 28 in China and Taiwan"
            ]
          },
          "metadata": {
            "tags": []
          },
          "execution_count": 5
        }
      ]
    },
    {
      "cell_type": "code",
      "metadata": {
        "colab": {
          "base_uri": "https://localhost:8080/"
        },
        "id": "Cm6fIHipQ4Wi",
        "outputId": "fb50f2df-1287-4cc7-dccc-d887d6cf2579"
      },
      "source": [
        "train.info() # look at some basic info on each column keyword and location have numerous missin values"
      ],
      "execution_count": 6,
      "outputs": [
        {
          "output_type": "stream",
          "text": [
            "<class 'pandas.core.frame.DataFrame'>\n",
            "RangeIndex: 7613 entries, 0 to 7612\n",
            "Data columns (total 5 columns):\n",
            " #   Column    Non-Null Count  Dtype \n",
            "---  ------    --------------  ----- \n",
            " 0   id        7613 non-null   int64 \n",
            " 1   keyword   7552 non-null   object\n",
            " 2   location  5080 non-null   object\n",
            " 3   text      7613 non-null   object\n",
            " 4   target    7613 non-null   int64 \n",
            "dtypes: int64(2), object(3)\n",
            "memory usage: 297.5+ KB\n"
          ],
          "name": "stdout"
        }
      ]
    },
    {
      "cell_type": "markdown",
      "metadata": {
        "id": "eIyCsHeHqcRw"
      },
      "source": [
        "### Preliminary analysis\n",
        "\n",
        "\n"
      ]
    },
    {
      "cell_type": "code",
      "metadata": {
        "colab": {
          "base_uri": "https://localhost:8080/",
          "height": 350
        },
        "id": "cxUjxlsJ9dYa",
        "outputId": "a3cf587c-41d2-493c-8507-9816d00e62f8"
      },
      "source": [
        "plt.figure(figsize=(10,5))\n",
        "sns.countplot(x=train.target)\n",
        "plt.title('Target distribution')\n",
        "plt.show()"
      ],
      "execution_count": 7,
      "outputs": [
        {
          "output_type": "display_data",
          "data": {
            "image/png": "[encoded data removed]",
            "text/plain": [
              "<Figure size 720x360 with 1 Axes>"
            ]
          },
          "metadata": {
            "tags": [],
            "needs_background": "light"
          }
        }
      ]
    },
    {
      "cell_type": "code",
      "metadata": {
        "colab": {
          "base_uri": "https://localhost:8080/",
          "height": 691
        },
        "id": "UOQ7V9u0B8Ci",
        "outputId": "2dacdab5-7068-42a7-f607-149690dd7b16"
      },
      "source": [
        "\n",
        "fig, axes = plt.subplots(ncols = 2 , sharey=False,figsize=(15,10))\n",
        "train[train['target']==1]['location'].value_counts().iloc[:20].sort_values(ascending=True).plot(kind='barh',\n",
        "                                                                                                alpha=0.5,\n",
        "                                                                                                facecolor='orange', \n",
        "                                                                                                title='Locations with more negative tweets',ax = axes[0])\n",
        "\n",
        "train[train['target']==0]['location'].value_counts().iloc[:20].sort_values(ascending=True).plot(kind='barh',\n",
        "                                                                                                alpha=0.5,\n",
        "                                                                                                facecolor='blue', \n",
        "                                                                                                title='Locations with more positive tweets',ax = axes[1])\n",
        "fig.tight_layout(pad=3)\n",
        "plt.show()"
      ],
      "execution_count": 11,
      "outputs": [
        {
          "output_type": "display_data",
          "data": {
            "image/png": "[encoded data removed]",
            "text/plain": [
              "<Figure size 1080x720 with 2 Axes>"
            ]
          },
          "metadata": {
            "tags": [],
            "needs_background": "light"
          }
        }
      ]
    },
    {
      "cell_type": "markdown",
      "metadata": {
        "id": "0jaroW3yTux-"
      },
      "source": [
        "In location level we can see that further cleaning is needed since the same names are repeated throughout the data. "
      ]
    },
    {
      "cell_type": "code",
      "metadata": {
        "colab": {
          "base_uri": "https://localhost:8080/",
          "height": 691
        },
        "id": "R_OzflGs_umQ",
        "outputId": "edc7650c-a01d-4f23-f55a-fad4f968395a"
      },
      "source": [
        "fig, axes = plt.subplots(ncols = 2 , sharey=False,figsize=(15,10))\n",
        "train[train['target']==1]['keyword'].value_counts().iloc[:20].sort_values(ascending=True).plot(kind='barh',alpha=0.5,\n",
        "                                                                                               facecolor='magenta',\n",
        "                                                                                               title='Top 20 keywords for negative tweets',ax = axes[0])\n",
        "\n",
        "train[train['target']==0]['keyword'].value_counts().iloc[:20].sort_values(ascending=True).plot(kind='barh',alpha=0.5,\n",
        "                                                                                               facecolor='purple',\n",
        "                                                                                               title='Top 20 keywords for positive tweets', ax = axes[1])\n",
        "fig.tight_layout(pad=3)\n",
        "plt.show()\n"
      ],
      "execution_count": 12,
      "outputs": [
        {
          "output_type": "display_data",
          "data": {
            "image/png": "[encoded data removed]",
            "text/plain": [
              "<Figure size 1080x720 with 2 Axes>"
            ]
          },
          "metadata": {
            "tags": [],
            "needs_background": "light"
          }
        }
      ]
    },
    {
      "cell_type": "markdown",
      "metadata": {
        "id": "hGumerY-TOzl"
      },
      "source": [
        "From the above graphs we can see that the keywords between negative and positive tweets cannot be distingusihed. For example the positive tweets have words that could easily reflect on a negative tweet. Thus, it seems that they can't be used to help us with the analysis"
      ]
    },
    {
      "cell_type": "markdown",
      "metadata": {
        "id": "6-htRFp8SsQG"
      },
      "source": [
        "#Text EDA"
      ]
    },
    {
      "cell_type": "markdown",
      "metadata": {
        "id": "tpvKcfTNVSq8"
      },
      "source": [
        "In the first step we saw that there are no null values in text. However, we need to test whether there are any duplicates in the data."
      ]
    },
    {
      "cell_type": "code",
      "metadata": {
        "colab": {
          "base_uri": "https://localhost:8080/",
          "height": 419
        },
        "id": "4wHtjbSoUab_",
        "outputId": "c9f4ca5c-ee6d-471f-ecc1-5b16e73b9702"
      },
      "source": [
        "#check for duplicates\n",
        "pd.concat(g for _, g in train.groupby(\"text\") if len(g) > 1)"
      ],
      "execution_count": 13,
      "outputs": [
        {
          "output_type": "execute_result",
          "data": {
            "text/html": [
              "<div>\n",
              "<style scoped>\n",
              "    .dataframe tbody tr th:only-of-type {\n",
              "        vertical-align: middle;\n",
              "    }\n",
              "\n",
              "    .dataframe tbody tr th {\n",
              "        vertical-align: top;\n",
              "    }\n",
              "\n",
              "    .dataframe thead th {\n",
              "        text-align: right;\n",
              "    }\n",
              "</style>\n",
              "<table border=\"1\" class=\"dataframe\">\n",
              "  <thead>\n",
              "    <tr style=\"text-align: right;\">\n",
              "      <th></th>\n",
              "      <th>id</th>\n",
              "      <th>keyword</th>\n",
              "      <th>location</th>\n",
              "      <th>text</th>\n",
              "      <th>target</th>\n",
              "    </tr>\n",
              "  </thead>\n",
              "  <tbody>\n",
              "    <tr>\n",
              "      <th>4290</th>\n",
              "      <td>6094</td>\n",
              "      <td>hellfire</td>\n",
              "      <td>Jubail IC, Saudi Arabia.</td>\n",
              "      <td>#Allah describes piling up #wealth thinking it...</td>\n",
              "      <td>0</td>\n",
              "    </tr>\n",
              "    <tr>\n",
              "      <th>4299</th>\n",
              "      <td>6105</td>\n",
              "      <td>hellfire</td>\n",
              "      <td>?????? ??? ?????? ????????</td>\n",
              "      <td>#Allah describes piling up #wealth thinking it...</td>\n",
              "      <td>0</td>\n",
              "    </tr>\n",
              "    <tr>\n",
              "      <th>4312</th>\n",
              "      <td>6123</td>\n",
              "      <td>hellfire</td>\n",
              "      <td>?????? ???? ??????</td>\n",
              "      <td>#Allah describes piling up #wealth thinking it...</td>\n",
              "      <td>1</td>\n",
              "    </tr>\n",
              "    <tr>\n",
              "      <th>6363</th>\n",
              "      <td>9095</td>\n",
              "      <td>suicide%20bomb</td>\n",
              "      <td>Nigeria</td>\n",
              "      <td>#Bestnaijamade: 16yr old PKK suicide bomber wh...</td>\n",
              "      <td>1</td>\n",
              "    </tr>\n",
              "    <tr>\n",
              "      <th>6366</th>\n",
              "      <td>9098</td>\n",
              "      <td>suicide%20bomb</td>\n",
              "      <td>Nigeria</td>\n",
              "      <td>#Bestnaijamade: 16yr old PKK suicide bomber wh...</td>\n",
              "      <td>1</td>\n",
              "    </tr>\n",
              "    <tr>\n",
              "      <th>...</th>\n",
              "      <td>...</td>\n",
              "      <td>...</td>\n",
              "      <td>...</td>\n",
              "      <td>...</td>\n",
              "      <td>...</td>\n",
              "    </tr>\n",
              "    <tr>\n",
              "      <th>6094</th>\n",
              "      <td>8702</td>\n",
              "      <td>sinking</td>\n",
              "      <td>NaN</td>\n",
              "      <td>that horrible sinking feeling when youÛªve be...</td>\n",
              "      <td>0</td>\n",
              "    </tr>\n",
              "    <tr>\n",
              "      <th>6103</th>\n",
              "      <td>8714</td>\n",
              "      <td>sinking</td>\n",
              "      <td>NaN</td>\n",
              "      <td>that horrible sinking feeling when youÛªve be...</td>\n",
              "      <td>0</td>\n",
              "    </tr>\n",
              "    <tr>\n",
              "      <th>6123</th>\n",
              "      <td>8739</td>\n",
              "      <td>sinking</td>\n",
              "      <td>MA</td>\n",
              "      <td>that horrible sinking feeling when youÛªve be...</td>\n",
              "      <td>1</td>\n",
              "    </tr>\n",
              "    <tr>\n",
              "      <th>5620</th>\n",
              "      <td>8018</td>\n",
              "      <td>refugees</td>\n",
              "      <td>NaN</td>\n",
              "      <td>wowo--=== 12000 Nigerian refugees repatriated ...</td>\n",
              "      <td>1</td>\n",
              "    </tr>\n",
              "    <tr>\n",
              "      <th>5641</th>\n",
              "      <td>8044</td>\n",
              "      <td>refugees</td>\n",
              "      <td>NaN</td>\n",
              "      <td>wowo--=== 12000 Nigerian refugees repatriated ...</td>\n",
              "      <td>0</td>\n",
              "    </tr>\n",
              "  </tbody>\n",
              "</table>\n",
              "<p>179 rows × 5 columns</p>\n",
              "</div>"
            ],
            "text/plain": [
              "        id  ... target\n",
              "4290  6094  ...      0\n",
              "4299  6105  ...      0\n",
              "4312  6123  ...      1\n",
              "6363  9095  ...      1\n",
              "6366  9098  ...      1\n",
              "...    ...  ...    ...\n",
              "6094  8702  ...      0\n",
              "6103  8714  ...      0\n",
              "6123  8739  ...      1\n",
              "5620  8018  ...      1\n",
              "5641  8044  ...      0\n",
              "\n",
              "[179 rows x 5 columns]"
            ]
          },
          "metadata": {
            "tags": []
          },
          "execution_count": 13
        }
      ]
    },
    {
      "cell_type": "code",
      "metadata": {
        "id": "pidpqYcrWM3p"
      },
      "source": [
        "# dropping ALL duplicte values\n",
        "train.drop_duplicates(subset =\"text\",\n",
        "                     keep = False, inplace = True)"
      ],
      "execution_count": 14,
      "outputs": []
    },
    {
      "cell_type": "code",
      "metadata": {
        "colab": {
          "base_uri": "https://localhost:8080/"
        },
        "id": "DnBayW6ZWby0",
        "outputId": "1e4dda10-6e5c-4c6b-aa79-e0b0dff30cd6"
      },
      "source": [
        "train.info() # we can see that the number of entries reduced from 7613 to 7434"
      ],
      "execution_count": 15,
      "outputs": [
        {
          "output_type": "stream",
          "text": [
            "<class 'pandas.core.frame.DataFrame'>\n",
            "Int64Index: 7434 entries, 0 to 7612\n",
            "Data columns (total 5 columns):\n",
            " #   Column    Non-Null Count  Dtype \n",
            "---  ------    --------------  ----- \n",
            " 0   id        7434 non-null   int64 \n",
            " 1   keyword   7378 non-null   object\n",
            " 2   location  4982 non-null   object\n",
            " 3   text      7434 non-null   object\n",
            " 4   target    7434 non-null   int64 \n",
            "dtypes: int64(2), object(3)\n",
            "memory usage: 348.5+ KB\n"
          ],
          "name": "stdout"
        }
      ]
    },
    {
      "cell_type": "code",
      "metadata": {
        "colab": {
          "base_uri": "https://localhost:8080/",
          "height": 607
        },
        "id": "k_gU4cVOSxSS",
        "outputId": "d0b8a185-14b8-4413-9869-d9242f7fc690"
      },
      "source": [
        "def get_top_n_words(corpus, n=None):\n",
        "    vec = CountVectorizer().fit(corpus)\n",
        "    bag_of_words = vec.transform(corpus)\n",
        "    sum_words = bag_of_words.sum(axis=0) \n",
        "    words_freq = [(word, sum_words[0, idx]) for word, idx in vec.vocabulary_.items()]\n",
        "    words_freq =sorted(words_freq, key = lambda x: x[1], reverse=True)\n",
        "    return words_freq[:n]\n",
        "common_words = get_top_n_words(train['text'], 20)\n",
        "df1 = pd.DataFrame(common_words, columns = ['Text' , 'count'])\n",
        "\n",
        "plt.figure(figsize=(15,10))\n",
        "df1.groupby('Text').sum()['count'].sort_values(ascending=False).plot(kind='barh', \n",
        "                                                                     title= 'Top 20 words before cleaning',\n",
        "                                                                     alpha=0.5,\n",
        "                                                                     facecolor='Green')\n",
        "plt.show()"
      ],
      "execution_count": 16,
      "outputs": [
        {
          "output_type": "display_data",
          "data": {
            "image/png": "[encoded data removed]",
            "text/plain": [
              "<Figure size 1080x720 with 1 Axes>"
            ]
          },
          "metadata": {
            "tags": [],
            "needs_background": "light"
          }
        }
      ]
    },
    {
      "cell_type": "code",
      "metadata": {
        "colab": {
          "base_uri": "https://localhost:8080/",
          "height": 607
        },
        "id": "ingue-U3XUH2",
        "outputId": "85368633-24a3-477d-815a-3ecb9ab064d1"
      },
      "source": [
        "def get_top_n_bigram(corpus, n=None):\n",
        "    vec = CountVectorizer(ngram_range=(2, 2)).fit(corpus)\n",
        "    bag_of_words = vec.transform(corpus)\n",
        "    sum_words = bag_of_words.sum(axis=0) \n",
        "    words_freq = [(word, sum_words[0, idx]) for word, idx in vec.vocabulary_.items()]\n",
        "    words_freq =sorted(words_freq, key = lambda x: x[1], reverse=True)\n",
        "    return words_freq[:n]\n",
        "\n",
        "\n",
        "common_words = get_top_n_bigram(train['text'], 20)\n",
        "\n",
        "df2 = pd.DataFrame(common_words, columns = ['Text' , 'count'])\n",
        "\n",
        "plt.figure(figsize=(15,10))\n",
        "df2.groupby('Text').sum()['count'].sort_values(ascending=False).plot(\n",
        "    kind='barh', alpha=0.5,facecolor='red',title='Top 20 bigrams before cleaning')\n",
        "plt.show()"
      ],
      "execution_count": 17,
      "outputs": [
        {
          "output_type": "display_data",
          "data": {
            "image/png": "[encoded data removed]",
            "text/plain": [
              "<Figure size 1080x720 with 1 Axes>"
            ]
          },
          "metadata": {
            "tags": [],
            "needs_background": "light"
          }
        }
      ]
    },
    {
      "cell_type": "code",
      "metadata": {
        "colab": {
          "base_uri": "https://localhost:8080/",
          "height": 624
        },
        "id": "u2ySFYj5XgtJ",
        "outputId": "5a5a9d49-6748-458f-96e5-20db41c2642d"
      },
      "source": [
        "def get_top_n_trigram(corpus, n=None):\n",
        "    vec = CountVectorizer(ngram_range=(3, 3)).fit(corpus)\n",
        "    bag_of_words = vec.transform(corpus)\n",
        "    sum_words = bag_of_words.sum(axis=0) \n",
        "    words_freq = [(word, sum_words[0, idx]) for word, idx in vec.vocabulary_.items()]\n",
        "    words_freq =sorted(words_freq, key = lambda x: x[1], reverse=True)\n",
        "    return words_freq[:n]\n",
        "\n",
        "\n",
        "common_words = get_top_n_trigram(train['text'], 20)\n",
        "\n",
        "df3 = pd.DataFrame(common_words, columns = ['Text' , 'count'])\n",
        "\n",
        "plt.figure(figsize=(15,10))\n",
        "df3.groupby('Text').sum()['count'].sort_values(ascending=False).plot(\n",
        "    kind='barh', alpha=0.5,facecolor='grey', title='Top 20 trigrams before cleaning')\n"
      ],
      "execution_count": 18,
      "outputs": [
        {
          "output_type": "execute_result",
          "data": {
            "text/plain": [
              "<matplotlib.axes._subplots.AxesSubplot at 0x7f103e352cd0>"
            ]
          },
          "metadata": {
            "tags": []
          },
          "execution_count": 18
        },
        {
          "output_type": "display_data",
          "data": {
            "image/png": "[encoded data removed]",
            "text/plain": [
              "<Figure size 1080x720 with 1 Axes>"
            ]
          },
          "metadata": {
            "tags": [],
            "needs_background": "light"
          }
        }
      ]
    },
    {
      "cell_type": "markdown",
      "metadata": {
        "id": "31dVK_Srqnud"
      },
      "source": [
        "### Text Cleaning"
      ]
    },
    {
      "cell_type": "code",
      "metadata": {
        "id": "9X2iTknrQ4Tj"
      },
      "source": [
        "STOPWORDS = nltk.corpus.stopwords.words('english')\n",
        "\n",
        "def clean_text(text):\n",
        "    \"\"\"\n",
        "    Applies some pre-processing on the given text.\n",
        "\n",
        "    Steps :\n",
        "    - Removing HTML tags\n",
        "    - Removing punctuation\n",
        "    - Lowering text\n",
        "    \"\"\"\n",
        "    emoji_pattern = re.compile(\"[\"\n",
        "                           u\"\\U0001F600-\\U0001F64F\"  # emoticons\n",
        "                           u\"\\U0001F300-\\U0001F5FF\"  # symbols & pictographs\n",
        "                           u\"\\U0001F680-\\U0001F6FF\"  # transport & map symbols\n",
        "                           u\"\\U0001F1E0-\\U0001F1FF\"  # flags (iOS)\n",
        "                           u\"\\U00002702-\\U000027B0\"\n",
        "                           u\"\\U000024C2-\\U0001F251\"\n",
        "                           \"]+\", flags=re.UNICODE)\n",
        "    \n",
        "    # remove HTML tags\n",
        "    text = re.sub(r'<.*?>', '', text)\n",
        "    \n",
        "    # remove the characters [\\], ['] and [\"]\n",
        "    text = re.sub(r\"\\\\\", \"\", text)    \n",
        "    text = re.sub(r\"\\'\", \"\", text)    \n",
        "    text = re.sub(r\"\\\"\", \"\", text)\n",
        "    text = re.sub(r\"http\\S+\", \"\", text)\n",
        "    text = re.sub('[0-9]+', '', text)\n",
        "    text = re.sub(r'\\b\\w\\b', ' ', text)\n",
        "    text = re.sub('@[^\\s]+','',text)\n",
        "    text = emoji_pattern.sub(r'', text)\n",
        "\n",
        "    # Special characters\n",
        "    text = re.sub(r\"\\x89Û_\", \"\", text)\n",
        "    text = re.sub(r\"\\x89ÛÒ\", \"\", text)\n",
        "    text = re.sub(r\"\\x89ÛÓ\", \"\", text)\n",
        "    text = re.sub(r\"\\x89ÛÏWhen\", \"When\", text)\n",
        "    text = re.sub(r\"\\x89ÛÏ\", \"\", text)\n",
        "    text = re.sub(r\"China\\x89Ûªs\", \"China's\", text)\n",
        "    text = re.sub(r\"let\\x89Ûªs\", \"let's\", text)\n",
        "    text = re.sub(r\"\\x89Û÷\", \"\", text)\n",
        "    text = re.sub(r\"\\x89Ûª\", \"\", text)\n",
        "    text = re.sub(r\"\\x89Û\\x9d\", \"\", text)\n",
        "    text = re.sub(r\"å_\", \"\", text)\n",
        "    text = re.sub(r\"\\x89Û¢\", \"\", text)\n",
        "    text = re.sub(r\"\\x89Û¢åÊ\", \"\", text)\n",
        "    text = re.sub(r\"fromåÊwounds\", \"from wounds\", text)\n",
        "    text = re.sub(r\"åÊ\", \"\", text)\n",
        "    text = re.sub(r\"åÈ\", \"\", text)\n",
        "    text = re.sub(r\"JapÌ_n\", \"Japan\", text)    \n",
        "    text = re.sub(r\"Ì©\", \"e\", text)\n",
        "    text = re.sub(r\"å¨\", \"\", text)\n",
        "    text = re.sub(r\"SuruÌ¤\", \"Suruc\", text)\n",
        "    text = re.sub(r\"åÇ\", \"\", text)\n",
        "    text = re.sub(r\"å£3million\", \"3 million\", text)\n",
        "    text = re.sub(r\"åÀ\", \"\", text)       \n",
        "    \n",
        "    # convert text to lowercase\n",
        "    text = text.strip().lower()\n",
        "    \n",
        "    # replace punctuation characters with spaces\n",
        "    filters='!\"\\'#$%&()*+,-./:;<=>?@[\\\\]^_`{|}~\\t\\n'\n",
        "    translate_dict = dict((c, \" \") for c in filters)\n",
        "    translate_map = str.maketrans(translate_dict)\n",
        "    text = text.translate(translate_map)\n",
        "    text = ' '.join(word for word in text.split() if word not in STOPWORDS if len(word)>=3) # remove stopwords from text\n",
        "\n",
        "    return text\n",
        "\n",
        "\n",
        "def tokenize(text):\n",
        "  tokens = nltk.word_tokenize(text)\n",
        "  return tokens\n",
        "\n",
        "lemmatizer = WordNetLemmatizer()\n",
        "def lemmatize(text):\n",
        "  lem_list = [lemmatizer.lemmatize(word) for word in text]\n",
        "  return lem_list\n",
        "\n",
        "def rejoin_words(text):\n",
        "  joined_words = (\" \".join(text))\n",
        "  return joined_words"
      ],
      "execution_count": 21,
      "outputs": []
    },
    {
      "cell_type": "code",
      "metadata": {
        "id": "uCV6EG7UYDLQ"
      },
      "source": [
        "train['text']=train['text'].apply(clean_text)\n",
        "train['text']=train['text'].apply(tokenize)\n",
        "train['text']=train['text'].apply(lemmatize)\n",
        "train['text']=train['text'].apply(rejoin_words)"
      ],
      "execution_count": 22,
      "outputs": []
    },
    {
      "cell_type": "code",
      "metadata": {
        "colab": {
          "base_uri": "https://localhost:8080/",
          "height": 204
        },
        "id": "i66HW3Sj7GXG",
        "outputId": "f124b140-c442-476e-85ad-c2905da73da5"
      },
      "source": [
        "train.head()"
      ],
      "execution_count": 23,
      "outputs": [
        {
          "output_type": "execute_result",
          "data": {
            "text/html": [
              "<div>\n",
              "<style scoped>\n",
              "    .dataframe tbody tr th:only-of-type {\n",
              "        vertical-align: middle;\n",
              "    }\n",
              "\n",
              "    .dataframe tbody tr th {\n",
              "        vertical-align: top;\n",
              "    }\n",
              "\n",
              "    .dataframe thead th {\n",
              "        text-align: right;\n",
              "    }\n",
              "</style>\n",
              "<table border=\"1\" class=\"dataframe\">\n",
              "  <thead>\n",
              "    <tr style=\"text-align: right;\">\n",
              "      <th></th>\n",
              "      <th>id</th>\n",
              "      <th>keyword</th>\n",
              "      <th>location</th>\n",
              "      <th>text</th>\n",
              "      <th>target</th>\n",
              "    </tr>\n",
              "  </thead>\n",
              "  <tbody>\n",
              "    <tr>\n",
              "      <th>0</th>\n",
              "      <td>1</td>\n",
              "      <td>NaN</td>\n",
              "      <td>NaN</td>\n",
              "      <td>deed reason earthquake may allah forgive</td>\n",
              "      <td>1</td>\n",
              "    </tr>\n",
              "    <tr>\n",
              "      <th>1</th>\n",
              "      <td>4</td>\n",
              "      <td>NaN</td>\n",
              "      <td>NaN</td>\n",
              "      <td>forest fire near ronge sask canada</td>\n",
              "      <td>1</td>\n",
              "    </tr>\n",
              "    <tr>\n",
              "      <th>2</th>\n",
              "      <td>5</td>\n",
              "      <td>NaN</td>\n",
              "      <td>NaN</td>\n",
              "      <td>resident asked shelter place notified officer ...</td>\n",
              "      <td>1</td>\n",
              "    </tr>\n",
              "    <tr>\n",
              "      <th>3</th>\n",
              "      <td>6</td>\n",
              "      <td>NaN</td>\n",
              "      <td>NaN</td>\n",
              "      <td>people receive wildfire evacuation order calif...</td>\n",
              "      <td>1</td>\n",
              "    </tr>\n",
              "    <tr>\n",
              "      <th>4</th>\n",
              "      <td>7</td>\n",
              "      <td>NaN</td>\n",
              "      <td>NaN</td>\n",
              "      <td>got sent photo ruby alaska smoke wildfire pour...</td>\n",
              "      <td>1</td>\n",
              "    </tr>\n",
              "  </tbody>\n",
              "</table>\n",
              "</div>"
            ],
            "text/plain": [
              "   id keyword  ...                                               text target\n",
              "0   1     NaN  ...           deed reason earthquake may allah forgive      1\n",
              "1   4     NaN  ...                 forest fire near ronge sask canada      1\n",
              "2   5     NaN  ...  resident asked shelter place notified officer ...      1\n",
              "3   6     NaN  ...  people receive wildfire evacuation order calif...      1\n",
              "4   7     NaN  ...  got sent photo ruby alaska smoke wildfire pour...      1\n",
              "\n",
              "[5 rows x 5 columns]"
            ]
          },
          "metadata": {
            "tags": []
          },
          "execution_count": 23
        }
      ]
    },
    {
      "cell_type": "code",
      "metadata": {
        "colab": {
          "base_uri": "https://localhost:8080/",
          "height": 607
        },
        "id": "Qr_cNej4Y_fw",
        "outputId": "710a3792-4b1b-4057-ae06-88179decd0b8"
      },
      "source": [
        "common_words = get_top_n_words(train['text'], 20)\n",
        "df1_b = pd.DataFrame(common_words, columns = ['Text' , 'count'])\n",
        "\n",
        "plt.figure(figsize=(15,10))\n",
        "df1_b.groupby('Text').sum()['count'].sort_values(ascending=False).plot(kind='barh', \n",
        "                                                                     title= 'Top 20 words after cleaning',\n",
        "                                                                     alpha=0.5,\n",
        "                                                                     facecolor='Green')\n",
        "plt.show()"
      ],
      "execution_count": 24,
      "outputs": [
        {
          "output_type": "display_data",
          "data": {
            "image/png": "[encoded data removed]",
            "text/plain": [
              "<Figure size 1080x720 with 1 Axes>"
            ]
          },
          "metadata": {
            "tags": [],
            "needs_background": "light"
          }
        }
      ]
    },
    {
      "cell_type": "code",
      "metadata": {
        "colab": {
          "base_uri": "https://localhost:8080/",
          "height": 607
        },
        "id": "qITn2kkWZZGf",
        "outputId": "9bbe96a2-24ef-4997-be38-3f1b2a431846"
      },
      "source": [
        "common_words = get_top_n_bigram(train['text'], 20)\n",
        "\n",
        "df2_b = pd.DataFrame(common_words, columns = ['Text' , 'count'])\n",
        "\n",
        "plt.figure(figsize=(15,10))\n",
        "df2_b.groupby('Text').sum()['count'].sort_values(ascending=False).plot(\n",
        "    kind='barh', alpha=0.5,facecolor='red',title='Top 20 bigrams after cleaning')\n",
        "plt.show()"
      ],
      "execution_count": 25,
      "outputs": [
        {
          "output_type": "display_data",
          "data": {
            "image/png": "[encoded data removed]",
            "text/plain": [
              "<Figure size 1080x720 with 1 Axes>"
            ]
          },
          "metadata": {
            "tags": [],
            "needs_background": "light"
          }
        }
      ]
    },
    {
      "cell_type": "code",
      "metadata": {
        "colab": {
          "base_uri": "https://localhost:8080/",
          "height": 624
        },
        "id": "bKhdabaEZk0n",
        "outputId": "3ec0baef-c355-47ac-d6e9-38fcaebdc2c4"
      },
      "source": [
        "common_words = get_top_n_trigram(train['text'], 20)\n",
        "\n",
        "df3_b = pd.DataFrame(common_words, columns = ['Text' , 'count'])\n",
        "\n",
        "plt.figure(figsize=(15,10))\n",
        "df3_b.groupby('Text').sum()['count'].sort_values(ascending=False).plot(\n",
        "    kind='barh', alpha=0.5,facecolor='blue', title='Top 20 trigrams after cleaning')"
      ],
      "execution_count": 26,
      "outputs": [
        {
          "output_type": "execute_result",
          "data": {
            "text/plain": [
              "<matplotlib.axes._subplots.AxesSubplot at 0x7f1035550610>"
            ]
          },
          "metadata": {
            "tags": []
          },
          "execution_count": 26
        },
        {
          "output_type": "display_data",
          "data": {
            "image/png": "[encoded data removed]",
            "text/plain": [
              "<Figure size 1080x720 with 1 Axes>"
            ]
          },
          "metadata": {
            "tags": [],
            "needs_background": "light"
          }
        }
      ]
    },
    {
      "cell_type": "markdown",
      "metadata": {
        "id": "k5Ihft64qr_H"
      },
      "source": [
        "### Polarity exploration"
      ]
    },
    {
      "cell_type": "code",
      "metadata": {
        "id": "38At2o9OYM30"
      },
      "source": [
        "train['polarity'] = train['text'].map(lambda text: TextBlob(text).sentiment.polarity)\n",
        "train['word_count'] = train['text'].apply(lambda x: len(str(x).split()))"
      ],
      "execution_count": 27,
      "outputs": []
    },
    {
      "cell_type": "code",
      "metadata": {
        "colab": {
          "base_uri": "https://localhost:8080/"
        },
        "id": "rRzU3-FPYZYd",
        "outputId": "7fa5decf-b691-4e06-bb83-9534b44bc5de"
      },
      "source": [
        "print('5 random reviews with the highest positive sentiment polarity: \\n')\n",
        "cl = train.loc[train.polarity >0, ['text']].sample(5).values\n",
        "for c in cl:\n",
        "    print(c[0])"
      ],
      "execution_count": 28,
      "outputs": [
        {
          "output_type": "stream",
          "text": [
            "5 random reviews with the highest positive sentiment polarity: \n",
            "\n",
            "keep drown insult feel devote pride ten fold action reprocussions set birth retroactive\n",
            "meat loving feminist world riot grill arrived oliviamiles\n",
            "latest home razed northern california wildfire latest wildfire burning california\n",
            "completely understand woke like minute ago burning\n",
            "thats beyond adorable hope wont wrecked noticed\n"
          ],
          "name": "stdout"
        }
      ]
    },
    {
      "cell_type": "code",
      "metadata": {
        "colab": {
          "base_uri": "https://localhost:8080/"
        },
        "id": "jdywb8SkYkYt",
        "outputId": "aac7107d-5537-46be-868a-d7be939eba20"
      },
      "source": [
        "print('5 random reviews with the most negative sentiment polarity: \\n')\n",
        "cl = train.loc[train.polarity < 0, ['text']].sample(5).values\n",
        "for c in cl:\n",
        "    print(c[0])"
      ],
      "execution_count": 29,
      "outputs": [
        {
          "output_type": "stream",
          "text": [
            "5 random reviews with the most negative sentiment polarity: \n",
            "\n",
            "hollywood movie trapped miner released chile hollywood movie trapped miner starring\n",
            "news update enugu government demolish illegal structure international conference centre via daily post\n",
            "white twister black shift knob thread size\n",
            "politics democracy hatred hate dawabsha threaten erode israeli democracy homegrown terrorism\n",
            "rockyfire update california hwy closed direction due lake county fire cafire wildfire\n"
          ],
          "name": "stdout"
        }
      ]
    },
    {
      "cell_type": "code",
      "metadata": {
        "colab": {
          "base_uri": "https://localhost:8080/"
        },
        "id": "aMJy2ZAmoSFj",
        "outputId": "72dacaed-1ba0-4c70-811c-6d88942338bb"
      },
      "source": [
        "print('5 random reviews with neutral sentiment polarity: \\n')\n",
        "cl = train.loc[train.polarity == 0, ['text']].sample(5).values\n",
        "for c in cl:\n",
        "    print(c[0])"
      ],
      "execution_count": 30,
      "outputs": [
        {
          "output_type": "stream",
          "text": [
            "5 random reviews with neutral sentiment polarity: \n",
            "\n",
            "one talking risk suicide bomber hiding amongst migrant stowing aboard eurotunnel train\n",
            "radioactive box quarantined israel ashdod port evacuated emergency team discovered radiation emittin\n",
            "court back session testimony continues med examiner discussing gunshot wound kerricktrial\n",
            "feel attacked\n",
            "render assistance gain proxy hostage fortune ssu\n"
          ],
          "name": "stdout"
        }
      ]
    },
    {
      "cell_type": "code",
      "metadata": {
        "colab": {
          "base_uri": "https://localhost:8080/"
        },
        "id": "JLH9lI7yZBJ5",
        "outputId": "17987003-8283-4be7-e151-eb3154d546f9"
      },
      "source": [
        "train.polarity.min()"
      ],
      "execution_count": 31,
      "outputs": [
        {
          "output_type": "execute_result",
          "data": {
            "text/plain": [
              "-1.0"
            ]
          },
          "metadata": {
            "tags": []
          },
          "execution_count": 31
        }
      ]
    },
    {
      "cell_type": "code",
      "metadata": {
        "colab": {
          "base_uri": "https://localhost:8080/",
          "height": 979
        },
        "id": "7tRTVeEFZCm2",
        "outputId": "19441460-a531-4510-f941-ef9ae25b529d"
      },
      "source": [
        "\n",
        "train.loc[train.polarity == -1.0]\n"
      ],
      "execution_count": 32,
      "outputs": [
        {
          "output_type": "execute_result",
          "data": {
            "text/html": [
              "<div>\n",
              "<style scoped>\n",
              "    .dataframe tbody tr th:only-of-type {\n",
              "        vertical-align: middle;\n",
              "    }\n",
              "\n",
              "    .dataframe tbody tr th {\n",
              "        vertical-align: top;\n",
              "    }\n",
              "\n",
              "    .dataframe thead th {\n",
              "        text-align: right;\n",
              "    }\n",
              "</style>\n",
              "<table border=\"1\" class=\"dataframe\">\n",
              "  <thead>\n",
              "    <tr style=\"text-align: right;\">\n",
              "      <th></th>\n",
              "      <th>id</th>\n",
              "      <th>keyword</th>\n",
              "      <th>location</th>\n",
              "      <th>text</th>\n",
              "      <th>target</th>\n",
              "      <th>polarity</th>\n",
              "      <th>word_count</th>\n",
              "    </tr>\n",
              "  </thead>\n",
              "  <tbody>\n",
              "    <tr>\n",
              "      <th>143</th>\n",
              "      <td>205</td>\n",
              "      <td>airplane%20accident</td>\n",
              "      <td>Hyderabad Telangana INDIA</td>\n",
              "      <td>horrible accident man died wing airplane</td>\n",
              "      <td>1</td>\n",
              "      <td>-1.0</td>\n",
              "      <td>6</td>\n",
              "    </tr>\n",
              "    <tr>\n",
              "      <th>145</th>\n",
              "      <td>209</td>\n",
              "      <td>airplane%20accident</td>\n",
              "      <td>bangalore</td>\n",
              "      <td>horrible accident man died wing airplane watch...</td>\n",
              "      <td>1</td>\n",
              "      <td>-1.0</td>\n",
              "      <td>7</td>\n",
              "    </tr>\n",
              "    <tr>\n",
              "      <th>152</th>\n",
              "      <td>218</td>\n",
              "      <td>airplane%20accident</td>\n",
              "      <td>NaN</td>\n",
              "      <td>unbelievably insane man airport airplane aircr...</td>\n",
              "      <td>1</td>\n",
              "      <td>-1.0</td>\n",
              "      <td>10</td>\n",
              "    </tr>\n",
              "    <tr>\n",
              "      <th>153</th>\n",
              "      <td>219</td>\n",
              "      <td>airplane%20accident</td>\n",
              "      <td>Mumbai india</td>\n",
              "      <td>horrible accident man died wing airplane</td>\n",
              "      <td>1</td>\n",
              "      <td>-1.0</td>\n",
              "      <td>6</td>\n",
              "    </tr>\n",
              "    <tr>\n",
              "      <th>154</th>\n",
              "      <td>220</td>\n",
              "      <td>airplane%20accident</td>\n",
              "      <td>sri lanka</td>\n",
              "      <td>horrible accident man died wing airplane</td>\n",
              "      <td>1</td>\n",
              "      <td>-1.0</td>\n",
              "      <td>6</td>\n",
              "    </tr>\n",
              "    <tr>\n",
              "      <th>162</th>\n",
              "      <td>235</td>\n",
              "      <td>airplane%20accident</td>\n",
              "      <td>India</td>\n",
              "      <td>omg horrible accident man died wing airplane</td>\n",
              "      <td>1</td>\n",
              "      <td>-1.0</td>\n",
              "      <td>7</td>\n",
              "    </tr>\n",
              "    <tr>\n",
              "      <th>166</th>\n",
              "      <td>241</td>\n",
              "      <td>airplane%20accident</td>\n",
              "      <td>Fashion Heaven. IG: TMId_</td>\n",
              "      <td>phone look like car ship airplane accident ter...</td>\n",
              "      <td>0</td>\n",
              "      <td>-1.0</td>\n",
              "      <td>8</td>\n",
              "    </tr>\n",
              "    <tr>\n",
              "      <th>426</th>\n",
              "      <td>617</td>\n",
              "      <td>arsonist</td>\n",
              "      <td>ss</td>\n",
              "      <td>trick think nasty thing</td>\n",
              "      <td>0</td>\n",
              "      <td>-1.0</td>\n",
              "      <td>4</td>\n",
              "    </tr>\n",
              "    <tr>\n",
              "      <th>454</th>\n",
              "      <td>657</td>\n",
              "      <td>attack</td>\n",
              "      <td>Freeport IL. USA</td>\n",
              "      <td>horrific attack wife muslim italy liveleak news</td>\n",
              "      <td>1</td>\n",
              "      <td>-1.0</td>\n",
              "      <td>7</td>\n",
              "    </tr>\n",
              "    <tr>\n",
              "      <th>501</th>\n",
              "      <td>726</td>\n",
              "      <td>attacked</td>\n",
              "      <td>Los Angeles, CA</td>\n",
              "      <td>worst person questioning julie attacked guy em...</td>\n",
              "      <td>0</td>\n",
              "      <td>-1.0</td>\n",
              "      <td>7</td>\n",
              "    </tr>\n",
              "    <tr>\n",
              "      <th>869</th>\n",
              "      <td>1254</td>\n",
              "      <td>blood</td>\n",
              "      <td>NaN</td>\n",
              "      <td>kinda shii nasty blood pun intended</td>\n",
              "      <td>0</td>\n",
              "      <td>-1.0</td>\n",
              "      <td>6</td>\n",
              "    </tr>\n",
              "    <tr>\n",
              "      <th>1164</th>\n",
              "      <td>1676</td>\n",
              "      <td>bridge%20collapse</td>\n",
              "      <td>New Delhi, Delhi</td>\n",
              "      <td>ash australia collapse trent bridge among wors...</td>\n",
              "      <td>1</td>\n",
              "      <td>-1.0</td>\n",
              "      <td>11</td>\n",
              "    </tr>\n",
              "    <tr>\n",
              "      <th>1186</th>\n",
              "      <td>1707</td>\n",
              "      <td>bridge%20collapse</td>\n",
              "      <td>NaN</td>\n",
              "      <td>ash australia collapse trent bridge among wors...</td>\n",
              "      <td>0</td>\n",
              "      <td>-1.0</td>\n",
              "      <td>11</td>\n",
              "    </tr>\n",
              "    <tr>\n",
              "      <th>2410</th>\n",
              "      <td>3469</td>\n",
              "      <td>derailed</td>\n",
              "      <td>Washington, DC</td>\n",
              "      <td>update passenger metro train derails causing t...</td>\n",
              "      <td>1</td>\n",
              "      <td>-1.0</td>\n",
              "      <td>13</td>\n",
              "    </tr>\n",
              "    <tr>\n",
              "      <th>3557</th>\n",
              "      <td>5083</td>\n",
              "      <td>famine</td>\n",
              "      <td>Massachusetts</td>\n",
              "      <td>russia destroys food people hungry one insane ...</td>\n",
              "      <td>1</td>\n",
              "      <td>-1.0</td>\n",
              "      <td>8</td>\n",
              "    </tr>\n",
              "    <tr>\n",
              "      <th>3717</th>\n",
              "      <td>5285</td>\n",
              "      <td>fear</td>\n",
              "      <td>Thibodaux, LA</td>\n",
              "      <td>worst fear</td>\n",
              "      <td>0</td>\n",
              "      <td>-1.0</td>\n",
              "      <td>2</td>\n",
              "    </tr>\n",
              "    <tr>\n",
              "      <th>3856</th>\n",
              "      <td>5486</td>\n",
              "      <td>flames</td>\n",
              "      <td>United States</td>\n",
              "      <td>see devastation amp shocking firefighter conti...</td>\n",
              "      <td>1</td>\n",
              "      <td>-1.0</td>\n",
              "      <td>11</td>\n",
              "    </tr>\n",
              "    <tr>\n",
              "      <th>3976</th>\n",
              "      <td>5652</td>\n",
              "      <td>flooding</td>\n",
              "      <td>Jakarta/Kuala Lumpur/S'pore</td>\n",
              "      <td>myanmar msf assisting thousand worst flooding ...</td>\n",
              "      <td>1</td>\n",
              "      <td>-1.0</td>\n",
              "      <td>10</td>\n",
              "    </tr>\n",
              "    <tr>\n",
              "      <th>4134</th>\n",
              "      <td>5881</td>\n",
              "      <td>hailstorm</td>\n",
              "      <td>Heaven</td>\n",
              "      <td>grow calgary avoids worst city wicked weather</td>\n",
              "      <td>1</td>\n",
              "      <td>-1.0</td>\n",
              "      <td>7</td>\n",
              "    </tr>\n",
              "    <tr>\n",
              "      <th>4824</th>\n",
              "      <td>6867</td>\n",
              "      <td>mass%20murder</td>\n",
              "      <td>Melbourne, Australia</td>\n",
              "      <td>hiroshima one history worst example mass murde...</td>\n",
              "      <td>1</td>\n",
              "      <td>-1.0</td>\n",
              "      <td>11</td>\n",
              "    </tr>\n",
              "    <tr>\n",
              "      <th>4849</th>\n",
              "      <td>6908</td>\n",
              "      <td>mass%20murderer</td>\n",
              "      <td>Earth-616</td>\n",
              "      <td>creel must think real moron flag man brainless...</td>\n",
              "      <td>0</td>\n",
              "      <td>-1.0</td>\n",
              "      <td>15</td>\n",
              "    </tr>\n",
              "    <tr>\n",
              "      <th>4904</th>\n",
              "      <td>6980</td>\n",
              "      <td>massacre</td>\n",
              "      <td>NaN</td>\n",
              "      <td>iof murdered palestinian child gaza massacre z...</td>\n",
              "      <td>1</td>\n",
              "      <td>-1.0</td>\n",
              "      <td>11</td>\n",
              "    </tr>\n",
              "    <tr>\n",
              "      <th>5392</th>\n",
              "      <td>7693</td>\n",
              "      <td>panic</td>\n",
              "      <td>NaN</td>\n",
              "      <td>panic attack worst</td>\n",
              "      <td>0</td>\n",
              "      <td>-1.0</td>\n",
              "      <td>3</td>\n",
              "    </tr>\n",
              "    <tr>\n",
              "      <th>5799</th>\n",
              "      <td>8278</td>\n",
              "      <td>rioting</td>\n",
              "      <td>NaN</td>\n",
              "      <td>group mascara smeared girl rioting horrific think</td>\n",
              "      <td>1</td>\n",
              "      <td>-1.0</td>\n",
              "      <td>7</td>\n",
              "    </tr>\n",
              "    <tr>\n",
              "      <th>5856</th>\n",
              "      <td>8367</td>\n",
              "      <td>ruin</td>\n",
              "      <td>Belfast</td>\n",
              "      <td>ruin something awful minion</td>\n",
              "      <td>0</td>\n",
              "      <td>-1.0</td>\n",
              "      <td>4</td>\n",
              "    </tr>\n",
              "    <tr>\n",
              "      <th>5857</th>\n",
              "      <td>8368</td>\n",
              "      <td>ruin</td>\n",
              "      <td>fujo garbage heaven</td>\n",
              "      <td>really awful cant even work make artist ruin t...</td>\n",
              "      <td>0</td>\n",
              "      <td>-1.0</td>\n",
              "      <td>9</td>\n",
              "    </tr>\n",
              "    <tr>\n",
              "      <th>6079</th>\n",
              "      <td>8685</td>\n",
              "      <td>sinkhole</td>\n",
              "      <td>ÌÏT: 42.910975,-78.865828</td>\n",
              "      <td>sewer look like sinking happens pre sinkhole g...</td>\n",
              "      <td>0</td>\n",
              "      <td>-1.0</td>\n",
              "      <td>9</td>\n",
              "    </tr>\n",
              "    <tr>\n",
              "      <th>6244</th>\n",
              "      <td>8920</td>\n",
              "      <td>snowstorm</td>\n",
              "      <td>Deployed in the Middle East</td>\n",
              "      <td>besides nasty thunderstorm snowstorm nah cant say</td>\n",
              "      <td>0</td>\n",
              "      <td>-1.0</td>\n",
              "      <td>7</td>\n",
              "    </tr>\n",
              "    <tr>\n",
              "      <th>6672</th>\n",
              "      <td>9563</td>\n",
              "      <td>thunder</td>\n",
              "      <td>South Carolina, USA</td>\n",
              "      <td>worst part seeing lightning trying guess thund...</td>\n",
              "      <td>0</td>\n",
              "      <td>-1.0</td>\n",
              "      <td>8</td>\n",
              "    </tr>\n",
              "    <tr>\n",
              "      <th>7195</th>\n",
              "      <td>10307</td>\n",
              "      <td>weapon</td>\n",
              "      <td>NaN</td>\n",
              "      <td>nuclear bomb terrible weapon</td>\n",
              "      <td>1</td>\n",
              "      <td>-1.0</td>\n",
              "      <td>4</td>\n",
              "    </tr>\n",
              "  </tbody>\n",
              "</table>\n",
              "</div>"
            ],
            "text/plain": [
              "         id              keyword  ... polarity word_count\n",
              "143     205  airplane%20accident  ...     -1.0          6\n",
              "145     209  airplane%20accident  ...     -1.0          7\n",
              "152     218  airplane%20accident  ...     -1.0         10\n",
              "153     219  airplane%20accident  ...     -1.0          6\n",
              "154     220  airplane%20accident  ...     -1.0          6\n",
              "162     235  airplane%20accident  ...     -1.0          7\n",
              "166     241  airplane%20accident  ...     -1.0          8\n",
              "426     617             arsonist  ...     -1.0          4\n",
              "454     657               attack  ...     -1.0          7\n",
              "501     726             attacked  ...     -1.0          7\n",
              "869    1254                blood  ...     -1.0          6\n",
              "1164   1676    bridge%20collapse  ...     -1.0         11\n",
              "1186   1707    bridge%20collapse  ...     -1.0         11\n",
              "2410   3469             derailed  ...     -1.0         13\n",
              "3557   5083               famine  ...     -1.0          8\n",
              "3717   5285                 fear  ...     -1.0          2\n",
              "3856   5486               flames  ...     -1.0         11\n",
              "3976   5652             flooding  ...     -1.0         10\n",
              "4134   5881            hailstorm  ...     -1.0          7\n",
              "4824   6867        mass%20murder  ...     -1.0         11\n",
              "4849   6908      mass%20murderer  ...     -1.0         15\n",
              "4904   6980             massacre  ...     -1.0         11\n",
              "5392   7693                panic  ...     -1.0          3\n",
              "5799   8278              rioting  ...     -1.0          7\n",
              "5856   8367                 ruin  ...     -1.0          4\n",
              "5857   8368                 ruin  ...     -1.0          9\n",
              "6079   8685             sinkhole  ...     -1.0          9\n",
              "6244   8920            snowstorm  ...     -1.0          7\n",
              "6672   9563              thunder  ...     -1.0          8\n",
              "7195  10307               weapon  ...     -1.0          4\n",
              "\n",
              "[30 rows x 7 columns]"
            ]
          },
          "metadata": {
            "tags": []
          },
          "execution_count": 32
        }
      ]
    },
    {
      "cell_type": "code",
      "metadata": {
        "colab": {
          "base_uri": "https://localhost:8080/",
          "height": 336
        },
        "id": "RcLAATp1ZI_2",
        "outputId": "baa3924e-83ff-40ba-e2bc-b41e99b119fc"
      },
      "source": [
        "plt.figure(figsize=(15,5))\n",
        "train['polarity'].plot(\n",
        "    kind='hist',\n",
        "    bins=15,\n",
        "    alpha=0.5,\n",
        "    facecolor='blue',\n",
        "    title='Sentiment Polarity Distribution')\n",
        "\n",
        "plt.show()"
      ],
      "execution_count": 33,
      "outputs": [
        {
          "output_type": "display_data",
          "data": {
            "image/png": "[encoded data removed]",
            "text/plain": [
              "<Figure size 1080x360 with 1 Axes>"
            ]
          },
          "metadata": {
            "tags": [],
            "needs_background": "light"
          }
        }
      ]
    },
    {
      "cell_type": "code",
      "metadata": {
        "id": "nPW09Zfmv3mv"
      },
      "source": [
        "#analyze the wrong polarities"
      ],
      "execution_count": null,
      "outputs": []
    },
    {
      "cell_type": "code",
      "metadata": {
        "colab": {
          "base_uri": "https://localhost:8080/"
        },
        "id": "GLWAQjH2sI4P",
        "outputId": "b3f209f6-2ef0-4fea-8649-0b06b30cfeb0"
      },
      "source": [
        "cor_neg_pol = 0\n",
        "mis_neg_pol= 0\n",
        "cor_pos_pol = 0\n",
        "mis_pos_pol = 0\n",
        "for i,j in enumerate(train['polarity']):\n",
        "  if j < 0:\n",
        "    if train['target'].iloc[i]==1:\n",
        "      cor_neg_pol +=1\n",
        "    else:\n",
        "      mis_neg_pol+=1\n",
        "  if j > 0:\n",
        "    if train['target'].iloc[i]==1:\n",
        "      cor_pos_pol +=1\n",
        "    else:\n",
        "      mis_pos_pol+=1\n",
        "\n",
        "print('The correct negative classified according to polarity are:',cor_neg_pol)\n",
        "print('The wrongly negative classified according to polarity are:',mis_neg_pol)\n",
        "print(80*'-')\n",
        "print('The correct positive classified according to polarity are:',cor_pos_pol)\n",
        "print('The wrongly positive classified according to polarity are:',mis_pos_pol)"
      ],
      "execution_count": 34,
      "outputs": [
        {
          "output_type": "stream",
          "text": [
            "The correct negative classified according to polarity are: 748\n",
            "The wrongly negative classified according to polarity are: 829\n",
            "--------------------------------------------------------------------------------\n",
            "The correct positive classified according to polarity are: 798\n",
            "The wrongly positive classified according to polarity are: 1514\n"
          ],
          "name": "stdout"
        }
      ]
    },
    {
      "cell_type": "markdown",
      "metadata": {
        "id": "Ja7FrNEDbXkN"
      },
      "source": [
        "Based on polarity we can see that the majority of words classified as neutral. The more we investigate into it we can see that that there are wrong classied tweets for both categories. Thus polarity doesn't contitute a correct approach to predict disastrous tweets."
      ]
    },
    {
      "cell_type": "code",
      "metadata": {
        "colab": {
          "base_uri": "https://localhost:8080/",
          "height": 336
        },
        "id": "WG0nsmW4xhAB",
        "outputId": "c16460d7-64b0-422a-b98d-ec3c00421a03"
      },
      "source": [
        "plt.figure(figsize=(15,5))\n",
        "train['word_count'].plot(\n",
        "    kind='hist',\n",
        "    bins=15,\n",
        "    alpha=0.5,\n",
        "    facecolor='blue',\n",
        "    title='Number of words in tweets')\n",
        "\n",
        "plt.show()\n"
      ],
      "execution_count": 35,
      "outputs": [
        {
          "output_type": "display_data",
          "data": {
            "image/png": "[encoded data removed]",
            "text/plain": [
              "<Figure size 1080x360 with 1 Axes>"
            ]
          },
          "metadata": {
            "tags": [],
            "needs_background": "light"
          }
        }
      ]
    },
    {
      "cell_type": "markdown",
      "metadata": {
        "id": "LWSSu9gUeHlA"
      },
      "source": [
        "Maybe there is a pattern that more negative tweets are generated with fewer words since people would be in some sort of a hurry when face an uncomfortable situation"
      ]
    },
    {
      "cell_type": "code",
      "metadata": {
        "id": "gRo5IiKA6PZn"
      },
      "source": [
        "neg_bel_10 = 0 #negative below 10 words\n",
        "pos_bel_10= 0 #positive below 10 words\n",
        "neg_abo_10 = 0 #negative above 10 words\n",
        "pos_abo_10 = 0 #positive above 10 words\n",
        "for i,j in enumerate(train['word_count']):\n",
        "  if j < 10:\n",
        "    if train['target'].iloc[i]==1:\n",
        "      neg_bel_10 +=1\n",
        "    else:\n",
        "      pos_bel_10+=1\n",
        "  if j > 10:\n",
        "    if train['target'].iloc[i]==1:\n",
        "      neg_abo_10 +=1\n",
        "    else:\n",
        "      pos_abo_10+=1"
      ],
      "execution_count": 36,
      "outputs": []
    },
    {
      "cell_type": "code",
      "metadata": {
        "colab": {
          "base_uri": "https://localhost:8080/"
        },
        "id": "mGQ6tmsydFDv",
        "outputId": "531991a7-ea1a-446d-8d53-9b2cfb5743d8"
      },
      "source": [
        "print('Negative tweets below 10 words:',neg_bel_10)\n",
        "print('Positive tweets below 10 words:',pos_bel_10)\n",
        "print(80*'-')\n",
        "print('Negative tweets above 10 words:',neg_abo_10)\n",
        "print('Positive tweets below 10 words:',pos_abo_10)"
      ],
      "execution_count": null,
      "outputs": [
        {
          "output_type": "stream",
          "text": [
            "Negative tweets below 10 words: 1763\n",
            "Positive tweets below 10 words: 2698\n",
            "--------------------------------------------------------------------------------\n",
            "Negative tweets above 10 words: 1064\n",
            "Positive tweets below 10 words: 1238\n"
          ],
          "name": "stdout"
        }
      ]
    },
    {
      "cell_type": "markdown",
      "metadata": {
        "id": "w8YgeTSpeY5t"
      },
      "source": [
        "From the above results it seems that no pattern links the length of tweets with their category"
      ]
    },
    {
      "cell_type": "markdown",
      "metadata": {
        "id": "2T8D1x6ke7Vz"
      },
      "source": [
        "From the analysis above we can conclude that keyword, country and id are not useful for detecting the tweet positivity thus, we will exclude them in order to proceed further"
      ]
    },
    {
      "cell_type": "markdown",
      "metadata": {
        "id": "hi_VB0DqvUb8"
      },
      "source": [
        "exporting to csv for later use in pytorch"
      ]
    },
    {
      "cell_type": "code",
      "metadata": {
        "id": "bnvvjmeyvY4r"
      },
      "source": [
        "#prepare csv files for train and validation iterators\n",
        "train.to_csv('/content/drive/MyDrive/disaster_tweet/dataset_train.csv', index=False)\n",
        "\n"
      ],
      "execution_count": 37,
      "outputs": []
    }
  ]
}