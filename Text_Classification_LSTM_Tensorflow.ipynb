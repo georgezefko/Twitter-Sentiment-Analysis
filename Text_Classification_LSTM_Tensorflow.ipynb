{
  "nbformat": 4,
  "nbformat_minor": 0,
  "metadata": {
    "colab": {
      "name": "Text_Classification_LSTM_Tensorflow.ipynb",
      "provenance": [],
      "authorship_tag": "ABX9TyPM+rUeQVUMNe5Adc5yWb6g",
      "include_colab_link": true
    },
    "kernelspec": {
      "name": "python3",
      "display_name": "Python 3"
    }
  },
  "cells": [
    {
      "cell_type": "markdown",
      "metadata": {
        "id": "view-in-github",
        "colab_type": "text"
      },
      "source": [
        "<a href=\"https://colab.research.google.com/github/georgezefko/Twitter-Sentiment-Analysis/blob/main/Text_Classification_LSTM_Tensorflow.ipynb\" target=\"_parent\"><img src=\"https://colab.research.google.com/assets/colab-badge.svg\" alt=\"Open In Colab\"/></a>"
      ]
    },
    {
      "cell_type": "code",
      "metadata": {
        "colab": {
          "base_uri": "https://localhost:8080/"
        },
        "id": "c6UJCfelBi6Q",
        "outputId": "991c9c0c-7cc4-42ef-96cb-fc787c806498"
      },
      "source": [
        "import pandas as pd\n",
        "import re\n",
        "import numpy as np\n",
        "import matplotlib.pyplot as plt\n",
        "from nltk.tokenize import word_tokenize\n",
        "from nltk.stem.porter import PorterStemmer\n",
        "from nltk.stem import WordNetLemmatizer\n",
        "import seaborn as sns\n",
        "from collections import Counter\n",
        "import nltk\n",
        "nltk.download('stopwords')\n",
        "from nltk.corpus import stopwords\n",
        "nltk.download('wordnet')\n",
        "nltk.download('punkt')\n",
        "nltk.download('averaged_perceptron_tagger') \n",
        "from nltk import sent_tokenize\n",
        "from sklearn.utils import resample\n",
        "import unicodedata\n",
        "import string\n",
        "np.random.seed(0)\n",
        "from keras.models import Model\n",
        "from keras.layers import Dense, Input, Dropout, LSTM, Activation,Bidirectional\n",
        "from keras.layers.embeddings import Embedding\n",
        "from keras.preprocessing import sequence\n",
        "from keras.initializers import glorot_uniform\n",
        "np.random.seed(1)"
      ],
      "execution_count": 1,
      "outputs": [
        {
          "output_type": "stream",
          "text": [
            "[nltk_data] Downloading package stopwords to /root/nltk_data...\n",
            "[nltk_data]   Unzipping corpora/stopwords.zip.\n",
            "[nltk_data] Downloading package wordnet to /root/nltk_data...\n",
            "[nltk_data]   Unzipping corpora/wordnet.zip.\n",
            "[nltk_data] Downloading package punkt to /root/nltk_data...\n",
            "[nltk_data]   Unzipping tokenizers/punkt.zip.\n",
            "[nltk_data] Downloading package averaged_perceptron_tagger to\n",
            "[nltk_data]     /root/nltk_data...\n",
            "[nltk_data]   Unzipping taggers/averaged_perceptron_tagger.zip.\n"
          ],
          "name": "stdout"
        }
      ]
    },
    {
      "cell_type": "code",
      "metadata": {
        "colab": {
          "base_uri": "https://localhost:8080/"
        },
        "id": "iabKw2PHB-DM",
        "outputId": "3477541f-832d-4669-c759-0d9a06747262"
      },
      "source": [
        "from google.colab import drive\n",
        "drive.mount('/content/drive', force_remount=True)"
      ],
      "execution_count": 2,
      "outputs": [
        {
          "output_type": "stream",
          "text": [
            "Mounted at /content/drive\n"
          ],
          "name": "stdout"
        }
      ]
    },
    {
      "cell_type": "code",
      "metadata": {
        "id": "sUUoXev7CIgE"
      },
      "source": [
        "train_data = '/content/drive/MyDrive/disaster_tweet/'\n",
        "train = pd.read_csv(train_data+'train.csv')\n",
        "test = pd.read_csv(train_data+'test.csv')"
      ],
      "execution_count": 3,
      "outputs": []
    },
    {
      "cell_type": "code",
      "metadata": {
        "id": "c-10FBFBCLky"
      },
      "source": [
        "#save only the text and target data drop the unnecessary columns\n",
        "train = train.drop(['id','keyword','location'], axis=1)\n",
        "test = test.drop(['id','keyword','location'], axis=1)"
      ],
      "execution_count": 4,
      "outputs": []
    },
    {
      "cell_type": "code",
      "metadata": {
        "id": "rOEoMQqGCPe1"
      },
      "source": [
        "STOPWORDS = nltk.corpus.stopwords.words('english')\n",
        "\n",
        "def clean_text(text):\n",
        "    \"\"\"\n",
        "    Applies some pre-processing on the given text.\n",
        "\n",
        "    Steps :\n",
        "    - Removing HTML tags\n",
        "    - Removing punctuation\n",
        "    - Lowering text\n",
        "    \"\"\"\n",
        "    emoji_pattern = re.compile(\"[\"\n",
        "                           u\"\\U0001F600-\\U0001F64F\"  # emoticons\n",
        "                           u\"\\U0001F300-\\U0001F5FF\"  # symbols & pictographs\n",
        "                           u\"\\U0001F680-\\U0001F6FF\"  # transport & map symbols\n",
        "                           u\"\\U0001F1E0-\\U0001F1FF\"  # flags (iOS)\n",
        "                           u\"\\U00002702-\\U000027B0\"\n",
        "                           u\"\\U000024C2-\\U0001F251\"\n",
        "                           \"]+\", flags=re.UNICODE)\n",
        "    \n",
        "    # remove HTML tags\n",
        "    text = re.sub(r'<.*?>', '', text)\n",
        "    \n",
        "    # remove the characters [\\], ['] and [\"]\n",
        "    text = re.sub(r\"\\\\\", \"\", text)    \n",
        "    text = re.sub(r\"\\'\", \"\", text)    \n",
        "    text = re.sub(r\"\\\"\", \"\", text)\n",
        "    text = re.sub(r\"http\\S+\", \"\", text)\n",
        "    text = re.sub('[0-9]+', '', text)\n",
        "    text = re.sub(r'\\b\\w\\b', ' ', text)\n",
        "    text = re.sub('@[^\\s]+','',text)\n",
        "    text = emoji_pattern.sub(r'', text)       \n",
        "    \n",
        "    # convert text to lowercase\n",
        "    text = text.strip().lower()\n",
        "    \n",
        "    # replace punctuation characters with spaces\n",
        "    filters='!\"\\'#$%&()*+,-./:;<=>?@[\\\\]^_`{|}~\\t\\n'\n",
        "    translate_dict = dict((c, \" \") for c in filters)\n",
        "    translate_map = str.maketrans(translate_dict)\n",
        "    text = text.translate(translate_map)\n",
        "    text = ' '.join(word for word in text.split() if word not in STOPWORDS if len(word)>=3) # remove stopwords from text\n",
        "\n",
        "    return text\n",
        "\n",
        "\n",
        "def tokenize(text):\n",
        "  tokens = nltk.word_tokenize(text)\n",
        "  return tokens\n",
        "\n",
        "lemmatizer = WordNetLemmatizer()\n",
        "def lemmatize(text):\n",
        "  lem_list = [lemmatizer.lemmatize(word) for word in text]\n",
        "  return lem_list\n",
        "\n",
        "def rejoin_words(text):\n",
        "  joined_words = (\" \".join(text))\n",
        "  return joined_words"
      ],
      "execution_count": 5,
      "outputs": []
    },
    {
      "cell_type": "code",
      "metadata": {
        "id": "5dPe9rk6CRFm"
      },
      "source": [
        "train['text']=train['text'].apply(clean_text)\n",
        "train['text']=train['text'].apply(tokenize)\n",
        "train['text']=train['text'].apply(lemmatize)\n",
        "train['text']=train['text'].apply(rejoin_words)"
      ],
      "execution_count": 6,
      "outputs": []
    },
    {
      "cell_type": "code",
      "metadata": {
        "id": "bVuQ2BhUCaTl"
      },
      "source": [
        "train_sentences = train['text'].values\n",
        "train_labels = train['target'].values"
      ],
      "execution_count": 12,
      "outputs": []
    },
    {
      "cell_type": "code",
      "metadata": {
        "id": "Ie15AfMpCZ9u"
      },
      "source": [
        "from sklearn.model_selection import train_test_split\n",
        "X_train, X_valid, y_train, y_valid = train_test_split(train_sentences, train_labels, test_size=0.2)"
      ],
      "execution_count": 13,
      "outputs": []
    },
    {
      "cell_type": "code",
      "metadata": {
        "id": "8ucJzEbsF2mO"
      },
      "source": [
        "maxLen = len(max(X_train, key=len).split())"
      ],
      "execution_count": 14,
      "outputs": []
    },
    {
      "cell_type": "code",
      "metadata": {
        "colab": {
          "base_uri": "https://localhost:8080/"
        },
        "id": "A2NvgockXWSr",
        "outputId": "6656fe25-6c83-4f33-84dc-ea31c442dd40"
      },
      "source": [
        "maxLen"
      ],
      "execution_count": 15,
      "outputs": [
        {
          "output_type": "execute_result",
          "data": {
            "text/plain": [
              "21"
            ]
          },
          "metadata": {
            "tags": []
          },
          "execution_count": 15
        }
      ]
    },
    {
      "cell_type": "code",
      "metadata": {
        "id": "YBCkT0zsClzA"
      },
      "source": [
        "def read_glove_vecs(glove_file):\n",
        "    with open(glove_file, 'r') as f:\n",
        "        words = set()\n",
        "        word_to_vec_map = {}\n",
        "        for line in f:\n",
        "            line = line.strip().split()\n",
        "            curr_word = line[0]\n",
        "            words.add(curr_word)\n",
        "            word_to_vec_map[curr_word] = np.array(line[1:], dtype=np.float64)\n",
        "        \n",
        "        i = 1\n",
        "        words_to_index = {}\n",
        "        index_to_words = {}\n",
        "        for w in sorted(words):\n",
        "            words_to_index[w] = i\n",
        "            index_to_words[i] = w\n",
        "            i = i + 1\n",
        "    return words_to_index, index_to_words, word_to_vec_map"
      ],
      "execution_count": 16,
      "outputs": []
    },
    {
      "cell_type": "code",
      "metadata": {
        "id": "0liQKKNJCm2W"
      },
      "source": [
        "word_to_index, index_to_word, word_to_vec_map = read_glove_vecs('/content/drive/MyDrive/disaster_tweet/glove.6B.50d.txt')"
      ],
      "execution_count": 17,
      "outputs": []
    },
    {
      "cell_type": "code",
      "metadata": {
        "id": "0Q35817SEdPA"
      },
      "source": [
        "def sentences_to_indices(X, word_to_index, max_len):\n",
        "    \n",
        "    m = X.shape[0] # number of training examples\n",
        "    \n",
        "    \n",
        "    X_indices = np.zeros((m, max_len))\n",
        "    \n",
        "    for i in range(m):                               \n",
        "        \n",
        "        # Convert the ith training sentence in lower case and split is into words. You should get a list of words.\n",
        "        sentence_words =X[i].lower().split()\n",
        "        \n",
        "        # Initialize j to 0\n",
        "        j = 0\n",
        "        \n",
        "        # Loop over the words of sentence_words\n",
        "        for w in sentence_words:\n",
        "          if w not in word_to_index: #needs to be fixed\n",
        "              w = 'unk'\n",
        "            # Set the (i,j)th entry of X_indices to the index of the correct word.\n",
        "          X_indices[i, j] = word_to_index[w]\n",
        "            # Increment j to j + 1\n",
        "          j = j + 1\n",
        "            \n",
        "    \n",
        "    \n",
        "    return X_indices"
      ],
      "execution_count": 18,
      "outputs": []
    },
    {
      "cell_type": "code",
      "metadata": {
        "colab": {
          "base_uri": "https://localhost:8080/"
        },
        "id": "pqIXMxF0F-z_",
        "outputId": "d6922641-b083-4504-c951-697a51f30bc4"
      },
      "source": [
        "X1 = np.array([\"funny lol\", \"lets play baseball siouxlan\", \"food is ready for you\"])\n",
        "X1_indices = sentences_to_indices(X1,word_to_index, max_len = 5)\n",
        "print(\"X1 =\", X1)\n",
        "print(\"X1_indices =\\n\", X1_indices)"
      ],
      "execution_count": 19,
      "outputs": [
        {
          "output_type": "stream",
          "text": [
            "X1 = ['funny lol' 'lets play baseball siouxlan' 'food is ready for you']\n",
            "X1_indices =\n",
            " [[155345. 225122.      0.      0.      0.]\n",
            " [220930. 286375.  69714. 372306.      0.]\n",
            " [151204. 192973. 302254. 151349. 394475.]]\n"
          ],
          "name": "stdout"
        }
      ]
    },
    {
      "cell_type": "code",
      "metadata": {
        "colab": {
          "base_uri": "https://localhost:8080/"
        },
        "id": "EqnGLYPLGDRp",
        "outputId": "44c19f05-d823-49a0-d063-6fa2aceb3f5c"
      },
      "source": [
        "X2 = X_train[2:4]\n",
        "X2_indices = sentences_to_indices(X2,word_to_index, maxLen )\n",
        "print(\"X1 =\", X2)\n",
        "print(\"X1_indices =\\n\", X2_indices)"
      ],
      "execution_count": 20,
      "outputs": [
        {
          "output_type": "stream",
          "text": [
            "X1 = ['every bts song jimin scream'\n",
            " 'new type adhd head injury child linked long term attention problem']\n",
            "X1_indices =\n",
            " [[141941.  85744. 337465. 197746. 322154.      0.      0.      0.      0.\n",
            "       0.      0.      0.      0.      0.      0.      0.      0.      0.\n",
            "       0.      0.      0.]\n",
            " [259972. 368669.  46435. 175207. 190227.  98970. 223138. 225289. 356157.\n",
            "   62719. 292794.      0.      0.      0.      0.      0.      0.      0.\n",
            "       0.      0.      0.]]\n"
          ],
          "name": "stdout"
        }
      ]
    },
    {
      "cell_type": "code",
      "metadata": {
        "id": "SG9nrsavHFvN"
      },
      "source": [
        "def pretrained_embedding_layer(word_to_vec_map, word_to_index):\n",
        "    \n",
        "    \n",
        "    vocab_len = len(word_to_index) + 1                  # adding 1 to fit Keras embedding (requirement)\n",
        "    emb_dim = word_to_vec_map[\"cucumber\"].shape[0]      # define dimensionality of your GloVe word vectors (= 50)\n",
        "    \n",
        "    \n",
        "    emb_matrix = np.zeros((vocab_len,emb_dim))\n",
        "    \n",
        "    \n",
        "   \n",
        "    for word, idx in word_to_index.items():\n",
        "        emb_matrix[idx, :] = word_to_vec_map[word]\n",
        "\n",
        "   \n",
        "    embedding_layer = Embedding(vocab_len, emb_dim, trainable=False)\n",
        "    \n",
        "    embedding_layer.build((None,)) \n",
        "    \n",
        "    \n",
        "    embedding_layer.set_weights([emb_matrix])\n",
        "    \n",
        "    return embedding_layer"
      ],
      "execution_count": 21,
      "outputs": []
    },
    {
      "cell_type": "code",
      "metadata": {
        "colab": {
          "base_uri": "https://localhost:8080/"
        },
        "id": "ui_JA60bHIcP",
        "outputId": "abf9ed32-03bb-4d62-effa-1567eaab0466"
      },
      "source": [
        "embedding_layer = pretrained_embedding_layer(word_to_vec_map, word_to_index)\n",
        "print(\"weights[0][1][3] =\", embedding_layer.get_weights()[0][1][3])"
      ],
      "execution_count": 22,
      "outputs": [
        {
          "output_type": "stream",
          "text": [
            "weights[0][1][3] = -0.3403\n"
          ],
          "name": "stdout"
        }
      ]
    },
    {
      "cell_type": "code",
      "metadata": {
        "id": "QBID3sUpJWeQ"
      },
      "source": [
        "def tweet_classifier(input_shape, word_to_vec_map, word_to_index):\n",
        "    \n",
        "    sentence_indices = Input(input_shape, dtype='int32')\n",
        "    \n",
        "    \n",
        "    embedding_layer = pretrained_embedding_layer(word_to_vec_map, word_to_index)\n",
        "    \n",
        "    embeddings = embedding_layer(sentence_indices)   \n",
        "    \n",
        "    \n",
        "    X = Bidirectional(LSTM(128, return_sequences=True))(embeddings)\n",
        "    X = Dropout(0.3)(X)\n",
        "    \n",
        "    X = Bidirectional(LSTM(128, return_sequences=True))(X)\n",
        "    \n",
        "    X = Dropout(0.3)(X)\n",
        "    \n",
        "    X = Bidirectional(LSTM(128, return_sequences=False))(X)\n",
        "    \n",
        "    X = Dropout(0.3)(X)\n",
        "    X = Dense(1)(X)\n",
        "    \n",
        "    X = Activation('sigmoid')(X)\n",
        "    \n",
        "    model = Model(sentence_indices, X)\n",
        "    \n",
        "   \n",
        "    \n",
        "    return model"
      ],
      "execution_count": 23,
      "outputs": []
    },
    {
      "cell_type": "code",
      "metadata": {
        "colab": {
          "base_uri": "https://localhost:8080/"
        },
        "id": "DZa1EO1PJz5D",
        "outputId": "451b2b43-6fc5-4ca9-eba2-558f6721b680"
      },
      "source": [
        "model = tweet_classifier((maxLen,), word_to_vec_map, word_to_index)\n",
        "model.summary()"
      ],
      "execution_count": 24,
      "outputs": [
        {
          "output_type": "stream",
          "text": [
            "Model: \"model\"\n",
            "_________________________________________________________________\n",
            "Layer (type)                 Output Shape              Param #   \n",
            "=================================================================\n",
            "input_1 (InputLayer)         [(None, 21)]              0         \n",
            "_________________________________________________________________\n",
            "embedding_1 (Embedding)      (None, 21, 50)            20000050  \n",
            "_________________________________________________________________\n",
            "bidirectional (Bidirectional (None, 21, 256)           183296    \n",
            "_________________________________________________________________\n",
            "dropout (Dropout)            (None, 21, 256)           0         \n",
            "_________________________________________________________________\n",
            "bidirectional_1 (Bidirection (None, 21, 256)           394240    \n",
            "_________________________________________________________________\n",
            "dropout_1 (Dropout)          (None, 21, 256)           0         \n",
            "_________________________________________________________________\n",
            "bidirectional_2 (Bidirection (None, 256)               394240    \n",
            "_________________________________________________________________\n",
            "dropout_2 (Dropout)          (None, 256)               0         \n",
            "_________________________________________________________________\n",
            "dense (Dense)                (None, 1)                 257       \n",
            "_________________________________________________________________\n",
            "activation (Activation)      (None, 1)                 0         \n",
            "=================================================================\n",
            "Total params: 20,972,083\n",
            "Trainable params: 972,033\n",
            "Non-trainable params: 20,000,050\n",
            "_________________________________________________________________\n"
          ],
          "name": "stdout"
        }
      ]
    },
    {
      "cell_type": "code",
      "metadata": {
        "colab": {
          "base_uri": "https://localhost:8080/",
          "height": 953
        },
        "id": "s0oeF5_9RTEE",
        "outputId": "39046fd7-db73-4d0e-d1ea-9dfd0d67cbe4"
      },
      "source": [
        "from tensorflow.keras.utils import plot_model\n",
        "plot_model(model)"
      ],
      "execution_count": null,
      "outputs": [
        {
          "output_type": "execute_result",
          "data": {
            "image/png": "[encoded data removed]",
            "text/plain": [
              "<IPython.core.display.Image object>"
            ]
          },
          "metadata": {
            "tags": []
          },
          "execution_count": 27
        }
      ]
    },
    {
      "cell_type": "code",
      "metadata": {
        "id": "N4PABi4SJ0wK"
      },
      "source": [
        "model.compile(loss='binary_crossentropy', optimizer='adam', metrics=['accuracy'])"
      ],
      "execution_count": 25,
      "outputs": []
    },
    {
      "cell_type": "code",
      "metadata": {
        "id": "MHxBWAv3J-Y1"
      },
      "source": [
        "X_train_indices = sentences_to_indices(X_train, word_to_index, maxLen )\n",
        "X_valid_indices = sentences_to_indices(X_valid, word_to_index, maxLen )\n"
      ],
      "execution_count": 26,
      "outputs": []
    },
    {
      "cell_type": "code",
      "metadata": {
        "colab": {
          "base_uri": "https://localhost:8080/"
        },
        "id": "WBSnayX8KBul",
        "outputId": "daa66375-7108-48a6-9d04-6001103a64bb"
      },
      "source": [
        "history = model.fit(X_train_indices, y_train, epochs = 50, batch_size = 32,shuffle=True, validation_data=(X_valid_indices, y_valid))"
      ],
      "execution_count": 27,
      "outputs": [
        {
          "output_type": "stream",
          "text": [
            "Epoch 1/50\n",
            "191/191 [==============================] - 60s 261ms/step - loss: 0.5170 - accuracy: 0.7525 - val_loss: 0.4477 - val_accuracy: 0.8070\n",
            "Epoch 2/50\n",
            "191/191 [==============================] - 46s 241ms/step - loss: 0.4482 - accuracy: 0.8035 - val_loss: 0.4684 - val_accuracy: 0.8004\n",
            "Epoch 3/50\n",
            "191/191 [==============================] - 45s 236ms/step - loss: 0.4309 - accuracy: 0.8150 - val_loss: 0.4422 - val_accuracy: 0.8063\n",
            "Epoch 4/50\n",
            "191/191 [==============================] - 44s 231ms/step - loss: 0.4181 - accuracy: 0.8169 - val_loss: 0.4695 - val_accuracy: 0.8043\n",
            "Epoch 5/50\n",
            "191/191 [==============================] - 45s 234ms/step - loss: 0.4208 - accuracy: 0.8221 - val_loss: 0.4421 - val_accuracy: 0.8096\n",
            "Epoch 6/50\n",
            "191/191 [==============================] - 44s 233ms/step - loss: 0.3624 - accuracy: 0.8448 - val_loss: 0.4479 - val_accuracy: 0.8109\n",
            "Epoch 7/50\n",
            "191/191 [==============================] - 44s 232ms/step - loss: 0.3443 - accuracy: 0.8535 - val_loss: 0.4497 - val_accuracy: 0.8056\n",
            "Epoch 8/50\n",
            "191/191 [==============================] - 44s 232ms/step - loss: 0.3369 - accuracy: 0.8607 - val_loss: 0.4646 - val_accuracy: 0.8050\n",
            "Epoch 9/50\n",
            "191/191 [==============================] - 43s 227ms/step - loss: 0.2940 - accuracy: 0.8845 - val_loss: 0.4879 - val_accuracy: 0.7971\n",
            "Epoch 10/50\n",
            "191/191 [==============================] - 45s 234ms/step - loss: 0.2790 - accuracy: 0.8938 - val_loss: 0.5285 - val_accuracy: 0.8004\n",
            "Epoch 11/50\n",
            "191/191 [==============================] - 44s 232ms/step - loss: 0.2479 - accuracy: 0.8988 - val_loss: 0.5281 - val_accuracy: 0.7997\n",
            "Epoch 12/50\n",
            "191/191 [==============================] - 45s 235ms/step - loss: 0.2103 - accuracy: 0.9198 - val_loss: 0.6170 - val_accuracy: 0.7899\n",
            "Epoch 13/50\n",
            "191/191 [==============================] - 44s 231ms/step - loss: 0.1997 - accuracy: 0.9213 - val_loss: 0.6265 - val_accuracy: 0.7945\n",
            "Epoch 14/50\n",
            "191/191 [==============================] - 44s 229ms/step - loss: 0.1701 - accuracy: 0.9339 - val_loss: 0.7325 - val_accuracy: 0.7886\n",
            "Epoch 15/50\n",
            "191/191 [==============================] - 44s 233ms/step - loss: 0.1543 - accuracy: 0.9402 - val_loss: 0.6676 - val_accuracy: 0.7925\n",
            "Epoch 16/50\n",
            "191/191 [==============================] - 44s 231ms/step - loss: 0.1325 - accuracy: 0.9475 - val_loss: 0.6962 - val_accuracy: 0.7899\n",
            "Epoch 17/50\n",
            "191/191 [==============================] - 44s 233ms/step - loss: 0.1118 - accuracy: 0.9585 - val_loss: 0.8067 - val_accuracy: 0.7899\n",
            "Epoch 18/50\n",
            "191/191 [==============================] - 44s 231ms/step - loss: 0.1038 - accuracy: 0.9579 - val_loss: 0.9115 - val_accuracy: 0.7833\n",
            "Epoch 19/50\n",
            "191/191 [==============================] - 45s 234ms/step - loss: 0.0976 - accuracy: 0.9602 - val_loss: 0.9347 - val_accuracy: 0.7807\n",
            "Epoch 20/50\n",
            "191/191 [==============================] - 44s 230ms/step - loss: 0.1073 - accuracy: 0.9580 - val_loss: 0.8378 - val_accuracy: 0.7919\n",
            "Epoch 21/50\n",
            "191/191 [==============================] - 44s 231ms/step - loss: 0.0786 - accuracy: 0.9671 - val_loss: 0.9450 - val_accuracy: 0.7827\n",
            "Epoch 22/50\n",
            "191/191 [==============================] - 44s 231ms/step - loss: 0.0775 - accuracy: 0.9668 - val_loss: 0.8966 - val_accuracy: 0.7971\n",
            "Epoch 23/50\n",
            "191/191 [==============================] - 44s 229ms/step - loss: 0.0868 - accuracy: 0.9655 - val_loss: 1.0340 - val_accuracy: 0.7840\n",
            "Epoch 24/50\n",
            "191/191 [==============================] - 45s 235ms/step - loss: 0.0735 - accuracy: 0.9696 - val_loss: 0.9961 - val_accuracy: 0.7840\n",
            "Epoch 25/50\n",
            "191/191 [==============================] - 45s 235ms/step - loss: 0.0528 - accuracy: 0.9777 - val_loss: 1.1650 - val_accuracy: 0.7800\n",
            "Epoch 26/50\n",
            "191/191 [==============================] - 45s 236ms/step - loss: 0.0633 - accuracy: 0.9757 - val_loss: 1.1040 - val_accuracy: 0.7761\n",
            "Epoch 27/50\n",
            "191/191 [==============================] - 45s 233ms/step - loss: 0.0687 - accuracy: 0.9687 - val_loss: 1.1029 - val_accuracy: 0.7879\n",
            "Epoch 28/50\n",
            "191/191 [==============================] - 45s 235ms/step - loss: 0.0650 - accuracy: 0.9739 - val_loss: 1.1849 - val_accuracy: 0.7807\n",
            "Epoch 29/50\n",
            "191/191 [==============================] - 45s 238ms/step - loss: 0.0459 - accuracy: 0.9817 - val_loss: 1.2387 - val_accuracy: 0.7787\n",
            "Epoch 30/50\n",
            "191/191 [==============================] - 45s 237ms/step - loss: 0.0609 - accuracy: 0.9710 - val_loss: 1.1103 - val_accuracy: 0.7800\n",
            "Epoch 31/50\n",
            "191/191 [==============================] - 45s 235ms/step - loss: 0.0531 - accuracy: 0.9741 - val_loss: 1.1663 - val_accuracy: 0.7892\n",
            "Epoch 32/50\n",
            "191/191 [==============================] - 45s 237ms/step - loss: 0.0480 - accuracy: 0.9801 - val_loss: 1.2876 - val_accuracy: 0.7715\n",
            "Epoch 33/50\n",
            "191/191 [==============================] - 45s 236ms/step - loss: 0.0673 - accuracy: 0.9725 - val_loss: 1.1892 - val_accuracy: 0.7761\n",
            "Epoch 34/50\n",
            "191/191 [==============================] - 44s 232ms/step - loss: 0.0514 - accuracy: 0.9756 - val_loss: 1.4268 - val_accuracy: 0.7853\n",
            "Epoch 35/50\n",
            "191/191 [==============================] - 44s 230ms/step - loss: 0.0499 - accuracy: 0.9770 - val_loss: 1.1354 - val_accuracy: 0.7846\n",
            "Epoch 36/50\n",
            "191/191 [==============================] - 44s 231ms/step - loss: 0.0636 - accuracy: 0.9725 - val_loss: 1.3783 - val_accuracy: 0.7820\n",
            "Epoch 37/50\n",
            "191/191 [==============================] - 44s 231ms/step - loss: 0.0390 - accuracy: 0.9808 - val_loss: 1.3199 - val_accuracy: 0.7905\n",
            "Epoch 38/50\n",
            "191/191 [==============================] - 44s 232ms/step - loss: 0.0375 - accuracy: 0.9819 - val_loss: 1.4219 - val_accuracy: 0.7938\n",
            "Epoch 39/50\n",
            "191/191 [==============================] - 45s 237ms/step - loss: 0.0486 - accuracy: 0.9786 - val_loss: 1.2788 - val_accuracy: 0.7702\n",
            "Epoch 40/50\n",
            "191/191 [==============================] - 45s 234ms/step - loss: 0.0544 - accuracy: 0.9766 - val_loss: 1.3157 - val_accuracy: 0.7886\n",
            "Epoch 41/50\n",
            "191/191 [==============================] - 44s 232ms/step - loss: 0.0423 - accuracy: 0.9789 - val_loss: 1.5085 - val_accuracy: 0.7846\n",
            "Epoch 42/50\n",
            "191/191 [==============================] - 45s 233ms/step - loss: 0.0377 - accuracy: 0.9831 - val_loss: 1.2516 - val_accuracy: 0.7787\n",
            "Epoch 43/50\n",
            "191/191 [==============================] - 45s 236ms/step - loss: 0.0419 - accuracy: 0.9806 - val_loss: 1.4322 - val_accuracy: 0.7965\n",
            "Epoch 44/50\n",
            "191/191 [==============================] - 45s 234ms/step - loss: 0.0490 - accuracy: 0.9783 - val_loss: 1.3787 - val_accuracy: 0.7840\n",
            "Epoch 45/50\n",
            "191/191 [==============================] - 45s 236ms/step - loss: 0.0407 - accuracy: 0.9797 - val_loss: 1.3567 - val_accuracy: 0.7886\n",
            "Epoch 46/50\n",
            "191/191 [==============================] - 45s 238ms/step - loss: 0.0322 - accuracy: 0.9844 - val_loss: 1.5021 - val_accuracy: 0.7912\n",
            "Epoch 47/50\n",
            "191/191 [==============================] - 45s 234ms/step - loss: 0.0397 - accuracy: 0.9824 - val_loss: 1.2711 - val_accuracy: 0.7807\n",
            "Epoch 48/50\n",
            "191/191 [==============================] - 45s 234ms/step - loss: 0.0696 - accuracy: 0.9696 - val_loss: 1.2149 - val_accuracy: 0.7787\n",
            "Epoch 49/50\n",
            "191/191 [==============================] - 45s 234ms/step - loss: 0.0510 - accuracy: 0.9749 - val_loss: 1.2286 - val_accuracy: 0.7827\n",
            "Epoch 50/50\n",
            "191/191 [==============================] - 44s 233ms/step - loss: 0.0417 - accuracy: 0.9808 - val_loss: 1.3778 - val_accuracy: 0.7814\n"
          ],
          "name": "stdout"
        }
      ]
    },
    {
      "cell_type": "code",
      "metadata": {
        "colab": {
          "base_uri": "https://localhost:8080/"
        },
        "id": "75ouXH28NSpX",
        "outputId": "04f3498b-8196-490c-8235-0fa9c46f3930"
      },
      "source": [
        "X_test_indices = sentences_to_indices(X_valid, word_to_index, max_len = 21 )\n",
        "\n",
        "loss, acc = model.evaluate(X_test_indices, y_valid)\n",
        "print()\n",
        "print(\"Test accuracy = \", acc)"
      ],
      "execution_count": 28,
      "outputs": [
        {
          "output_type": "stream",
          "text": [
            "48/48 [==============================] - 3s 59ms/step - loss: 1.3778 - accuracy: 0.7814\n",
            "\n",
            "Test accuracy =  0.7813525795936584\n"
          ],
          "name": "stdout"
        }
      ]
    },
    {
      "cell_type": "code",
      "metadata": {
        "id": "CeqDTAex3b5d"
      },
      "source": [
        "def plot_graphs(history, metric):\n",
        "  plt.plot(history.history[metric])\n",
        "  plt.plot(history.history['val_'+metric], '')\n",
        "  plt.xlabel(\"Epochs\")\n",
        "  plt.ylabel(metric)\n",
        "  plt.legend([metric, 'val_'+metric])"
      ],
      "execution_count": 29,
      "outputs": []
    },
    {
      "cell_type": "code",
      "metadata": {
        "colab": {
          "base_uri": "https://localhost:8080/",
          "height": 279
        },
        "id": "sCUcDUK_SHeW",
        "outputId": "207749f5-dbe6-4e44-a367-e890797fbb8d"
      },
      "source": [
        "plot_graphs(history,'accuracy')"
      ],
      "execution_count": 30,
      "outputs": [
        {
          "output_type": "display_data",
          "data": {
            "image/png": "[encoded data removed]",
            "text/plain": [
              "<Figure size 432x288 with 1 Axes>"
            ]
          },
          "metadata": {
            "tags": [],
            "needs_background": "light"
          }
        }
      ]
    },
    {
      "cell_type": "code",
      "metadata": {
        "colab": {
          "base_uri": "https://localhost:8080/",
          "height": 265
        },
        "id": "Yuq5q4SASMuk",
        "outputId": "263f4af5-da38-4063-d819-55f9b578b66c"
      },
      "source": [
        "plt.plot(history.history['loss'], label='loss')\n",
        "plt.plot(history.history['val_loss'], label='val_loss')\n",
        "plt.legend()\n",
        "plt.show()"
      ],
      "execution_count": 31,
      "outputs": [
        {
          "output_type": "display_data",
          "data": {
            "image/png": "[encoded data removed]",
            "text/plain": [
              "<Figure size 432x288 with 1 Axes>"
            ]
          },
          "metadata": {
            "tags": [],
            "needs_background": "light"
          }
        }
      ]
    },
    {
      "cell_type": "code",
      "metadata": {
        "id": "Z1XSlPT4Ognj"
      },
      "source": [
        "test['text']=test['text'].apply(clean_text)\n",
        "test['text']=test['text'].apply(tokenize)\n",
        "test['text']=test['text'].apply(lemmatize)\n",
        "test['text']=test['text'].apply(rejoin_words)\n",
        "test_sentences = test['text'].values"
      ],
      "execution_count": 32,
      "outputs": []
    },
    {
      "cell_type": "code",
      "metadata": {
        "id": "vaFzOHMU5YnD"
      },
      "source": [
        "maxLen = len(max(test_sentences, key=len).split())\n",
        "X_test_indices = sentences_to_indices(test_sentences, word_to_index, 21)\n",
        "y = model.predict(X_test_indices).round()\n",
        "y_final = y.astype(int)"
      ],
      "execution_count": 33,
      "outputs": []
    },
    {
      "cell_type": "code",
      "metadata": {
        "colab": {
          "base_uri": "https://localhost:8080/"
        },
        "id": "yxdQsU325flN",
        "outputId": "1da43665-6a09-48bc-bb38-eee3fccd8071"
      },
      "source": [
        "X_test_indices"
      ],
      "execution_count": 34,
      "outputs": [
        {
          "output_type": "execute_result",
          "data": {
            "text/plain": [
              "array([[173063., 356326.,  91624., ...,      0.,      0.,      0.],\n",
              "       [175426., 132523., 123767., ...,      0.,      0.,      0.],\n",
              "       [151580., 148728., 340109., ...,      0.,      0.,      0.],\n",
              "       ...,\n",
              "       [166484., 222946., 121383., ...,      0.,      0.,      0.],\n",
              "       [239818., 193637., 175016., ...,      0.,      0.,      0.],\n",
              "       [372306.,  45856., 252973., ...,      0.,      0.,      0.]])"
            ]
          },
          "metadata": {
            "tags": []
          },
          "execution_count": 34
        }
      ]
    },
    {
      "cell_type": "code",
      "metadata": {
        "colab": {
          "base_uri": "https://localhost:8080/"
        },
        "id": "7azcnATJdUg1",
        "outputId": "b792046e-143e-4a46-de94-beef62cc1962"
      },
      "source": [
        "y_final"
      ],
      "execution_count": 35,
      "outputs": [
        {
          "output_type": "execute_result",
          "data": {
            "text/plain": [
              "array([[1],\n",
              "       [1],\n",
              "       [1],\n",
              "       ...,\n",
              "       [1],\n",
              "       [1],\n",
              "       [1]])"
            ]
          },
          "metadata": {
            "tags": []
          },
          "execution_count": 35
        }
      ]
    },
    {
      "cell_type": "code",
      "metadata": {
        "id": "w2SBtoDxOgi7"
      },
      "source": [
        "pred = pd.DataFrame(y_final,columns=['target'])"
      ],
      "execution_count": 36,
      "outputs": []
    },
    {
      "cell_type": "code",
      "metadata": {
        "colab": {
          "base_uri": "https://localhost:8080/"
        },
        "id": "tE3ra1VIVEFA",
        "outputId": "e077a036-25b1-4348-8afb-c3df6944f445"
      },
      "source": [
        "pred['target'].value_counts()"
      ],
      "execution_count": 37,
      "outputs": [
        {
          "output_type": "execute_result",
          "data": {
            "text/plain": [
              "0    1962\n",
              "1    1301\n",
              "Name: target, dtype: int64"
            ]
          },
          "metadata": {
            "tags": []
          },
          "execution_count": 37
        }
      ]
    },
    {
      "cell_type": "code",
      "metadata": {
        "id": "6TFMHp0D7BTz"
      },
      "source": [
        "sample_submission = pd.read_csv('/content/drive/MyDrive/disaster_tweet/sample_submission.csv')\n",
        "sample_submission['target'] = pred"
      ],
      "execution_count": null,
      "outputs": []
    },
    {
      "cell_type": "code",
      "metadata": {
        "colab": {
          "base_uri": "https://localhost:8080/"
        },
        "id": "l2bWJNNXCQVd",
        "outputId": "d55d92ee-0c9c-4071-da91-f410d6fac51d"
      },
      "source": [
        "sample_submission['target'].head(20)"
      ],
      "execution_count": null,
      "outputs": [
        {
          "output_type": "execute_result",
          "data": {
            "text/plain": [
              "0     1\n",
              "1     1\n",
              "2     1\n",
              "3     1\n",
              "4     1\n",
              "5     0\n",
              "6     0\n",
              "7     0\n",
              "8     0\n",
              "9     0\n",
              "10    1\n",
              "11    0\n",
              "12    0\n",
              "13    0\n",
              "14    0\n",
              "15    1\n",
              "16    0\n",
              "17    0\n",
              "18    0\n",
              "19    0\n",
              "Name: target, dtype: int64"
            ]
          },
          "metadata": {
            "tags": []
          },
          "execution_count": 48
        }
      ]
    },
    {
      "cell_type": "code",
      "metadata": {
        "id": "SrTiWtjx1Ud-"
      },
      "source": [
        "\n",
        "submission_4 = sample_submission.to_csv('submission_4.csv', index=False)\n"
      ],
      "execution_count": null,
      "outputs": []
    },
    {
      "cell_type": "code",
      "metadata": {
        "id": "-SltsNiC_izq"
      },
      "source": [
        "sample_ = pd.read_csv('/content/submission_4.csv')\n"
      ],
      "execution_count": null,
      "outputs": []
    },
    {
      "cell_type": "code",
      "metadata": {
        "colab": {
          "base_uri": "https://localhost:8080/",
          "height": 204
        },
        "id": "4ewjy3CG_uSj",
        "outputId": "ca4a2043-3999-43df-f11e-07a5bb64f5cd"
      },
      "source": [
        "sample_.head()"
      ],
      "execution_count": null,
      "outputs": [
        {
          "output_type": "execute_result",
          "data": {
            "text/html": [
              "<div>\n",
              "<style scoped>\n",
              "    .dataframe tbody tr th:only-of-type {\n",
              "        vertical-align: middle;\n",
              "    }\n",
              "\n",
              "    .dataframe tbody tr th {\n",
              "        vertical-align: top;\n",
              "    }\n",
              "\n",
              "    .dataframe thead th {\n",
              "        text-align: right;\n",
              "    }\n",
              "</style>\n",
              "<table border=\"1\" class=\"dataframe\">\n",
              "  <thead>\n",
              "    <tr style=\"text-align: right;\">\n",
              "      <th></th>\n",
              "      <th>id</th>\n",
              "      <th>target</th>\n",
              "    </tr>\n",
              "  </thead>\n",
              "  <tbody>\n",
              "    <tr>\n",
              "      <th>0</th>\n",
              "      <td>0</td>\n",
              "      <td>1</td>\n",
              "    </tr>\n",
              "    <tr>\n",
              "      <th>1</th>\n",
              "      <td>2</td>\n",
              "      <td>1</td>\n",
              "    </tr>\n",
              "    <tr>\n",
              "      <th>2</th>\n",
              "      <td>3</td>\n",
              "      <td>1</td>\n",
              "    </tr>\n",
              "    <tr>\n",
              "      <th>3</th>\n",
              "      <td>9</td>\n",
              "      <td>1</td>\n",
              "    </tr>\n",
              "    <tr>\n",
              "      <th>4</th>\n",
              "      <td>11</td>\n",
              "      <td>1</td>\n",
              "    </tr>\n",
              "  </tbody>\n",
              "</table>\n",
              "</div>"
            ],
            "text/plain": [
              "   id  target\n",
              "0   0       1\n",
              "1   2       1\n",
              "2   3       1\n",
              "3   9       1\n",
              "4  11       1"
            ]
          },
          "metadata": {
            "tags": []
          },
          "execution_count": 51
        }
      ]
    },
    {
      "cell_type": "code",
      "metadata": {
        "id": "LKupWBO5_vZA"
      },
      "source": [
        ""
      ],
      "execution_count": null,
      "outputs": []
    }
  ]
}