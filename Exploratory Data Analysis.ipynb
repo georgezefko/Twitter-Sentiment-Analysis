{
  "nbformat": 4,
  "nbformat_minor": 0,
  "metadata": {
    "colab": {
      "name": "EDA_twitter.ipynb",
      "provenance": [],
      "authorship_tag": "ABX9TyNFk502XmB3d0FqyL0KTxR0",
      "include_colab_link": true
    },
    "kernelspec": {
      "display_name": "Python 3",
      "name": "python3"
    },
    "language_info": {
      "name": "python"
    }
  },
  "cells": [
    {
      "cell_type": "markdown",
      "metadata": {
        "id": "view-in-github",
        "colab_type": "text"
      },
      "source": [
        "<a href=\"https://colab.research.google.com/github/georgezefko/Twitter-Sentiment-Analysis/blob/main/Exploratory%20Data%20Analysis.ipynb\" target=\"_parent\"><img src=\"https://colab.research.google.com/assets/colab-badge.svg\" alt=\"Open In Colab\"/></a>"
      ]
    },
    {
      "cell_type": "code",
      "metadata": {
        "colab": {
          "base_uri": "https://localhost:8080/"
        },
        "id": "Sos-O8PEQPeQ",
        "outputId": "237d40e3-5f33-4346-c10d-0f451b9d3419"
      },
      "source": [
        "from google.colab import drive\n",
        "drive.mount('/content/drive', force_remount=True)"
      ],
      "execution_count": 1,
      "outputs": [
        {
          "output_type": "stream",
          "text": [
            "Mounted at /content/drive\n"
          ],
          "name": "stdout"
        }
      ]
    },
    {
      "cell_type": "code",
      "metadata": {
        "colab": {
          "base_uri": "https://localhost:8080/"
        },
        "id": "YMnWqQAHQ4eL",
        "outputId": "de643da8-0540-4b4f-a450-b60fcc999a8b"
      },
      "source": [
        "import pandas as pd\n",
        "import re\n",
        "import numpy as np\n",
        "import matplotlib.pyplot as plt\n",
        "from nltk.tokenize import word_tokenize\n",
        "from nltk.stem.porter import PorterStemmer\n",
        "from nltk.stem import WordNetLemmatizer\n",
        "import seaborn as sns\n",
        "from collections import Counter\n",
        "import nltk\n",
        "nltk.download('stopwords')\n",
        "from nltk.corpus import stopwords\n",
        "nltk.download('wordnet')\n",
        "nltk.download('punkt')\n",
        "nltk.download('averaged_perceptron_tagger') \n",
        "from nltk import sent_tokenize\n",
        "from textblob import TextBlob\n",
        "from sklearn.feature_extraction.text import CountVectorizer\n",
        "from sklearn.feature_extraction.text import TfidfVectorizer\n",
        "import warnings \n",
        "warnings.filterwarnings('ignore')\n",
        "import matplotlib\n",
        "import matplotlib.pyplot as plt\n",
        "import seaborn as sns\n"
      ],
      "execution_count": 250,
      "outputs": [
        {
          "output_type": "stream",
          "text": [
            "[nltk_data] Downloading package stopwords to /root/nltk_data...\n",
            "[nltk_data]   Package stopwords is already up-to-date!\n"
          ],
          "name": "stdout"
        },
        {
          "output_type": "execute_result",
          "data": {
            "text/plain": [
              "True"
            ]
          },
          "metadata": {
            "tags": []
          },
          "execution_count": 250
        },
        {
          "output_type": "stream",
          "text": [
            "[nltk_data] Downloading package wordnet to /root/nltk_data...\n",
            "[nltk_data]   Package wordnet is already up-to-date!\n"
          ],
          "name": "stdout"
        },
        {
          "output_type": "execute_result",
          "data": {
            "text/plain": [
              "True"
            ]
          },
          "metadata": {
            "tags": []
          },
          "execution_count": 250
        },
        {
          "output_type": "stream",
          "text": [
            "[nltk_data] Downloading package punkt to /root/nltk_data...\n",
            "[nltk_data]   Package punkt is already up-to-date!\n"
          ],
          "name": "stdout"
        },
        {
          "output_type": "execute_result",
          "data": {
            "text/plain": [
              "True"
            ]
          },
          "metadata": {
            "tags": []
          },
          "execution_count": 250
        },
        {
          "output_type": "stream",
          "text": [
            "[nltk_data] Downloading package averaged_perceptron_tagger to\n",
            "[nltk_data]     /root/nltk_data...\n",
            "[nltk_data]   Package averaged_perceptron_tagger is already up-to-\n",
            "[nltk_data]       date!\n"
          ],
          "name": "stdout"
        },
        {
          "output_type": "execute_result",
          "data": {
            "text/plain": [
              "True"
            ]
          },
          "metadata": {
            "tags": []
          },
          "execution_count": 250
        }
      ]
    },
    {
      "cell_type": "code",
      "metadata": {
        "id": "TyN8VfcLQ4by"
      },
      "source": [
        "train_data = '/content/drive/MyDrive/disaster_tweet/'\n",
        "train = pd.read_csv(train_data+'train.csv')\n",
        "test = pd.read_csv(train_data+'test.csv')"
      ],
      "execution_count": 191,
      "outputs": []
    },
    {
      "cell_type": "code",
      "metadata": {
        "colab": {
          "base_uri": "https://localhost:8080/",
          "height": 204
        },
        "id": "jo9ctAN_Q4Z1",
        "outputId": "f0b83d93-0422-4caa-bc78-6db80a033c40"
      },
      "source": [
        "train.head() #print the top five rows"
      ],
      "execution_count": 192,
      "outputs": [
        {
          "output_type": "execute_result",
          "data": {
            "text/html": [
              "<div>\n",
              "<style scoped>\n",
              "    .dataframe tbody tr th:only-of-type {\n",
              "        vertical-align: middle;\n",
              "    }\n",
              "\n",
              "    .dataframe tbody tr th {\n",
              "        vertical-align: top;\n",
              "    }\n",
              "\n",
              "    .dataframe thead th {\n",
              "        text-align: right;\n",
              "    }\n",
              "</style>\n",
              "<table border=\"1\" class=\"dataframe\">\n",
              "  <thead>\n",
              "    <tr style=\"text-align: right;\">\n",
              "      <th></th>\n",
              "      <th>id</th>\n",
              "      <th>keyword</th>\n",
              "      <th>location</th>\n",
              "      <th>text</th>\n",
              "      <th>target</th>\n",
              "    </tr>\n",
              "  </thead>\n",
              "  <tbody>\n",
              "    <tr>\n",
              "      <th>0</th>\n",
              "      <td>1</td>\n",
              "      <td>NaN</td>\n",
              "      <td>NaN</td>\n",
              "      <td>Our Deeds are the Reason of this #earthquake M...</td>\n",
              "      <td>1</td>\n",
              "    </tr>\n",
              "    <tr>\n",
              "      <th>1</th>\n",
              "      <td>4</td>\n",
              "      <td>NaN</td>\n",
              "      <td>NaN</td>\n",
              "      <td>Forest fire near La Ronge Sask. Canada</td>\n",
              "      <td>1</td>\n",
              "    </tr>\n",
              "    <tr>\n",
              "      <th>2</th>\n",
              "      <td>5</td>\n",
              "      <td>NaN</td>\n",
              "      <td>NaN</td>\n",
              "      <td>All residents asked to 'shelter in place' are ...</td>\n",
              "      <td>1</td>\n",
              "    </tr>\n",
              "    <tr>\n",
              "      <th>3</th>\n",
              "      <td>6</td>\n",
              "      <td>NaN</td>\n",
              "      <td>NaN</td>\n",
              "      <td>13,000 people receive #wildfires evacuation or...</td>\n",
              "      <td>1</td>\n",
              "    </tr>\n",
              "    <tr>\n",
              "      <th>4</th>\n",
              "      <td>7</td>\n",
              "      <td>NaN</td>\n",
              "      <td>NaN</td>\n",
              "      <td>Just got sent this photo from Ruby #Alaska as ...</td>\n",
              "      <td>1</td>\n",
              "    </tr>\n",
              "  </tbody>\n",
              "</table>\n",
              "</div>"
            ],
            "text/plain": [
              "   id keyword location                                               text  \\\n",
              "0   1     NaN      NaN  Our Deeds are the Reason of this #earthquake M...   \n",
              "1   4     NaN      NaN             Forest fire near La Ronge Sask. Canada   \n",
              "2   5     NaN      NaN  All residents asked to 'shelter in place' are ...   \n",
              "3   6     NaN      NaN  13,000 people receive #wildfires evacuation or...   \n",
              "4   7     NaN      NaN  Just got sent this photo from Ruby #Alaska as ...   \n",
              "\n",
              "   target  \n",
              "0       1  \n",
              "1       1  \n",
              "2       1  \n",
              "3       1  \n",
              "4       1  "
            ]
          },
          "metadata": {
            "tags": []
          },
          "execution_count": 192
        }
      ]
    },
    {
      "cell_type": "code",
      "metadata": {
        "colab": {
          "base_uri": "https://localhost:8080/",
          "height": 204
        },
        "id": "yMk0QgSx8UqM",
        "outputId": "003f8808-58aa-4d1f-99a8-85a2ffdaca1b"
      },
      "source": [
        "test.head()"
      ],
      "execution_count": 193,
      "outputs": [
        {
          "output_type": "execute_result",
          "data": {
            "text/html": [
              "<div>\n",
              "<style scoped>\n",
              "    .dataframe tbody tr th:only-of-type {\n",
              "        vertical-align: middle;\n",
              "    }\n",
              "\n",
              "    .dataframe tbody tr th {\n",
              "        vertical-align: top;\n",
              "    }\n",
              "\n",
              "    .dataframe thead th {\n",
              "        text-align: right;\n",
              "    }\n",
              "</style>\n",
              "<table border=\"1\" class=\"dataframe\">\n",
              "  <thead>\n",
              "    <tr style=\"text-align: right;\">\n",
              "      <th></th>\n",
              "      <th>id</th>\n",
              "      <th>keyword</th>\n",
              "      <th>location</th>\n",
              "      <th>text</th>\n",
              "    </tr>\n",
              "  </thead>\n",
              "  <tbody>\n",
              "    <tr>\n",
              "      <th>0</th>\n",
              "      <td>0</td>\n",
              "      <td>NaN</td>\n",
              "      <td>NaN</td>\n",
              "      <td>Just happened a terrible car crash</td>\n",
              "    </tr>\n",
              "    <tr>\n",
              "      <th>1</th>\n",
              "      <td>2</td>\n",
              "      <td>NaN</td>\n",
              "      <td>NaN</td>\n",
              "      <td>Heard about #earthquake is different cities, s...</td>\n",
              "    </tr>\n",
              "    <tr>\n",
              "      <th>2</th>\n",
              "      <td>3</td>\n",
              "      <td>NaN</td>\n",
              "      <td>NaN</td>\n",
              "      <td>there is a forest fire at spot pond, geese are...</td>\n",
              "    </tr>\n",
              "    <tr>\n",
              "      <th>3</th>\n",
              "      <td>9</td>\n",
              "      <td>NaN</td>\n",
              "      <td>NaN</td>\n",
              "      <td>Apocalypse lighting. #Spokane #wildfires</td>\n",
              "    </tr>\n",
              "    <tr>\n",
              "      <th>4</th>\n",
              "      <td>11</td>\n",
              "      <td>NaN</td>\n",
              "      <td>NaN</td>\n",
              "      <td>Typhoon Soudelor kills 28 in China and Taiwan</td>\n",
              "    </tr>\n",
              "  </tbody>\n",
              "</table>\n",
              "</div>"
            ],
            "text/plain": [
              "   id keyword location                                               text\n",
              "0   0     NaN      NaN                 Just happened a terrible car crash\n",
              "1   2     NaN      NaN  Heard about #earthquake is different cities, s...\n",
              "2   3     NaN      NaN  there is a forest fire at spot pond, geese are...\n",
              "3   9     NaN      NaN           Apocalypse lighting. #Spokane #wildfires\n",
              "4  11     NaN      NaN      Typhoon Soudelor kills 28 in China and Taiwan"
            ]
          },
          "metadata": {
            "tags": []
          },
          "execution_count": 193
        }
      ]
    },
    {
      "cell_type": "code",
      "metadata": {
        "colab": {
          "base_uri": "https://localhost:8080/"
        },
        "id": "Cm6fIHipQ4Wi",
        "outputId": "991f6bd5-fb5e-42ca-cfcf-259ee9842ef1"
      },
      "source": [
        "train.info() # look at some basic info on each column keyword and location have numerous missin values"
      ],
      "execution_count": 194,
      "outputs": [
        {
          "output_type": "stream",
          "text": [
            "<class 'pandas.core.frame.DataFrame'>\n",
            "RangeIndex: 7613 entries, 0 to 7612\n",
            "Data columns (total 5 columns):\n",
            " #   Column    Non-Null Count  Dtype \n",
            "---  ------    --------------  ----- \n",
            " 0   id        7613 non-null   int64 \n",
            " 1   keyword   7552 non-null   object\n",
            " 2   location  5080 non-null   object\n",
            " 3   text      7613 non-null   object\n",
            " 4   target    7613 non-null   int64 \n",
            "dtypes: int64(2), object(3)\n",
            "memory usage: 297.5+ KB\n"
          ],
          "name": "stdout"
        }
      ]
    },
    {
      "cell_type": "markdown",
      "metadata": {
        "id": "eIyCsHeHqcRw"
      },
      "source": [
        "### Preliminary analysis\n",
        "\n",
        "\n"
      ]
    },
    {
      "cell_type": "code",
      "metadata": {
        "colab": {
          "base_uri": "https://localhost:8080/",
          "height": 367
        },
        "id": "cxUjxlsJ9dYa",
        "outputId": "b11521e0-e504-4aee-e477-2cb94261c272"
      },
      "source": [
        "plt.figure(figsize=(10,5))\n",
        "sns.countplot(x=train.target)\n",
        "plt.title('Target distribution')\n",
        "plt.show()"
      ],
      "execution_count": 195,
      "outputs": [
        {
          "output_type": "execute_result",
          "data": {
            "text/plain": [
              "<Figure size 720x360 with 0 Axes>"
            ]
          },
          "metadata": {
            "tags": []
          },
          "execution_count": 195
        },
        {
          "output_type": "execute_result",
          "data": {
            "text/plain": [
              "<matplotlib.axes._subplots.AxesSubplot at 0x7f99f50b18d0>"
            ]
          },
          "metadata": {
            "tags": []
          },
          "execution_count": 195
        },
        {
          "output_type": "execute_result",
          "data": {
            "text/plain": [
              "Text(0.5, 1.0, 'Target distribution')"
            ]
          },
          "metadata": {
            "tags": []
          },
          "execution_count": 195
        },
        {
          "output_type": "display_data",
          "data": {
            "image/png": "[encoded data removed]",
            "text/plain": [
              "<Figure size 720x360 with 1 Axes>"
            ]
          },
          "metadata": {
            "tags": [],
            "needs_background": "light"
          }
        }
      ]
    },
    {
      "cell_type": "code",
      "metadata": {
        "colab": {
          "base_uri": "https://localhost:8080/",
          "height": 407
        },
        "id": "UOQ7V9u0B8Ci",
        "outputId": "8343db9e-a6df-4b78-af05-c7d202e7add6"
      },
      "source": [
        "\n",
        "train[train['target']==1]['location'].value_counts().iloc[:20].sort_values(ascending=True).plot(kind='barh',\n",
        "                                                                                                alpha=0.5,\n",
        "                                                                                                facecolor='orange', \n",
        "                                                                                                title='Top 20 Locations with more positive tweets')\n"
      ],
      "execution_count": 196,
      "outputs": [
        {
          "output_type": "execute_result",
          "data": {
            "text/plain": [
              "<matplotlib.axes._subplots.AxesSubplot at 0x7f99f506c710>"
            ]
          },
          "metadata": {
            "tags": []
          },
          "execution_count": 196
        },
        {
          "output_type": "display_data",
          "data": {
            "image/png": "[encoded data removed]",
            "text/plain": [
              "<Figure size 720x432 with 1 Axes>"
            ]
          },
          "metadata": {
            "tags": [],
            "needs_background": "light"
          }
        }
      ]
    },
    {
      "cell_type": "code",
      "metadata": {
        "colab": {
          "base_uri": "https://localhost:8080/",
          "height": 407
        },
        "id": "b5KYNs9M90Yd",
        "outputId": "787d15fa-1339-4775-807a-61908d9138f3"
      },
      "source": [
        "train[train['target']==0]['location'].value_counts().iloc[:20].sort_values(ascending=True).plot(kind='barh',\n",
        "                                                                                                alpha=0.5,\n",
        "                                                                                                facecolor='blue', \n",
        "                                                                                                title='Locations with more positive tweets')"
      ],
      "execution_count": 197,
      "outputs": [
        {
          "output_type": "execute_result",
          "data": {
            "text/plain": [
              "<matplotlib.axes._subplots.AxesSubplot at 0x7f99f4fb5e50>"
            ]
          },
          "metadata": {
            "tags": []
          },
          "execution_count": 197
        },
        {
          "output_type": "display_data",
          "data": {
            "image/png": "[encoded data removed]",
            "text/plain": [
              "<Figure size 720x432 with 1 Axes>"
            ]
          },
          "metadata": {
            "tags": [],
            "needs_background": "light"
          }
        }
      ]
    },
    {
      "cell_type": "markdown",
      "metadata": {
        "id": "0jaroW3yTux-"
      },
      "source": [
        "In location level we can see that further cleaning is needed since the same names are repeated throughout the data. "
      ]
    },
    {
      "cell_type": "code",
      "metadata": {
        "colab": {
          "base_uri": "https://localhost:8080/",
          "height": 407
        },
        "id": "R_OzflGs_umQ",
        "outputId": "116fb52e-592d-4a9b-b9b3-05e7d93d5a96"
      },
      "source": [
        "train[train['target']==1]['keyword'].value_counts().iloc[:20].sort_values(ascending=True).plot(kind='barh',alpha=0.5,\n",
        "                                                                                               facecolor='magenta',\n",
        "                                                                                               title='Top 20 keywords for negative tweets')"
      ],
      "execution_count": 198,
      "outputs": [
        {
          "output_type": "execute_result",
          "data": {
            "text/plain": [
              "<matplotlib.axes._subplots.AxesSubplot at 0x7f99f4ee8150>"
            ]
          },
          "metadata": {
            "tags": []
          },
          "execution_count": 198
        },
        {
          "output_type": "display_data",
          "data": {
            "image/png": "[encoded data removed]",
            "text/plain": [
              "<Figure size 720x432 with 1 Axes>"
            ]
          },
          "metadata": {
            "tags": [],
            "needs_background": "light"
          }
        }
      ]
    },
    {
      "cell_type": "code",
      "metadata": {
        "colab": {
          "base_uri": "https://localhost:8080/",
          "height": 407
        },
        "id": "Ese_4KCER_5j",
        "outputId": "1b8ad835-7dd2-40f7-ef70-e0b421f5fb12"
      },
      "source": [
        "train[train['target']==0]['keyword'].value_counts().iloc[:20].sort_values(ascending=True).plot(kind='barh',alpha=0.5,\n",
        "                                                                                               facecolor='purple',\n",
        "                                                                                               title='Top 20 keywords for positive tweets')"
      ],
      "execution_count": 199,
      "outputs": [
        {
          "output_type": "execute_result",
          "data": {
            "text/plain": [
              "<matplotlib.axes._subplots.AxesSubplot at 0x7f99f4f54b90>"
            ]
          },
          "metadata": {
            "tags": []
          },
          "execution_count": 199
        },
        {
          "output_type": "display_data",
          "data": {
            "image/png": "[encoded data removed]",
            "text/plain": [
              "<Figure size 720x432 with 1 Axes>"
            ]
          },
          "metadata": {
            "tags": [],
            "needs_background": "light"
          }
        }
      ]
    },
    {
      "cell_type": "markdown",
      "metadata": {
        "id": "hGumerY-TOzl"
      },
      "source": [
        "From the above graphs we can see that the keywords between negative and positive tweets cannot be distingusihed. For example the positive tweets have words that could easily reflect on a negative tweet. Thus, it seems that they can't be used to help us with the analysis"
      ]
    },
    {
      "cell_type": "markdown",
      "metadata": {
        "id": "6-htRFp8SsQG"
      },
      "source": [
        "#Text EDA"
      ]
    },
    {
      "cell_type": "markdown",
      "metadata": {
        "id": "tpvKcfTNVSq8"
      },
      "source": [
        "In the first step we saw that there are no null values in text. However, we need to test whether there are any duplicates in the data."
      ]
    },
    {
      "cell_type": "code",
      "metadata": {
        "colab": {
          "base_uri": "https://localhost:8080/",
          "height": 419
        },
        "id": "4wHtjbSoUab_",
        "outputId": "ea484ed5-aca6-4102-b1d4-bfb71cbd5d59"
      },
      "source": [
        "#check for duplicates\n",
        "pd.concat(g for _, g in train.groupby(\"text\") if len(g) > 1)"
      ],
      "execution_count": 201,
      "outputs": [
        {
          "output_type": "execute_result",
          "data": {
            "text/html": [
              "<div>\n",
              "<style scoped>\n",
              "    .dataframe tbody tr th:only-of-type {\n",
              "        vertical-align: middle;\n",
              "    }\n",
              "\n",
              "    .dataframe tbody tr th {\n",
              "        vertical-align: top;\n",
              "    }\n",
              "\n",
              "    .dataframe thead th {\n",
              "        text-align: right;\n",
              "    }\n",
              "</style>\n",
              "<table border=\"1\" class=\"dataframe\">\n",
              "  <thead>\n",
              "    <tr style=\"text-align: right;\">\n",
              "      <th></th>\n",
              "      <th>id</th>\n",
              "      <th>keyword</th>\n",
              "      <th>location</th>\n",
              "      <th>text</th>\n",
              "      <th>target</th>\n",
              "    </tr>\n",
              "  </thead>\n",
              "  <tbody>\n",
              "    <tr>\n",
              "      <th>4290</th>\n",
              "      <td>6094</td>\n",
              "      <td>hellfire</td>\n",
              "      <td>Jubail IC, Saudi Arabia.</td>\n",
              "      <td>#Allah describes piling up #wealth thinking it...</td>\n",
              "      <td>0</td>\n",
              "    </tr>\n",
              "    <tr>\n",
              "      <th>4299</th>\n",
              "      <td>6105</td>\n",
              "      <td>hellfire</td>\n",
              "      <td>?????? ??? ?????? ????????</td>\n",
              "      <td>#Allah describes piling up #wealth thinking it...</td>\n",
              "      <td>0</td>\n",
              "    </tr>\n",
              "    <tr>\n",
              "      <th>4312</th>\n",
              "      <td>6123</td>\n",
              "      <td>hellfire</td>\n",
              "      <td>?????? ???? ??????</td>\n",
              "      <td>#Allah describes piling up #wealth thinking it...</td>\n",
              "      <td>1</td>\n",
              "    </tr>\n",
              "    <tr>\n",
              "      <th>6363</th>\n",
              "      <td>9095</td>\n",
              "      <td>suicide%20bomb</td>\n",
              "      <td>Nigeria</td>\n",
              "      <td>#Bestnaijamade: 16yr old PKK suicide bomber wh...</td>\n",
              "      <td>1</td>\n",
              "    </tr>\n",
              "    <tr>\n",
              "      <th>6366</th>\n",
              "      <td>9098</td>\n",
              "      <td>suicide%20bomb</td>\n",
              "      <td>Nigeria</td>\n",
              "      <td>#Bestnaijamade: 16yr old PKK suicide bomber wh...</td>\n",
              "      <td>1</td>\n",
              "    </tr>\n",
              "    <tr>\n",
              "      <th>...</th>\n",
              "      <td>...</td>\n",
              "      <td>...</td>\n",
              "      <td>...</td>\n",
              "      <td>...</td>\n",
              "      <td>...</td>\n",
              "    </tr>\n",
              "    <tr>\n",
              "      <th>6094</th>\n",
              "      <td>8702</td>\n",
              "      <td>sinking</td>\n",
              "      <td>NaN</td>\n",
              "      <td>that horrible sinking feeling when youÛªve be...</td>\n",
              "      <td>0</td>\n",
              "    </tr>\n",
              "    <tr>\n",
              "      <th>6103</th>\n",
              "      <td>8714</td>\n",
              "      <td>sinking</td>\n",
              "      <td>NaN</td>\n",
              "      <td>that horrible sinking feeling when youÛªve be...</td>\n",
              "      <td>0</td>\n",
              "    </tr>\n",
              "    <tr>\n",
              "      <th>6123</th>\n",
              "      <td>8739</td>\n",
              "      <td>sinking</td>\n",
              "      <td>MA</td>\n",
              "      <td>that horrible sinking feeling when youÛªve be...</td>\n",
              "      <td>1</td>\n",
              "    </tr>\n",
              "    <tr>\n",
              "      <th>5620</th>\n",
              "      <td>8018</td>\n",
              "      <td>refugees</td>\n",
              "      <td>NaN</td>\n",
              "      <td>wowo--=== 12000 Nigerian refugees repatriated ...</td>\n",
              "      <td>1</td>\n",
              "    </tr>\n",
              "    <tr>\n",
              "      <th>5641</th>\n",
              "      <td>8044</td>\n",
              "      <td>refugees</td>\n",
              "      <td>NaN</td>\n",
              "      <td>wowo--=== 12000 Nigerian refugees repatriated ...</td>\n",
              "      <td>0</td>\n",
              "    </tr>\n",
              "  </tbody>\n",
              "</table>\n",
              "<p>179 rows × 5 columns</p>\n",
              "</div>"
            ],
            "text/plain": [
              "        id         keyword                    location  \\\n",
              "4290  6094        hellfire    Jubail IC, Saudi Arabia.   \n",
              "4299  6105        hellfire  ?????? ??? ?????? ????????   \n",
              "4312  6123        hellfire          ?????? ???? ??????   \n",
              "6363  9095  suicide%20bomb                     Nigeria   \n",
              "6366  9098  suicide%20bomb                     Nigeria   \n",
              "...    ...             ...                         ...   \n",
              "6094  8702         sinking                         NaN   \n",
              "6103  8714         sinking                         NaN   \n",
              "6123  8739         sinking                          MA   \n",
              "5620  8018        refugees                         NaN   \n",
              "5641  8044        refugees                         NaN   \n",
              "\n",
              "                                                   text  target  \n",
              "4290  #Allah describes piling up #wealth thinking it...       0  \n",
              "4299  #Allah describes piling up #wealth thinking it...       0  \n",
              "4312  #Allah describes piling up #wealth thinking it...       1  \n",
              "6363  #Bestnaijamade: 16yr old PKK suicide bomber wh...       1  \n",
              "6366  #Bestnaijamade: 16yr old PKK suicide bomber wh...       1  \n",
              "...                                                 ...     ...  \n",
              "6094  that horrible sinking feeling when youÛªve be...       0  \n",
              "6103  that horrible sinking feeling when youÛªve be...       0  \n",
              "6123  that horrible sinking feeling when youÛªve be...       1  \n",
              "5620  wowo--=== 12000 Nigerian refugees repatriated ...       1  \n",
              "5641  wowo--=== 12000 Nigerian refugees repatriated ...       0  \n",
              "\n",
              "[179 rows x 5 columns]"
            ]
          },
          "metadata": {
            "tags": []
          },
          "execution_count": 201
        }
      ]
    },
    {
      "cell_type": "code",
      "metadata": {
        "id": "pidpqYcrWM3p"
      },
      "source": [
        "# dropping ALL duplicte values\n",
        "train.drop_duplicates(subset =\"text\",\n",
        "                     keep = False, inplace = True)"
      ],
      "execution_count": 202,
      "outputs": []
    },
    {
      "cell_type": "code",
      "metadata": {
        "colab": {
          "base_uri": "https://localhost:8080/"
        },
        "id": "DnBayW6ZWby0",
        "outputId": "5b7c3b33-a549-4b67-b7e9-5c78a3e8ac7f"
      },
      "source": [
        "train.info() # we can see that the number of entries reduced from 7613 to 7434"
      ],
      "execution_count": 203,
      "outputs": [
        {
          "output_type": "stream",
          "text": [
            "<class 'pandas.core.frame.DataFrame'>\n",
            "Int64Index: 7434 entries, 0 to 7612\n",
            "Data columns (total 5 columns):\n",
            " #   Column    Non-Null Count  Dtype \n",
            "---  ------    --------------  ----- \n",
            " 0   id        7434 non-null   int64 \n",
            " 1   keyword   7378 non-null   object\n",
            " 2   location  4982 non-null   object\n",
            " 3   text      7434 non-null   object\n",
            " 4   target    7434 non-null   int64 \n",
            "dtypes: int64(2), object(3)\n",
            "memory usage: 348.5+ KB\n"
          ],
          "name": "stdout"
        }
      ]
    },
    {
      "cell_type": "code",
      "metadata": {
        "colab": {
          "base_uri": "https://localhost:8080/",
          "height": 624
        },
        "id": "k_gU4cVOSxSS",
        "outputId": "4b978514-b46f-4247-8a5c-a5c42ef9d312"
      },
      "source": [
        "def get_top_n_words(corpus, n=None):\n",
        "    vec = CountVectorizer().fit(corpus)\n",
        "    bag_of_words = vec.transform(corpus)\n",
        "    sum_words = bag_of_words.sum(axis=0) \n",
        "    words_freq = [(word, sum_words[0, idx]) for word, idx in vec.vocabulary_.items()]\n",
        "    words_freq =sorted(words_freq, key = lambda x: x[1], reverse=True)\n",
        "    return words_freq[:n]\n",
        "common_words = get_top_n_words(train['text'], 20)\n",
        "df1 = pd.DataFrame(common_words, columns = ['Text' , 'count'])\n",
        "\n",
        "plt.figure(figsize=(15,10))\n",
        "df1.groupby('Text').sum()['count'].sort_values(ascending=False).plot(kind='barh', \n",
        "                                                                     title= 'Top 20 words before cleaning',\n",
        "                                                                     alpha=0.5,\n",
        "                                                                     facecolor='Green')\n",
        "plt.show()"
      ],
      "execution_count": 205,
      "outputs": [
        {
          "output_type": "execute_result",
          "data": {
            "text/plain": [
              "<Figure size 1080x720 with 0 Axes>"
            ]
          },
          "metadata": {
            "tags": []
          },
          "execution_count": 205
        },
        {
          "output_type": "execute_result",
          "data": {
            "text/plain": [
              "<matplotlib.axes._subplots.AxesSubplot at 0x7f99f4dc93d0>"
            ]
          },
          "metadata": {
            "tags": []
          },
          "execution_count": 205
        },
        {
          "output_type": "display_data",
          "data": {
            "image/png": "[encoded data removed]",
            "text/plain": [
              "<Figure size 1080x720 with 1 Axes>"
            ]
          },
          "metadata": {
            "tags": [],
            "needs_background": "light"
          }
        }
      ]
    },
    {
      "cell_type": "code",
      "metadata": {
        "colab": {
          "base_uri": "https://localhost:8080/",
          "height": 624
        },
        "id": "ingue-U3XUH2",
        "outputId": "8bd182e6-fd9d-45a7-f41d-0fbe11178401"
      },
      "source": [
        "def get_top_n_bigram(corpus, n=None):\n",
        "    vec = CountVectorizer(ngram_range=(2, 2)).fit(corpus)\n",
        "    bag_of_words = vec.transform(corpus)\n",
        "    sum_words = bag_of_words.sum(axis=0) \n",
        "    words_freq = [(word, sum_words[0, idx]) for word, idx in vec.vocabulary_.items()]\n",
        "    words_freq =sorted(words_freq, key = lambda x: x[1], reverse=True)\n",
        "    return words_freq[:n]\n",
        "\n",
        "\n",
        "common_words = get_top_n_bigram(train['text'], 20)\n",
        "\n",
        "df2 = pd.DataFrame(common_words, columns = ['Text' , 'count'])\n",
        "\n",
        "plt.figure(figsize=(15,10))\n",
        "df2.groupby('Text').sum()['count'].sort_values(ascending=False).plot(\n",
        "    kind='barh', alpha=0.5,facecolor='red',title='Top 20 bigrams before cleaning')\n",
        "plt.show()"
      ],
      "execution_count": 206,
      "outputs": [
        {
          "output_type": "execute_result",
          "data": {
            "text/plain": [
              "<Figure size 1080x720 with 0 Axes>"
            ]
          },
          "metadata": {
            "tags": []
          },
          "execution_count": 206
        },
        {
          "output_type": "execute_result",
          "data": {
            "text/plain": [
              "<matplotlib.axes._subplots.AxesSubplot at 0x7f99f4911fd0>"
            ]
          },
          "metadata": {
            "tags": []
          },
          "execution_count": 206
        },
        {
          "output_type": "display_data",
          "data": {
            "image/png": "[encoded data removed]",
            "text/plain": [
              "<Figure size 1080x720 with 1 Axes>"
            ]
          },
          "metadata": {
            "tags": [],
            "needs_background": "light"
          }
        }
      ]
    },
    {
      "cell_type": "code",
      "metadata": {
        "colab": {
          "base_uri": "https://localhost:8080/",
          "height": 624
        },
        "id": "u2ySFYj5XgtJ",
        "outputId": "0d33648f-327d-4879-c991-51b82a7cee8b"
      },
      "source": [
        "def get_top_n_trigram(corpus, n=None):\n",
        "    vec = CountVectorizer(ngram_range=(3, 3)).fit(corpus)\n",
        "    bag_of_words = vec.transform(corpus)\n",
        "    sum_words = bag_of_words.sum(axis=0) \n",
        "    words_freq = [(word, sum_words[0, idx]) for word, idx in vec.vocabulary_.items()]\n",
        "    words_freq =sorted(words_freq, key = lambda x: x[1], reverse=True)\n",
        "    return words_freq[:n]\n",
        "\n",
        "\n",
        "common_words = get_top_n_trigram(train['text'], 20)\n",
        "\n",
        "df3 = pd.DataFrame(common_words, columns = ['Text' , 'count'])\n",
        "\n",
        "plt.figure(figsize=(15,10))\n",
        "df3.groupby('Text').sum()['count'].sort_values(ascending=False).plot(\n",
        "    kind='barh', alpha=0.5,facecolor='grey', title='Top 20 trigrams before cleaning')\n"
      ],
      "execution_count": 208,
      "outputs": [
        {
          "output_type": "execute_result",
          "data": {
            "text/plain": [
              "<Figure size 1080x720 with 0 Axes>"
            ]
          },
          "metadata": {
            "tags": []
          },
          "execution_count": 208
        },
        {
          "output_type": "execute_result",
          "data": {
            "text/plain": [
              "<matplotlib.axes._subplots.AxesSubplot at 0x7f99f5c22b90>"
            ]
          },
          "metadata": {
            "tags": []
          },
          "execution_count": 208
        },
        {
          "output_type": "display_data",
          "data": {
            "image/png": "[encoded data removed]",
            "text/plain": [
              "<Figure size 1080x720 with 1 Axes>"
            ]
          },
          "metadata": {
            "tags": [],
            "needs_background": "light"
          }
        }
      ]
    },
    {
      "cell_type": "markdown",
      "metadata": {
        "id": "31dVK_Srqnud"
      },
      "source": [
        "### Text Cleaning"
      ]
    },
    {
      "cell_type": "code",
      "metadata": {
        "id": "9X2iTknrQ4Tj"
      },
      "source": [
        "STOPWORDS = nltk.corpus.stopwords.words('english')\n",
        "\n",
        "def clean_text(text):\n",
        "    \"\"\"\n",
        "    Applies some pre-processing on the given text.\n",
        "\n",
        "    Steps :\n",
        "    - Removing HTML tags\n",
        "    - Removing punctuation\n",
        "    - Lowering text\n",
        "    \"\"\"\n",
        "    emoji_pattern = re.compile(\"[\"\n",
        "                           u\"\\U0001F600-\\U0001F64F\"  # emoticons\n",
        "                           u\"\\U0001F300-\\U0001F5FF\"  # symbols & pictographs\n",
        "                           u\"\\U0001F680-\\U0001F6FF\"  # transport & map symbols\n",
        "                           u\"\\U0001F1E0-\\U0001F1FF\"  # flags (iOS)\n",
        "                           u\"\\U00002702-\\U000027B0\"\n",
        "                           u\"\\U000024C2-\\U0001F251\"\n",
        "                           \"]+\", flags=re.UNICODE)\n",
        "    \n",
        "    # remove HTML tags\n",
        "    text = re.sub(r'<.*?>', '', text)\n",
        "    \n",
        "    # remove the characters [\\], ['] and [\"]\n",
        "    text = re.sub(r\"\\\\\", \"\", text)    \n",
        "    text = re.sub(r\"\\'\", \"\", text)    \n",
        "    text = re.sub(r\"\\\"\", \"\", text)\n",
        "    text = re.sub(r\"http\\S+\", \"\", text)\n",
        "    text = re.sub('[0-9]+', '', text)\n",
        "    text = re.sub(r'\\b\\w\\b', ' ', text)\n",
        "    text = re.sub('@[^\\s]+','',text)\n",
        "    text = emoji_pattern.sub(r'', text)       \n",
        "    \n",
        "    # convert text to lowercase\n",
        "    text = text.strip().lower()\n",
        "    \n",
        "    # replace punctuation characters with spaces\n",
        "    filters='!\"\\'#$%&()*+,-./:;<=>?@[\\\\]^_`{|}~\\t\\n'\n",
        "    translate_dict = dict((c, \" \") for c in filters)\n",
        "    translate_map = str.maketrans(translate_dict)\n",
        "    text = text.translate(translate_map)\n",
        "    text = ' '.join(word for word in text.split() if word not in STOPWORDS if len(word)>=3) # remove stopwords from text\n",
        "\n",
        "    return text\n",
        "\n",
        "\n",
        "def tokenize(text):\n",
        "  tokens = nltk.word_tokenize(text)\n",
        "  return tokens\n",
        "\n",
        "lemmatizer = WordNetLemmatizer()\n",
        "def lemmatize(text):\n",
        "  lem_list = [lemmatizer.lemmatize(word) for word in text]\n",
        "  return lem_list\n",
        "\n",
        "def rejoin_words(text):\n",
        "  joined_words = (\" \".join(text))\n",
        "  return joined_words"
      ],
      "execution_count": 209,
      "outputs": []
    },
    {
      "cell_type": "code",
      "metadata": {
        "id": "uCV6EG7UYDLQ"
      },
      "source": [
        "train['text']=train['text'].apply(clean_text)\n",
        "train['text']=train['text'].apply(tokenize)\n",
        "train['text']=train['text'].apply(lemmatize)\n",
        "train['text']=train['text'].apply(rejoin_words)"
      ],
      "execution_count": 210,
      "outputs": []
    },
    {
      "cell_type": "code",
      "metadata": {
        "colab": {
          "base_uri": "https://localhost:8080/",
          "height": 624
        },
        "id": "Qr_cNej4Y_fw",
        "outputId": "654c3076-ca21-417d-d73b-607808f0c984"
      },
      "source": [
        "common_words = get_top_n_words(train['text'], 20)\n",
        "df1_b = pd.DataFrame(common_words, columns = ['Text' , 'count'])\n",
        "\n",
        "plt.figure(figsize=(15,10))\n",
        "df1_b.groupby('Text').sum()['count'].sort_values(ascending=False).plot(kind='barh', \n",
        "                                                                     title= 'Top 20 words after cleaning',\n",
        "                                                                     alpha=0.5,\n",
        "                                                                     facecolor='Green')\n",
        "plt.show()"
      ],
      "execution_count": 211,
      "outputs": [
        {
          "output_type": "execute_result",
          "data": {
            "text/plain": [
              "<Figure size 1080x720 with 0 Axes>"
            ]
          },
          "metadata": {
            "tags": []
          },
          "execution_count": 211
        },
        {
          "output_type": "execute_result",
          "data": {
            "text/plain": [
              "<matplotlib.axes._subplots.AxesSubplot at 0x7f99f4b60a10>"
            ]
          },
          "metadata": {
            "tags": []
          },
          "execution_count": 211
        },
        {
          "output_type": "display_data",
          "data": {
            "image/png": "[encoded data removed]",
            "text/plain": [
              "<Figure size 1080x720 with 1 Axes>"
            ]
          },
          "metadata": {
            "tags": [],
            "needs_background": "light"
          }
        }
      ]
    },
    {
      "cell_type": "code",
      "metadata": {
        "colab": {
          "base_uri": "https://localhost:8080/",
          "height": 624
        },
        "id": "qITn2kkWZZGf",
        "outputId": "66f94278-da0b-42c3-f8bf-909869e5b3d6"
      },
      "source": [
        "common_words = get_top_n_bigram(train['text'], 20)\n",
        "\n",
        "df2_b = pd.DataFrame(common_words, columns = ['Text' , 'count'])\n",
        "\n",
        "plt.figure(figsize=(15,10))\n",
        "df2_b.groupby('Text').sum()['count'].sort_values(ascending=False).plot(\n",
        "    kind='barh', alpha=0.5,facecolor='red',title='Top 20 bigrams after cleaning')\n",
        "plt.show()"
      ],
      "execution_count": 212,
      "outputs": [
        {
          "output_type": "execute_result",
          "data": {
            "text/plain": [
              "<Figure size 1080x720 with 0 Axes>"
            ]
          },
          "metadata": {
            "tags": []
          },
          "execution_count": 212
        },
        {
          "output_type": "execute_result",
          "data": {
            "text/plain": [
              "<matplotlib.axes._subplots.AxesSubplot at 0x7f99f4873790>"
            ]
          },
          "metadata": {
            "tags": []
          },
          "execution_count": 212
        },
        {
          "output_type": "display_data",
          "data": {
            "image/png": "[encoded data removed]",
            "text/plain": [
              "<Figure size 1080x720 with 1 Axes>"
            ]
          },
          "metadata": {
            "tags": [],
            "needs_background": "light"
          }
        }
      ]
    },
    {
      "cell_type": "code",
      "metadata": {
        "colab": {
          "base_uri": "https://localhost:8080/",
          "height": 624
        },
        "id": "bKhdabaEZk0n",
        "outputId": "d942b0c2-a344-4e81-d623-5f157d2c9d7b"
      },
      "source": [
        "common_words = get_top_n_trigram(train['text'], 20)\n",
        "\n",
        "df3_b = pd.DataFrame(common_words, columns = ['Text' , 'count'])\n",
        "\n",
        "plt.figure(figsize=(15,10))\n",
        "df3_b.groupby('Text').sum()['count'].sort_values(ascending=False).plot(\n",
        "    kind='barh', alpha=0.5,facecolor='blue', title='Top 20 trigrams after cleaning')"
      ],
      "execution_count": 215,
      "outputs": [
        {
          "output_type": "execute_result",
          "data": {
            "text/plain": [
              "<Figure size 1080x720 with 0 Axes>"
            ]
          },
          "metadata": {
            "tags": []
          },
          "execution_count": 215
        },
        {
          "output_type": "execute_result",
          "data": {
            "text/plain": [
              "<matplotlib.axes._subplots.AxesSubplot at 0x7f99f4ce8950>"
            ]
          },
          "metadata": {
            "tags": []
          },
          "execution_count": 215
        },
        {
          "output_type": "display_data",
          "data": {
            "image/png": "[encoded data removed]",
            "text/plain": [
              "<Figure size 1080x720 with 1 Axes>"
            ]
          },
          "metadata": {
            "tags": [],
            "needs_background": "light"
          }
        }
      ]
    },
    {
      "cell_type": "markdown",
      "metadata": {
        "id": "k5Ihft64qr_H"
      },
      "source": [
        "### Polarity exploration"
      ]
    },
    {
      "cell_type": "code",
      "metadata": {
        "id": "38At2o9OYM30"
      },
      "source": [
        "train['polarity'] = train['text'].map(lambda text: TextBlob(text).sentiment.polarity)\n",
        "train['word_count'] = train['text'].apply(lambda x: len(str(x).split()))"
      ],
      "execution_count": 216,
      "outputs": []
    },
    {
      "cell_type": "code",
      "metadata": {
        "colab": {
          "base_uri": "https://localhost:8080/"
        },
        "id": "rRzU3-FPYZYd",
        "outputId": "106830e3-ead7-44ab-d9b9-66848d085e80"
      },
      "source": [
        "print('5 random reviews with the highest positive sentiment polarity: \\n')\n",
        "cl = train.loc[train.polarity >0, ['text']].sample(5).values\n",
        "for c in cl:\n",
        "    print(c[0])"
      ],
      "execution_count": 217,
      "outputs": [
        {
          "output_type": "stream",
          "text": [
            "5 random reviews with the highest positive sentiment polarity: \n",
            "\n",
            "new post new smb relay attack steal user credential internet\n",
            "genuine leather man bag messenger fit ipad mini tablet case cross body air full reaû\n",
            "controlled murder fine mass murder crowd undeserving people isnt case closed\n",
            "came across fire video mine enjoy fire fireman firetruck emergency rescue summertime sirensû\n",
            "thingsihate watching someone care head total destruction able anything\n"
          ],
          "name": "stdout"
        }
      ]
    },
    {
      "cell_type": "code",
      "metadata": {
        "colab": {
          "base_uri": "https://localhost:8080/"
        },
        "id": "jdywb8SkYkYt",
        "outputId": "079f3871-64a0-4caa-a763-e125fb27bc0d"
      },
      "source": [
        "print('5 random reviews with the most negative sentiment polarity: \\n')\n",
        "cl = train.loc[train.polarity < 0, ['text']].sample(5).values\n",
        "for c in cl:\n",
        "    print(c[0])"
      ],
      "execution_count": 218,
      "outputs": [
        {
          "output_type": "stream",
          "text": [
            "5 random reviews with the most negative sentiment polarity: \n",
            "\n",
            "wipp emergency activated slightly elevated level radiation sejorg\n",
            "seeing there video every fatality mileena make sad\n",
            "mad name amp dont blaze\n",
            "going achieve excellence big thing develop habit little matter dont know author\n",
            "hunger hit cant function probably wouldnt last long famine zone thank god\n"
          ],
          "name": "stdout"
        }
      ]
    },
    {
      "cell_type": "code",
      "metadata": {
        "colab": {
          "base_uri": "https://localhost:8080/"
        },
        "id": "aMJy2ZAmoSFj",
        "outputId": "780de729-59ca-4cce-8279-df006b907336"
      },
      "source": [
        "print('5 random reviews with neutral sentiment polarity: \\n')\n",
        "cl = train.loc[train.polarity == 0, ['text']].sample(5).values\n",
        "for c in cl:\n",
        "    print(c[0])"
      ],
      "execution_count": 219,
      "outputs": [
        {
          "output_type": "stream",
          "text": [
            "5 random reviews with neutral sentiment polarity: \n",
            "\n",
            "build share custom application within exchange infosec dfir threatintel\n",
            "literally almost head collision today pilot knob\n",
            "beach read august giveaway hop amp giving away book mayhem series\n",
            "god bless mudslide cake dorret\n",
            "aftershock\n"
          ],
          "name": "stdout"
        }
      ]
    },
    {
      "cell_type": "code",
      "metadata": {
        "colab": {
          "base_uri": "https://localhost:8080/"
        },
        "id": "JLH9lI7yZBJ5",
        "outputId": "72c9696c-b2c4-41b4-88ff-aeea9c74c920"
      },
      "source": [
        "train.polarity.min()"
      ],
      "execution_count": 220,
      "outputs": [
        {
          "output_type": "execute_result",
          "data": {
            "text/plain": [
              "-1.0"
            ]
          },
          "metadata": {
            "tags": []
          },
          "execution_count": 220
        }
      ]
    },
    {
      "cell_type": "code",
      "metadata": {
        "colab": {
          "base_uri": "https://localhost:8080/",
          "height": 979
        },
        "id": "7tRTVeEFZCm2",
        "outputId": "9fcaa130-4dda-4b4f-ee54-7a03a89a8781"
      },
      "source": [
        "\n",
        "train.loc[train.polarity == -1.0]\n"
      ],
      "execution_count": 225,
      "outputs": [
        {
          "output_type": "execute_result",
          "data": {
            "text/html": [
              "<div>\n",
              "<style scoped>\n",
              "    .dataframe tbody tr th:only-of-type {\n",
              "        vertical-align: middle;\n",
              "    }\n",
              "\n",
              "    .dataframe tbody tr th {\n",
              "        vertical-align: top;\n",
              "    }\n",
              "\n",
              "    .dataframe thead th {\n",
              "        text-align: right;\n",
              "    }\n",
              "</style>\n",
              "<table border=\"1\" class=\"dataframe\">\n",
              "  <thead>\n",
              "    <tr style=\"text-align: right;\">\n",
              "      <th></th>\n",
              "      <th>id</th>\n",
              "      <th>keyword</th>\n",
              "      <th>location</th>\n",
              "      <th>text</th>\n",
              "      <th>target</th>\n",
              "      <th>polarity</th>\n",
              "      <th>word_count</th>\n",
              "    </tr>\n",
              "  </thead>\n",
              "  <tbody>\n",
              "    <tr>\n",
              "      <th>143</th>\n",
              "      <td>205</td>\n",
              "      <td>airplane%20accident</td>\n",
              "      <td>Hyderabad Telangana INDIA</td>\n",
              "      <td>horrible accident man died wing airplane</td>\n",
              "      <td>1</td>\n",
              "      <td>-1.0</td>\n",
              "      <td>6</td>\n",
              "    </tr>\n",
              "    <tr>\n",
              "      <th>145</th>\n",
              "      <td>209</td>\n",
              "      <td>airplane%20accident</td>\n",
              "      <td>bangalore</td>\n",
              "      <td>horrible accident man died wing airplane watch...</td>\n",
              "      <td>1</td>\n",
              "      <td>-1.0</td>\n",
              "      <td>7</td>\n",
              "    </tr>\n",
              "    <tr>\n",
              "      <th>152</th>\n",
              "      <td>218</td>\n",
              "      <td>airplane%20accident</td>\n",
              "      <td>NaN</td>\n",
              "      <td>unbelievably insane man airport airplane aircr...</td>\n",
              "      <td>1</td>\n",
              "      <td>-1.0</td>\n",
              "      <td>10</td>\n",
              "    </tr>\n",
              "    <tr>\n",
              "      <th>153</th>\n",
              "      <td>219</td>\n",
              "      <td>airplane%20accident</td>\n",
              "      <td>Mumbai india</td>\n",
              "      <td>horrible accident man died wing airplaneåê</td>\n",
              "      <td>1</td>\n",
              "      <td>-1.0</td>\n",
              "      <td>6</td>\n",
              "    </tr>\n",
              "    <tr>\n",
              "      <th>154</th>\n",
              "      <td>220</td>\n",
              "      <td>airplane%20accident</td>\n",
              "      <td>sri lanka</td>\n",
              "      <td>horrible accident man died wing airplane</td>\n",
              "      <td>1</td>\n",
              "      <td>-1.0</td>\n",
              "      <td>6</td>\n",
              "    </tr>\n",
              "    <tr>\n",
              "      <th>162</th>\n",
              "      <td>235</td>\n",
              "      <td>airplane%20accident</td>\n",
              "      <td>India</td>\n",
              "      <td>omg horrible accident man died wing airplane</td>\n",
              "      <td>1</td>\n",
              "      <td>-1.0</td>\n",
              "      <td>7</td>\n",
              "    </tr>\n",
              "    <tr>\n",
              "      <th>166</th>\n",
              "      <td>241</td>\n",
              "      <td>airplane%20accident</td>\n",
              "      <td>Fashion Heaven. IG: TMId_</td>\n",
              "      <td>phone look like car ship airplane accident ter...</td>\n",
              "      <td>0</td>\n",
              "      <td>-1.0</td>\n",
              "      <td>8</td>\n",
              "    </tr>\n",
              "    <tr>\n",
              "      <th>426</th>\n",
              "      <td>617</td>\n",
              "      <td>arsonist</td>\n",
              "      <td>ss</td>\n",
              "      <td>trick think nasty thing</td>\n",
              "      <td>0</td>\n",
              "      <td>-1.0</td>\n",
              "      <td>4</td>\n",
              "    </tr>\n",
              "    <tr>\n",
              "      <th>454</th>\n",
              "      <td>657</td>\n",
              "      <td>attack</td>\n",
              "      <td>Freeport IL. USA</td>\n",
              "      <td>horrific attack wife muslim italy liveleak news</td>\n",
              "      <td>1</td>\n",
              "      <td>-1.0</td>\n",
              "      <td>7</td>\n",
              "    </tr>\n",
              "    <tr>\n",
              "      <th>501</th>\n",
              "      <td>726</td>\n",
              "      <td>attacked</td>\n",
              "      <td>Los Angeles, CA</td>\n",
              "      <td>worst person questioning julie attacked guy em...</td>\n",
              "      <td>0</td>\n",
              "      <td>-1.0</td>\n",
              "      <td>7</td>\n",
              "    </tr>\n",
              "    <tr>\n",
              "      <th>869</th>\n",
              "      <td>1254</td>\n",
              "      <td>blood</td>\n",
              "      <td>NaN</td>\n",
              "      <td>kinda shii nasty blood pun intended</td>\n",
              "      <td>0</td>\n",
              "      <td>-1.0</td>\n",
              "      <td>6</td>\n",
              "    </tr>\n",
              "    <tr>\n",
              "      <th>1164</th>\n",
              "      <td>1676</td>\n",
              "      <td>bridge%20collapse</td>\n",
              "      <td>New Delhi, Delhi</td>\n",
              "      <td>ash australiaûªs collapse trent bridge among ...</td>\n",
              "      <td>1</td>\n",
              "      <td>-1.0</td>\n",
              "      <td>11</td>\n",
              "    </tr>\n",
              "    <tr>\n",
              "      <th>1186</th>\n",
              "      <td>1707</td>\n",
              "      <td>bridge%20collapse</td>\n",
              "      <td>NaN</td>\n",
              "      <td>ash australiaûªs collapse trent bridge among ...</td>\n",
              "      <td>0</td>\n",
              "      <td>-1.0</td>\n",
              "      <td>11</td>\n",
              "    </tr>\n",
              "    <tr>\n",
              "      <th>2410</th>\n",
              "      <td>3469</td>\n",
              "      <td>derailed</td>\n",
              "      <td>Washington, DC</td>\n",
              "      <td>update passenger metro train derails causing t...</td>\n",
              "      <td>1</td>\n",
              "      <td>-1.0</td>\n",
              "      <td>13</td>\n",
              "    </tr>\n",
              "    <tr>\n",
              "      <th>3557</th>\n",
              "      <td>5083</td>\n",
              "      <td>famine</td>\n",
              "      <td>Massachusetts</td>\n",
              "      <td>russia destroys food people hungry one insane ...</td>\n",
              "      <td>1</td>\n",
              "      <td>-1.0</td>\n",
              "      <td>8</td>\n",
              "    </tr>\n",
              "    <tr>\n",
              "      <th>3717</th>\n",
              "      <td>5285</td>\n",
              "      <td>fear</td>\n",
              "      <td>Thibodaux, LA</td>\n",
              "      <td>worst fear</td>\n",
              "      <td>0</td>\n",
              "      <td>-1.0</td>\n",
              "      <td>2</td>\n",
              "    </tr>\n",
              "    <tr>\n",
              "      <th>3856</th>\n",
              "      <td>5486</td>\n",
              "      <td>flames</td>\n",
              "      <td>United States</td>\n",
              "      <td>ûïyou see devastation amp itûªs shocking ûï...</td>\n",
              "      <td>1</td>\n",
              "      <td>-1.0</td>\n",
              "      <td>14</td>\n",
              "    </tr>\n",
              "    <tr>\n",
              "      <th>3976</th>\n",
              "      <td>5652</td>\n",
              "      <td>flooding</td>\n",
              "      <td>Jakarta/Kuala Lumpur/S'pore</td>\n",
              "      <td>myanmar msf assisting thousand worst flooding ...</td>\n",
              "      <td>1</td>\n",
              "      <td>-1.0</td>\n",
              "      <td>10</td>\n",
              "    </tr>\n",
              "    <tr>\n",
              "      <th>4134</th>\n",
              "      <td>5881</td>\n",
              "      <td>hailstorm</td>\n",
              "      <td>Heaven</td>\n",
              "      <td>grow calgary avoids worst city wicked weather</td>\n",
              "      <td>1</td>\n",
              "      <td>-1.0</td>\n",
              "      <td>7</td>\n",
              "    </tr>\n",
              "    <tr>\n",
              "      <th>4824</th>\n",
              "      <td>6867</td>\n",
              "      <td>mass%20murder</td>\n",
              "      <td>Melbourne, Australia</td>\n",
              "      <td>hiroshima one history worst example mass murde...</td>\n",
              "      <td>1</td>\n",
              "      <td>-1.0</td>\n",
              "      <td>11</td>\n",
              "    </tr>\n",
              "    <tr>\n",
              "      <th>4849</th>\n",
              "      <td>6908</td>\n",
              "      <td>mass%20murderer</td>\n",
              "      <td>Earth-616</td>\n",
              "      <td>creel must think real moron flag man brainless...</td>\n",
              "      <td>0</td>\n",
              "      <td>-1.0</td>\n",
              "      <td>15</td>\n",
              "    </tr>\n",
              "    <tr>\n",
              "      <th>4904</th>\n",
              "      <td>6980</td>\n",
              "      <td>massacre</td>\n",
              "      <td>NaN</td>\n",
              "      <td>iof murdered palestinian child gaza massacre z...</td>\n",
              "      <td>1</td>\n",
              "      <td>-1.0</td>\n",
              "      <td>11</td>\n",
              "    </tr>\n",
              "    <tr>\n",
              "      <th>5392</th>\n",
              "      <td>7693</td>\n",
              "      <td>panic</td>\n",
              "      <td>NaN</td>\n",
              "      <td>panic attack worst</td>\n",
              "      <td>0</td>\n",
              "      <td>-1.0</td>\n",
              "      <td>3</td>\n",
              "    </tr>\n",
              "    <tr>\n",
              "      <th>5799</th>\n",
              "      <td>8278</td>\n",
              "      <td>rioting</td>\n",
              "      <td>NaN</td>\n",
              "      <td>group mascara smeared girl rioting horrific think</td>\n",
              "      <td>1</td>\n",
              "      <td>-1.0</td>\n",
              "      <td>7</td>\n",
              "    </tr>\n",
              "    <tr>\n",
              "      <th>5856</th>\n",
              "      <td>8367</td>\n",
              "      <td>ruin</td>\n",
              "      <td>Belfast</td>\n",
              "      <td>ruin something awful minion</td>\n",
              "      <td>0</td>\n",
              "      <td>-1.0</td>\n",
              "      <td>4</td>\n",
              "    </tr>\n",
              "    <tr>\n",
              "      <th>5857</th>\n",
              "      <td>8368</td>\n",
              "      <td>ruin</td>\n",
              "      <td>fujo garbage heaven</td>\n",
              "      <td>really awful cant even work make artist ruin t...</td>\n",
              "      <td>0</td>\n",
              "      <td>-1.0</td>\n",
              "      <td>9</td>\n",
              "    </tr>\n",
              "    <tr>\n",
              "      <th>6079</th>\n",
              "      <td>8685</td>\n",
              "      <td>sinkhole</td>\n",
              "      <td>ÌÏT: 42.910975,-78.865828</td>\n",
              "      <td>sewer look like sinking happens pre sinkhole g...</td>\n",
              "      <td>0</td>\n",
              "      <td>-1.0</td>\n",
              "      <td>9</td>\n",
              "    </tr>\n",
              "    <tr>\n",
              "      <th>6244</th>\n",
              "      <td>8920</td>\n",
              "      <td>snowstorm</td>\n",
              "      <td>Deployed in the Middle East</td>\n",
              "      <td>besides nasty thunderstorm snowstorm nah cant say</td>\n",
              "      <td>0</td>\n",
              "      <td>-1.0</td>\n",
              "      <td>7</td>\n",
              "    </tr>\n",
              "    <tr>\n",
              "      <th>6672</th>\n",
              "      <td>9563</td>\n",
              "      <td>thunder</td>\n",
              "      <td>South Carolina, USA</td>\n",
              "      <td>worst part seeing lightning trying guess thund...</td>\n",
              "      <td>0</td>\n",
              "      <td>-1.0</td>\n",
              "      <td>8</td>\n",
              "    </tr>\n",
              "    <tr>\n",
              "      <th>7195</th>\n",
              "      <td>10307</td>\n",
              "      <td>weapon</td>\n",
              "      <td>NaN</td>\n",
              "      <td>nuclear bomb terrible weapon</td>\n",
              "      <td>1</td>\n",
              "      <td>-1.0</td>\n",
              "      <td>4</td>\n",
              "    </tr>\n",
              "  </tbody>\n",
              "</table>\n",
              "</div>"
            ],
            "text/plain": [
              "         id              keyword                     location  \\\n",
              "143     205  airplane%20accident    Hyderabad Telangana INDIA   \n",
              "145     209  airplane%20accident                    bangalore   \n",
              "152     218  airplane%20accident                          NaN   \n",
              "153     219  airplane%20accident                 Mumbai india   \n",
              "154     220  airplane%20accident                    sri lanka   \n",
              "162     235  airplane%20accident                        India   \n",
              "166     241  airplane%20accident    Fashion Heaven. IG: TMId_   \n",
              "426     617             arsonist                           ss   \n",
              "454     657               attack             Freeport IL. USA   \n",
              "501     726             attacked              Los Angeles, CA   \n",
              "869    1254                blood                          NaN   \n",
              "1164   1676    bridge%20collapse             New Delhi, Delhi   \n",
              "1186   1707    bridge%20collapse                          NaN   \n",
              "2410   3469             derailed               Washington, DC   \n",
              "3557   5083               famine                Massachusetts   \n",
              "3717   5285                 fear                Thibodaux, LA   \n",
              "3856   5486               flames                United States   \n",
              "3976   5652             flooding  Jakarta/Kuala Lumpur/S'pore   \n",
              "4134   5881            hailstorm                       Heaven   \n",
              "4824   6867        mass%20murder         Melbourne, Australia   \n",
              "4849   6908      mass%20murderer                    Earth-616   \n",
              "4904   6980             massacre                          NaN   \n",
              "5392   7693                panic                          NaN   \n",
              "5799   8278              rioting                          NaN   \n",
              "5856   8367                 ruin                      Belfast   \n",
              "5857   8368                 ruin         fujo garbage heaven    \n",
              "6079   8685             sinkhole    ÌÏT: 42.910975,-78.865828   \n",
              "6244   8920            snowstorm  Deployed in the Middle East   \n",
              "6672   9563              thunder          South Carolina, USA   \n",
              "7195  10307               weapon                          NaN   \n",
              "\n",
              "                                                   text  target  polarity  \\\n",
              "143            horrible accident man died wing airplane       1      -1.0   \n",
              "145   horrible accident man died wing airplane watch...       1      -1.0   \n",
              "152   unbelievably insane man airport airplane aircr...       1      -1.0   \n",
              "153          horrible accident man died wing airplaneåê       1      -1.0   \n",
              "154            horrible accident man died wing airplane       1      -1.0   \n",
              "162        omg horrible accident man died wing airplane       1      -1.0   \n",
              "166   phone look like car ship airplane accident ter...       0      -1.0   \n",
              "426                             trick think nasty thing       0      -1.0   \n",
              "454     horrific attack wife muslim italy liveleak news       1      -1.0   \n",
              "501   worst person questioning julie attacked guy em...       0      -1.0   \n",
              "869                 kinda shii nasty blood pun intended       0      -1.0   \n",
              "1164  ash australiaûªs collapse trent bridge among ...       1      -1.0   \n",
              "1186  ash australiaûªs collapse trent bridge among ...       0      -1.0   \n",
              "2410  update passenger metro train derails causing t...       1      -1.0   \n",
              "3557  russia destroys food people hungry one insane ...       1      -1.0   \n",
              "3717                                         worst fear       0      -1.0   \n",
              "3856  ûïyou see devastation amp itûªs shocking ûï...       1      -1.0   \n",
              "3976  myanmar msf assisting thousand worst flooding ...       1      -1.0   \n",
              "4134      grow calgary avoids worst city wicked weather       1      -1.0   \n",
              "4824  hiroshima one history worst example mass murde...       1      -1.0   \n",
              "4849  creel must think real moron flag man brainless...       0      -1.0   \n",
              "4904  iof murdered palestinian child gaza massacre z...       1      -1.0   \n",
              "5392                                 panic attack worst       0      -1.0   \n",
              "5799  group mascara smeared girl rioting horrific think       1      -1.0   \n",
              "5856                        ruin something awful minion       0      -1.0   \n",
              "5857  really awful cant even work make artist ruin t...       0      -1.0   \n",
              "6079  sewer look like sinking happens pre sinkhole g...       0      -1.0   \n",
              "6244  besides nasty thunderstorm snowstorm nah cant say       0      -1.0   \n",
              "6672  worst part seeing lightning trying guess thund...       0      -1.0   \n",
              "7195                       nuclear bomb terrible weapon       1      -1.0   \n",
              "\n",
              "      word_count  \n",
              "143            6  \n",
              "145            7  \n",
              "152           10  \n",
              "153            6  \n",
              "154            6  \n",
              "162            7  \n",
              "166            8  \n",
              "426            4  \n",
              "454            7  \n",
              "501            7  \n",
              "869            6  \n",
              "1164          11  \n",
              "1186          11  \n",
              "2410          13  \n",
              "3557           8  \n",
              "3717           2  \n",
              "3856          14  \n",
              "3976          10  \n",
              "4134           7  \n",
              "4824          11  \n",
              "4849          15  \n",
              "4904          11  \n",
              "5392           3  \n",
              "5799           7  \n",
              "5856           4  \n",
              "5857           9  \n",
              "6079           9  \n",
              "6244           7  \n",
              "6672           8  \n",
              "7195           4  "
            ]
          },
          "metadata": {
            "tags": []
          },
          "execution_count": 225
        }
      ]
    },
    {
      "cell_type": "code",
      "metadata": {
        "colab": {
          "base_uri": "https://localhost:8080/",
          "height": 353
        },
        "id": "RcLAATp1ZI_2",
        "outputId": "cd58db7d-6fd0-4f25-d688-3d4613974e74"
      },
      "source": [
        "plt.figure(figsize=(15,5))\n",
        "train['polarity'].plot(\n",
        "    kind='hist',\n",
        "    bins=15,\n",
        "    alpha=0.5,\n",
        "    facecolor='blue',\n",
        "    title='Sentiment Polarity Distribution')\n",
        "\n",
        "plt.show()"
      ],
      "execution_count": 222,
      "outputs": [
        {
          "output_type": "execute_result",
          "data": {
            "text/plain": [
              "<Figure size 1080x360 with 0 Axes>"
            ]
          },
          "metadata": {
            "tags": []
          },
          "execution_count": 222
        },
        {
          "output_type": "execute_result",
          "data": {
            "text/plain": [
              "<matplotlib.axes._subplots.AxesSubplot at 0x7f99f41e5b50>"
            ]
          },
          "metadata": {
            "tags": []
          },
          "execution_count": 222
        },
        {
          "output_type": "display_data",
          "data": {
            "image/png": "[encoded data removed]",
            "text/plain": [
              "<Figure size 1080x360 with 1 Axes>"
            ]
          },
          "metadata": {
            "tags": [],
            "needs_background": "light"
          }
        }
      ]
    },
    {
      "cell_type": "code",
      "metadata": {
        "id": "nPW09Zfmv3mv"
      },
      "source": [
        "#analyze the wrong polarities"
      ],
      "execution_count": 120,
      "outputs": []
    },
    {
      "cell_type": "code",
      "metadata": {
        "colab": {
          "base_uri": "https://localhost:8080/"
        },
        "id": "GLWAQjH2sI4P",
        "outputId": "2b1f14f7-26a2-4959-ed9b-5be72e378e2d"
      },
      "source": [
        "cor_neg_pol = 0\n",
        "mis_neg_pol= 0\n",
        "cor_pos_pol = 0\n",
        "mis_pos_pol = 0\n",
        "for i,j in enumerate(train['polarity']):\n",
        "  if j < 0:\n",
        "    if train['target'].iloc[i]==1:\n",
        "      cor_neg_pol +=1\n",
        "    else:\n",
        "      mis_neg_pol+=1\n",
        "  if j > 0:\n",
        "    if train['target'].iloc[i]==1:\n",
        "      cor_pos_pol +=1\n",
        "    else:\n",
        "      mis_pos_pol+=1\n",
        "\n",
        "print('The correct negative classified according to polarity are:',cor_neg_pol)\n",
        "print('The wrongly negative classified according to polarity are:',mis_neg_pol)\n",
        "print(80*'-')\n",
        "print('The correct positive classified according to polarity are:',cor_pos_pol)\n",
        "print('The wrongly positive classified according to polarity are:',mis_pos_pol)"
      ],
      "execution_count": 223,
      "outputs": [
        {
          "output_type": "stream",
          "text": [
            "The correct negative classified according to polarity are: 746\n",
            "The wrongly negative classified according to polarity are: 827\n",
            "--------------------------------------------------------------------------------\n",
            "The correct positive classified according to polarity are: 797\n",
            "The wrongly positive classified according to polarity are: 1513\n"
          ],
          "name": "stdout"
        }
      ]
    },
    {
      "cell_type": "markdown",
      "metadata": {
        "id": "Ja7FrNEDbXkN"
      },
      "source": [
        "Based on polarity we can see that the majority of words classified as neutral. The more we investigate into it we can see that that there are wrong classied tweets for both categories. Thus polarity doesn't contitute a correct approach to predict disastrous tweets."
      ]
    },
    {
      "cell_type": "code",
      "metadata": {
        "colab": {
          "base_uri": "https://localhost:8080/",
          "height": 353
        },
        "id": "WG0nsmW4xhAB",
        "outputId": "ac6cef57-2720-40ff-a86c-b83e04f929f1"
      },
      "source": [
        "plt.figure(figsize=(15,5))\n",
        "train['word_count'].plot(\n",
        "    kind='hist',\n",
        "    bins=15,\n",
        "    alpha=0.5,\n",
        "    facecolor='blue',\n",
        "    title='Number of words in tweets')\n",
        "\n",
        "plt.show()\n"
      ],
      "execution_count": 227,
      "outputs": [
        {
          "output_type": "execute_result",
          "data": {
            "text/plain": [
              "<Figure size 1080x360 with 0 Axes>"
            ]
          },
          "metadata": {
            "tags": []
          },
          "execution_count": 227
        },
        {
          "output_type": "execute_result",
          "data": {
            "text/plain": [
              "<matplotlib.axes._subplots.AxesSubplot at 0x7f99f4485ad0>"
            ]
          },
          "metadata": {
            "tags": []
          },
          "execution_count": 227
        },
        {
          "output_type": "display_data",
          "data": {
            "image/png": "[encoded data removed]",
            "text/plain": [
              "<Figure size 1080x360 with 1 Axes>"
            ]
          },
          "metadata": {
            "tags": [],
            "needs_background": "light"
          }
        }
      ]
    },
    {
      "cell_type": "markdown",
      "metadata": {
        "id": "LWSSu9gUeHlA"
      },
      "source": [
        "Maybe there is a pattern that more negative tweets are generated with fewer words since people would be in some sort of a hurry when face an uncomfortable situation"
      ]
    },
    {
      "cell_type": "code",
      "metadata": {
        "id": "gRo5IiKA6PZn"
      },
      "source": [
        "neg_bel_10 = 0 #negative below 10 words\n",
        "pos_bel_10= 0 #positive below 10 words\n",
        "neg_abo_10 = 0 #negative above 10 words\n",
        "pos_abo_10 = 0 #positive above 10 words\n",
        "for i,j in enumerate(train['word_count']):\n",
        "  if j < 10:\n",
        "    if train['target'].iloc[i]==1:\n",
        "      neg_bel_10 +=1\n",
        "    else:\n",
        "      pos_bel_10+=1\n",
        "  if j > 10:\n",
        "    if train['target'].iloc[i]==1:\n",
        "      neg_abo_10 +=1\n",
        "    else:\n",
        "      pos_abo_10+=1"
      ],
      "execution_count": 228,
      "outputs": []
    },
    {
      "cell_type": "code",
      "metadata": {
        "colab": {
          "base_uri": "https://localhost:8080/"
        },
        "id": "mGQ6tmsydFDv",
        "outputId": "531991a7-ea1a-446d-8d53-9b2cfb5743d8"
      },
      "source": [
        "print('Negative tweets below 10 words:',neg_bel_10)\n",
        "print('Positive tweets below 10 words:',pos_bel_10)\n",
        "print(80*'-')\n",
        "print('Negative tweets above 10 words:',neg_abo_10)\n",
        "print('Positive tweets below 10 words:',pos_abo_10)"
      ],
      "execution_count": 231,
      "outputs": [
        {
          "output_type": "stream",
          "text": [
            "Negative tweets below 10 words: 1763\n",
            "Positive tweets below 10 words: 2698\n",
            "--------------------------------------------------------------------------------\n",
            "Negative tweets above 10 words: 1064\n",
            "Positive tweets below 10 words: 1238\n"
          ],
          "name": "stdout"
        }
      ]
    },
    {
      "cell_type": "markdown",
      "metadata": {
        "id": "w8YgeTSpeY5t"
      },
      "source": [
        "From the above results it seems that no pattern links the length of tweets with their category"
      ]
    },
    {
      "cell_type": "markdown",
      "metadata": {
        "id": "2T8D1x6ke7Vz"
      },
      "source": [
        "From the analysis above we can conclude that keyword, country and id are not useful for detecting the tweet positivity thus, we will exclude them in order to proceed further"
      ]
    }
  ]
}